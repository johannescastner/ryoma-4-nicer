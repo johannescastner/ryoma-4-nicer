{
 "cells": [
  {
   "cell_type": "code",
   "execution_count": 2,
   "metadata": {
    "collapsed": true
   },
   "outputs": [],
   "source": [
    "import os\n",
    "\n",
    "# Set up the Snowflake and PostgreSQL data sources\n",
    "SNOWFLAKE_USER = os.environ.get(\"SNOWFLAKE_USER\")\n",
    "SNOWFLAKE_PASSWORD = os.environ.get(\"SNOWFLAKE_PASSWORD\")\n",
    "SNOWFLAKE_ACCOUNT = os.environ.get(\"SNOWFLAKE_ACCOUNT\")\n",
    "SNOWFLAKE_WAREHOUSE = os.environ.get(\"SNOWFLAKE_WAREHOUSE\")\n",
    "SNOWFLAKE_DATABASE = os.environ.get(\"SNOWFLAKE_DATABASE\")\n",
    "SNOWFLAKE_SCHEMA = os.environ.get(\"SNOWFLAKE_SCHEMA\")\n",
    "SNOWFLAKE_ROLE = os.environ.get(\"SNOWFLAKE_ROLE\")"
   ]
  },
  {
   "cell_type": "code",
   "execution_count": 5,
   "outputs": [],
   "source": [
    "from aita.datasource.snowflake import SnowflakeDataSource\n",
    "\n",
    "sf_datasource = SnowflakeDataSource(\n",
    "    user=SNOWFLAKE_USER,\n",
    "    password=SNOWFLAKE_PASSWORD,\n",
    "    account=SNOWFLAKE_ACCOUNT,\n",
    "    warehouse=SNOWFLAKE_WAREHOUSE,\n",
    "    database=SNOWFLAKE_DATABASE,\n",
    "    db_schema=SNOWFLAKE_SCHEMA,\n",
    "    role=\"ACCOUNTADMIN\",\n",
    ")"
   ],
   "metadata": {
    "collapsed": false
   }
  },
  {
   "cell_type": "code",
   "execution_count": 6,
   "outputs": [
    {
     "data": {
      "text/plain": "   O_ORDERKEY  O_CUSTKEY O_ORDERSTATUS O_TOTALPRICE O_ORDERDATE  \\\n0     3000001     145618             F     30175.88  1992-12-17   \n1     3000002       1481             O    297999.63  1995-07-28   \n2     3000003     127432             O    345438.38  1997-11-04   \n\n   O_ORDERPRIORITY          O_CLERK  O_SHIPPRIORITY  \\\n0  4-NOT SPECIFIED  Clerk#000000141               0   \n1         1-URGENT  Clerk#000000547               0   \n2            5-LOW  Clerk#000000488               0   \n\n                                           O_COMMENT  \n0  l packages. furiously careful instructions gro...  \n1                      carefully unusual dependencie  \n2  n packages boost slyly bold deposits. deposits...  ",
      "text/html": "<div>\n<style scoped>\n    .dataframe tbody tr th:only-of-type {\n        vertical-align: middle;\n    }\n\n    .dataframe tbody tr th {\n        vertical-align: top;\n    }\n\n    .dataframe thead th {\n        text-align: right;\n    }\n</style>\n<table border=\"1\" class=\"dataframe\">\n  <thead>\n    <tr style=\"text-align: right;\">\n      <th></th>\n      <th>O_ORDERKEY</th>\n      <th>O_CUSTKEY</th>\n      <th>O_ORDERSTATUS</th>\n      <th>O_TOTALPRICE</th>\n      <th>O_ORDERDATE</th>\n      <th>O_ORDERPRIORITY</th>\n      <th>O_CLERK</th>\n      <th>O_SHIPPRIORITY</th>\n      <th>O_COMMENT</th>\n    </tr>\n  </thead>\n  <tbody>\n    <tr>\n      <th>0</th>\n      <td>3000001</td>\n      <td>145618</td>\n      <td>F</td>\n      <td>30175.88</td>\n      <td>1992-12-17</td>\n      <td>4-NOT SPECIFIED</td>\n      <td>Clerk#000000141</td>\n      <td>0</td>\n      <td>l packages. furiously careful instructions gro...</td>\n    </tr>\n    <tr>\n      <th>1</th>\n      <td>3000002</td>\n      <td>1481</td>\n      <td>O</td>\n      <td>297999.63</td>\n      <td>1995-07-28</td>\n      <td>1-URGENT</td>\n      <td>Clerk#000000547</td>\n      <td>0</td>\n      <td>carefully unusual dependencie</td>\n    </tr>\n    <tr>\n      <th>2</th>\n      <td>3000003</td>\n      <td>127432</td>\n      <td>O</td>\n      <td>345438.38</td>\n      <td>1997-11-04</td>\n      <td>5-LOW</td>\n      <td>Clerk#000000488</td>\n      <td>0</td>\n      <td>n packages boost slyly bold deposits. deposits...</td>\n    </tr>\n  </tbody>\n</table>\n</div>"
     },
     "execution_count": 6,
     "metadata": {},
     "output_type": "execute_result"
    }
   ],
   "source": [
    "sf_datasource.execute(\"select * from SNOWFLAKE_SAMPLE_DATA.TPCH_SF1.orders limit 3\")"
   ],
   "metadata": {
    "collapsed": false
   }
  },
  {
   "cell_type": "code",
   "execution_count": null,
   "outputs": [],
   "source": [],
   "metadata": {
    "collapsed": false
   }
  }
 ],
 "metadata": {
  "kernelspec": {
   "display_name": "Python 3",
   "language": "python",
   "name": "python3"
  },
  "language_info": {
   "codemirror_mode": {
    "name": "ipython",
    "version": 2
   },
   "file_extension": ".py",
   "mimetype": "text/x-python",
   "name": "python",
   "nbconvert_exporter": "python",
   "pygments_lexer": "ipython2",
   "version": "2.7.6"
  }
 },
 "nbformat": 4,
 "nbformat_minor": 0
}
