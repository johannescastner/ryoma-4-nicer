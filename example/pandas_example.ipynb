{
 "cells": [
  {
   "cell_type": "code",
   "execution_count": 1,
   "metadata": {
    "collapsed": true
   },
   "outputs": [],
   "source": [
    "import pandas as pd\n",
    "\n",
    "import os\n",
    "from aita.agent.pandas import PandasAgent\n",
    "from aita.datasource.snowflake import SnowflakeDataSource\n",
    "from aita.prompt.base import BasicDataSourcePromptTemplate"
   ]
  },
  {
   "cell_type": "code",
   "execution_count": 2,
   "outputs": [],
   "source": [
    "SNOWFLAKE_USER = os.environ.get(\"SNOWFLAKE_USER\")\n",
    "SNOWFLAKE_PASSWORD = os.environ.get(\"SNOWFLAKE_PASSWORD\")\n",
    "SNOWFLAKE_ACCOUNT = os.environ.get(\"SNOWFLAKE_ACCOUNT\")\n",
    "SNOWFLAKE_WAREHOUSE = os.environ.get(\"SNOWFLAKE_WAREHOUSE\")\n",
    "SNOWFLAKE_DATABASE = os.environ.get(\"SNOWFLAKE_DATABASE\")\n",
    "SNOWFLAKE_SCHEMA = os.environ.get(\"SNOWFLAKE_SCHEMA\")\n",
    "SNOWFLAKE_ROLE = os.environ.get(\"SNOWFLAKE_ROLE\")"
   ],
   "metadata": {
    "collapsed": false
   }
  },
  {
   "cell_type": "code",
   "execution_count": 3,
   "outputs": [],
   "source": [
    "sf_datasource = SnowflakeDataSource(\n",
    "    user=SNOWFLAKE_USER,\n",
    "    password=SNOWFLAKE_PASSWORD,\n",
    "    account=SNOWFLAKE_ACCOUNT,\n",
    "    warehouse=SNOWFLAKE_WAREHOUSE,\n",
    "    database=SNOWFLAKE_DATABASE,\n",
    "    schema=SNOWFLAKE_SCHEMA,\n",
    "    role=SNOWFLAKE_ROLE,\n",
    ")"
   ],
   "metadata": {
    "collapsed": false
   }
  },
  {
   "cell_type": "code",
   "execution_count": 4,
   "outputs": [],
   "source": [
    "pandas_agent = (\n",
    "    PandasAgent(\"gpt-3.5-turbo\")\n",
    "    .set_base_prompt_template(BasicDataSourcePromptTemplate)\n",
    "    .add_datasource(sf_datasource)\n",
    ")"
   ],
   "metadata": {
    "collapsed": false
   }
  },
  {
   "cell_type": "code",
   "execution_count": 5,
   "outputs": [
    {
     "name": "stdout",
     "output_type": "stream",
     "text": [
      "================================\u001b[1m Human Message \u001b[0m=================================\n",
      "\n",
      "get the first 2 rows of the data using pandas\n",
      "==================================\u001b[1m Ai Message \u001b[0m==================================\n",
      "Tool Calls:\n",
      "  convert_to_pandas (call_UXwZeNfcizgHWYW7hgWr44ud)\n",
      " Call ID: call_UXwZeNfcizgHWYW7hgWr44ud\n",
      "  Args:\n",
      "    query: SELECT * FROM SNOWFLAKE_SAMPLE_DATA.TPCH_SF1.ORDERS LIMIT 2;\n"
     ]
    },
    {
     "data": {
      "text/plain": "<generator object Pregel.stream at 0x12fb1a340>"
     },
     "execution_count": 5,
     "metadata": {},
     "output_type": "execute_result"
    }
   ],
   "source": [
    "pandas_agent.chat(\"get the first 2 rows of the data using pandas\")"
   ],
   "metadata": {
    "collapsed": false
   }
  },
  {
   "cell_type": "code",
   "execution_count": 6,
   "outputs": [],
   "source": [
    "df = pandas_agent.call_tool(\"convert_to_pandas\", tool_id=\"call_UXwZeNfcizgHWYW7hgWr44ud\")"
   ],
   "metadata": {
    "collapsed": false
   }
  },
  {
   "cell_type": "code",
   "execution_count": 7,
   "outputs": [
    {
     "data": {
      "text/plain": "  O_ORDERKEY O_CUSTKEY O_ORDERSTATUS O_TOTALPRICE O_ORDERDATE  \\\n0    3000001    145618             F     30175.88  1992-12-17   \n1    3000002      1481             O    297999.63  1995-07-28   \n\n   O_ORDERPRIORITY          O_CLERK O_SHIPPRIORITY  \\\n0  4-NOT SPECIFIED  Clerk#000000141              0   \n1         1-URGENT  Clerk#000000547              0   \n\n                                           O_COMMENT  \n0  l packages. furiously careful instructions gro...  \n1                      carefully unusual dependencie  ",
      "text/html": "<div>\n<style scoped>\n    .dataframe tbody tr th:only-of-type {\n        vertical-align: middle;\n    }\n\n    .dataframe tbody tr th {\n        vertical-align: top;\n    }\n\n    .dataframe thead th {\n        text-align: right;\n    }\n</style>\n<table border=\"1\" class=\"dataframe\">\n  <thead>\n    <tr style=\"text-align: right;\">\n      <th></th>\n      <th>O_ORDERKEY</th>\n      <th>O_CUSTKEY</th>\n      <th>O_ORDERSTATUS</th>\n      <th>O_TOTALPRICE</th>\n      <th>O_ORDERDATE</th>\n      <th>O_ORDERPRIORITY</th>\n      <th>O_CLERK</th>\n      <th>O_SHIPPRIORITY</th>\n      <th>O_COMMENT</th>\n    </tr>\n  </thead>\n  <tbody>\n    <tr>\n      <th>0</th>\n      <td>3000001</td>\n      <td>145618</td>\n      <td>F</td>\n      <td>30175.88</td>\n      <td>1992-12-17</td>\n      <td>4-NOT SPECIFIED</td>\n      <td>Clerk#000000141</td>\n      <td>0</td>\n      <td>l packages. furiously careful instructions gro...</td>\n    </tr>\n    <tr>\n      <th>1</th>\n      <td>3000002</td>\n      <td>1481</td>\n      <td>O</td>\n      <td>297999.63</td>\n      <td>1995-07-28</td>\n      <td>1-URGENT</td>\n      <td>Clerk#000000547</td>\n      <td>0</td>\n      <td>carefully unusual dependencie</td>\n    </tr>\n  </tbody>\n</table>\n</div>"
     },
     "execution_count": 7,
     "metadata": {},
     "output_type": "execute_result"
    }
   ],
   "source": [
    "df.head()"
   ],
   "metadata": {
    "collapsed": false
   }
  },
  {
   "cell_type": "code",
   "execution_count": 8,
   "outputs": [
    {
     "name": "stdout",
     "output_type": "stream",
     "text": [
      "=================================\u001b[1m Tool Message \u001b[0m=================================\n",
      "Name: convert_to_pandas\n",
      "\n",
      "  O_ORDERKEY O_CUSTKEY O_ORDERSTATUS O_TOTALPRICE O_ORDERDATE  \\\n",
      "0    3000001    145618             F     30175.88  1992-12-17   \n",
      "1    3000002      1481             O    297999.63  1995-07-28   \n",
      "\n",
      "   O_ORDERPRIORITY          O_CLERK O_SHIPPRIORITY  \\\n",
      "0  4-NOT SPECIFIED  Clerk#000000141              0   \n",
      "1         1-URGENT  Clerk#000000547              0   \n",
      "\n",
      "                                           O_COMMENT  \n",
      "0  l packages. furiously careful instructions gro...  \n",
      "1                      carefully unusual dependencie  \n",
      "==================================\u001b[1m Ai Message \u001b[0m==================================\n",
      "\n",
      "The first 2 rows of the data from the \"ORDERS\" table are as follows:\n",
      "\n",
      "| O_ORDERKEY | O_CUSTKEY | O_ORDERSTATUS | O_TOTALPRICE | O_ORDERDATE | O_ORDERPRIORITY | O_CLERK | O_SHIPPRIORITY | O_COMMENT |\n",
      "|------------|-----------|---------------|--------------|-------------|-----------------|---------|-----------------|-----------|\n",
      "| 3000001 | 145618 | F | 30175.88 | 1992-12-17 | 4-NOT SPECIFIED | Clerk#000000141 | 0 | l packages. furiously careful instructions gro... |\n",
      "| 3000002 | 1481 | O | 297999.63 | 1995-07-28 | 1-URGENT | Clerk#000000547 | 0 | carefully unusual dependencie |\n"
     ]
    },
    {
     "data": {
      "text/plain": "<generator object Pregel.stream at 0x12ff10a70>"
     },
     "execution_count": 8,
     "metadata": {},
     "output_type": "execute_result"
    }
   ],
   "source": [
    "pandas_agent.chat(allow_run_tool=True)"
   ],
   "metadata": {
    "collapsed": false
   }
  },
  {
   "cell_type": "code",
   "execution_count": 3,
   "outputs": [],
   "source": [
    "df = pd.DataFrame(\n",
    "    {\n",
    "        \"c_custkey\": [1, 2, 3, 4, 5],\n",
    "        \"c_name\": [\"Alice\", \"Bob\", \"Charlie\", \"David\", \"Eve\"],\n",
    "        \"total_purchase\": [100, 200, 300, 400, 500],\n",
    "    }\n",
    ")"
   ],
   "metadata": {
    "collapsed": false
   }
  },
  {
   "cell_type": "code",
   "execution_count": 4,
   "outputs": [],
   "source": [
    "pandas_agent = (\n",
    "    PandasAgent(\"gpt-3.5-turbo\").set_prompt_context(BasicDataSourcePromptTemplate).add_dataframe(df)\n",
    ")"
   ],
   "metadata": {
    "collapsed": false
   }
  },
  {
   "cell_type": "code",
   "execution_count": 5,
   "outputs": [
    {
     "name": "stdout",
     "output_type": "stream",
     "text": [
      "================================\u001b[1m Human Message \u001b[0m=================================\n",
      "\n",
      "get the first 2 rows of the data using pandas\n",
      "==================================\u001b[1m Ai Message \u001b[0m==================================\n",
      "Tool Calls:\n",
      "  pandas_tool (call_BcA17nIA0D6YZotG5sh44h2s)\n",
      " Call ID: call_BcA17nIA0D6YZotG5sh44h2s\n",
      "  Args:\n",
      "    script: df_6228688864.head(2)\n"
     ]
    },
    {
     "data": {
      "text/plain": "<generator object Pregel.stream at 0x173d38310>"
     },
     "execution_count": 5,
     "metadata": {},
     "output_type": "execute_result"
    }
   ],
   "source": [
    "pandas_agent.stream(\"get the first 2 rows of the data using pandas\")"
   ],
   "metadata": {
    "collapsed": false
   }
  },
  {
   "cell_type": "code",
   "execution_count": 6,
   "outputs": [
    {
     "data": {
      "text/plain": "   c_custkey c_name  total_purchase\n0          1  Alice             100\n1          2    Bob             200",
      "text/html": "<div>\n<style scoped>\n    .dataframe tbody tr th:only-of-type {\n        vertical-align: middle;\n    }\n\n    .dataframe tbody tr th {\n        vertical-align: top;\n    }\n\n    .dataframe thead th {\n        text-align: right;\n    }\n</style>\n<table border=\"1\" class=\"dataframe\">\n  <thead>\n    <tr style=\"text-align: right;\">\n      <th></th>\n      <th>c_custkey</th>\n      <th>c_name</th>\n      <th>total_purchase</th>\n    </tr>\n  </thead>\n  <tbody>\n    <tr>\n      <th>0</th>\n      <td>1</td>\n      <td>Alice</td>\n      <td>100</td>\n    </tr>\n    <tr>\n      <th>1</th>\n      <td>2</td>\n      <td>Bob</td>\n      <td>200</td>\n    </tr>\n  </tbody>\n</table>\n</div>"
     },
     "execution_count": 6,
     "metadata": {},
     "output_type": "execute_result"
    },
    {
     "name": "stdout",
     "output_type": "stream",
     "text": [
      "================================\u001b[1m Human Message \u001b[0m=================================\n",
      "\n",
      "get the first 2 rows of the data using pandas\n",
      "==================================\u001b[1m Ai Message \u001b[0m==================================\n",
      "Tool Calls:\n",
      "  pandas_tool (call_BcA17nIA0D6YZotG5sh44h2s)\n",
      " Call ID: call_BcA17nIA0D6YZotG5sh44h2s\n",
      "  Args:\n",
      "    script: df_6228688864.head(2)\n",
      "=================================\u001b[1m Tool Message \u001b[0m=================================\n",
      "Name: pandas_tool\n",
      "\n",
      "<ExecutionResult object at 174327d10, execution_count=None error_before_exec=None error_in_exec=None info=<ExecutionInfo object at 174327da0, raw_cell=\"df_6228688864.head(2)\" store_history=False silent=False shell_futures=True cell_id=None> result=   c_custkey c_name  total_purchase\n",
      "0          1  Alice             100\n",
      "1          2    Bob             200>\n",
      "==================================\u001b[1m Ai Message \u001b[0m==================================\n",
      "\n",
      "The first 2 rows of the data are as follows:\n",
      "\n",
      "| c_custkey | c_name | total_purchase |\n",
      "|-----------|--------|----------------|\n",
      "| 1         | Alice  | 100            |\n",
      "| 2         | Bob    | 200            |\n"
     ]
    },
    {
     "data": {
      "text/plain": "<generator object Pregel.stream at 0x10be256d0>"
     },
     "execution_count": 6,
     "metadata": {},
     "output_type": "execute_result"
    }
   ],
   "source": [
    "pandas_agent.stream(tool_mode=\"once\")"
   ],
   "metadata": {
    "collapsed": false
   }
  },
  {
   "cell_type": "code",
   "execution_count": 8,
   "outputs": [
    {
     "name": "stdout",
     "output_type": "stream",
     "text": [
      "================================\u001b[1m Human Message \u001b[0m=================================\n",
      "\n",
      "get the first 2 rows of the data using pandas\n",
      "==================================\u001b[1m Ai Message \u001b[0m==================================\n",
      "Tool Calls:\n",
      "  pandas_tool (call_BcA17nIA0D6YZotG5sh44h2s)\n",
      " Call ID: call_BcA17nIA0D6YZotG5sh44h2s\n",
      "  Args:\n",
      "    script: df_6228688864.head(2)\n",
      "=================================\u001b[1m Tool Message \u001b[0m=================================\n",
      "Name: pandas_tool\n",
      "\n",
      "<ExecutionResult object at 174327d10, execution_count=None error_before_exec=None error_in_exec=None info=<ExecutionInfo object at 174327da0, raw_cell=\"df_6228688864.head(2)\" store_history=False silent=False shell_futures=True cell_id=None> result=   c_custkey c_name  total_purchase\n",
      "0          1  Alice             100\n",
      "1          2    Bob             200>\n",
      "==================================\u001b[1m Ai Message \u001b[0m==================================\n",
      "\n",
      "The first 2 rows of the data are as follows:\n",
      "\n",
      "| c_custkey | c_name | total_purchase |\n",
      "|-----------|--------|----------------|\n",
      "| 1         | Alice  | 100            |\n",
      "| 2         | Bob    | 200            |\n",
      "================================\u001b[1m Human Message \u001b[0m=================================\n",
      "\n",
      "get the first 2 rows of the data using pandas\n",
      "==================================\u001b[1m Ai Message \u001b[0m==================================\n",
      "Tool Calls:\n",
      "  pandas_tool (call_7EdbGXbzdUkTW6duRElQtos1)\n",
      " Call ID: call_7EdbGXbzdUkTW6duRElQtos1\n",
      "  Args:\n",
      "    script: df_6228688864.head(2)\n",
      "Iteration 1\n"
     ]
    },
    {
     "data": {
      "text/plain": "   c_custkey c_name  total_purchase\n0          1  Alice             100\n1          2    Bob             200",
      "text/html": "<div>\n<style scoped>\n    .dataframe tbody tr th:only-of-type {\n        vertical-align: middle;\n    }\n\n    .dataframe tbody tr th {\n        vertical-align: top;\n    }\n\n    .dataframe thead th {\n        text-align: right;\n    }\n</style>\n<table border=\"1\" class=\"dataframe\">\n  <thead>\n    <tr style=\"text-align: right;\">\n      <th></th>\n      <th>c_custkey</th>\n      <th>c_name</th>\n      <th>total_purchase</th>\n    </tr>\n  </thead>\n  <tbody>\n    <tr>\n      <th>0</th>\n      <td>1</td>\n      <td>Alice</td>\n      <td>100</td>\n    </tr>\n    <tr>\n      <th>1</th>\n      <td>2</td>\n      <td>Bob</td>\n      <td>200</td>\n    </tr>\n  </tbody>\n</table>\n</div>"
     },
     "execution_count": 8,
     "metadata": {},
     "output_type": "execute_result"
    },
    {
     "name": "stdout",
     "output_type": "stream",
     "text": [
      "=================================\u001b[1m Tool Message \u001b[0m=================================\n",
      "Name: pandas_tool\n",
      "\n",
      "<ExecutionResult object at 172792330, execution_count=None error_before_exec=None error_in_exec=None info=<ExecutionInfo object at 172792420, raw_cell=\"df_6228688864.head(2)\" store_history=False silent=False shell_futures=True cell_id=None> result=   c_custkey c_name  total_purchase\n",
      "0          1  Alice             100\n",
      "1          2    Bob             200>\n",
      "==================================\u001b[1m Ai Message \u001b[0m==================================\n",
      "\n",
      "The first 2 rows of the data are as follows:\n",
      "\n",
      "| c_custkey | c_name | total_purchase |\n",
      "|-----------|--------|----------------|\n",
      "| 1         | Alice  | 100            |\n",
      "| 2         | Bob    | 200            |\n"
     ]
    },
    {
     "data": {
      "text/plain": "<generator object Pregel.stream at 0x10bea3d40>"
     },
     "execution_count": 8,
     "metadata": {},
     "output_type": "execute_result"
    }
   ],
   "source": [
    "pandas_agent.stream(\"get the first 2 rows of the data using pandas\", tool_mode=\"continuous\")"
   ],
   "metadata": {
    "collapsed": false
   }
  },
  {
   "cell_type": "code",
   "execution_count": 9,
   "outputs": [],
   "source": [
    "from langchain_core.output_parsers.openai_tools import PydanticToolsParser\n",
    "from langchain_core.pydantic_v1 import BaseModel, Field"
   ],
   "metadata": {
    "collapsed": false
   }
  },
  {
   "cell_type": "code",
   "execution_count": 10,
   "outputs": [],
   "source": [
    "class AnswerQuestion(BaseModel):\n",
    "    answer: str = Field(description=\"The answer to the question\")"
   ],
   "metadata": {
    "collapsed": false
   }
  }
 ],
 "metadata": {
  "kernelspec": {
   "display_name": "Python 3",
   "language": "python",
   "name": "python3"
  },
  "language_info": {
   "codemirror_mode": {
    "name": "ipython",
    "version": 2
   },
   "file_extension": ".py",
   "mimetype": "text/x-python",
   "name": "python",
   "nbconvert_exporter": "python",
   "pygments_lexer": "ipython2",
   "version": "2.7.6"
  }
 },
 "nbformat": 4,
 "nbformat_minor": 0
}
