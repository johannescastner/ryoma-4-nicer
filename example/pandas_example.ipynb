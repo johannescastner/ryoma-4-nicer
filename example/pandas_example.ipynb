{
 "cells": [
  {
   "cell_type": "code",
   "execution_count": 5,
   "metadata": {
    "collapsed": true
   },
   "outputs": [],
   "source": [
    "import pandas as pd\n",
    "\n",
    "import os\n",
    "from aita.agent.pandas import PandasAgent\n",
    "from aita.datasource.snowflake import SnowflakeDataSource\n",
    "from aita.prompt.base import BasicDataSourcePromptTemplate"
   ]
  },
  {
   "cell_type": "code",
   "execution_count": 2,
   "outputs": [],
   "source": [
    "SNOWFLAKE_USER = os.environ.get(\"SNOWFLAKE_USER\")\n",
    "SNOWFLAKE_PASSWORD = os.environ.get(\"SNOWFLAKE_PASSWORD\")\n",
    "SNOWFLAKE_ACCOUNT = os.environ.get(\"SNOWFLAKE_ACCOUNT\")\n",
    "SNOWFLAKE_WAREHOUSE = os.environ.get(\"SNOWFLAKE_WAREHOUSE\")\n",
    "SNOWFLAKE_DATABASE = os.environ.get(\"SNOWFLAKE_DATABASE\")\n",
    "SNOWFLAKE_SCHEMA = os.environ.get(\"SNOWFLAKE_SCHEMA\")\n",
    "SNOWFLAKE_ROLE = os.environ.get(\"SNOWFLAKE_ROLE\")"
   ],
   "metadata": {
    "collapsed": false
   }
  },
  {
   "cell_type": "code",
   "execution_count": 3,
   "outputs": [],
   "source": [
    "sf_datasource = SnowflakeDataSource(\n",
    "    user=SNOWFLAKE_USER,\n",
    "    password=SNOWFLAKE_PASSWORD,\n",
    "    account=SNOWFLAKE_ACCOUNT,\n",
    "    warehouse=SNOWFLAKE_WAREHOUSE,\n",
    "    database=SNOWFLAKE_DATABASE,\n",
    "    schema=SNOWFLAKE_SCHEMA,\n",
    "    role=SNOWFLAKE_ROLE,\n",
    ")"
   ],
   "metadata": {
    "collapsed": false
   }
  },
  {
   "cell_type": "code",
   "execution_count": 4,
   "outputs": [],
   "source": [
    "pandas_agent = (\n",
    "    PandasAgent(\"gpt-3.5-turbo\")\n",
    "    .set_prompt_template(BasicDataSourcePromptTemplate)\n",
    "    .add_datasource(sf_datasource)\n",
    ")"
   ],
   "metadata": {
    "collapsed": false
   }
  },
  {
   "cell_type": "code",
   "execution_count": 5,
   "outputs": [
    {
     "name": "stdout",
     "output_type": "stream",
     "text": [
      "================================\u001B[1m Human Message \u001B[0m=================================\n",
      "\n",
      "get the first 2 rows of the data using pandas\n",
      "==================================\u001B[1m Ai Message \u001B[0m==================================\n",
      "Tool Calls:\n",
      "  convert_to_pandas (call_UXwZeNfcizgHWYW7hgWr44ud)\n",
      " Call ID: call_UXwZeNfcizgHWYW7hgWr44ud\n",
      "  Args:\n",
      "    query: SELECT * FROM SNOWFLAKE_SAMPLE_DATA.TPCH_SF1.ORDERS LIMIT 2;\n"
     ]
    },
    {
     "data": {
      "text/plain": "<generator object Pregel.stream at 0x12fb1a340>"
     },
     "execution_count": 5,
     "metadata": {},
     "output_type": "execute_result"
    }
   ],
   "source": [
    "pandas_agent.stream(\"get the first 2 rows of the data using pandas\")"
   ],
   "metadata": {
    "collapsed": false
   }
  },
  {
   "cell_type": "code",
   "execution_count": 6,
   "outputs": [],
   "source": [
    "df = pandas_agent.call_tool(\"convert_to_pandas\", tool_id=\"call_UXwZeNfcizgHWYW7hgWr44ud\")"
   ],
   "metadata": {
    "collapsed": false
   }
  },
  {
   "cell_type": "code",
   "execution_count": 7,
   "outputs": [
    {
     "data": {
      "text/plain": "  O_ORDERKEY O_CUSTKEY O_ORDERSTATUS O_TOTALPRICE O_ORDERDATE  \\\n0    3000001    145618             F     30175.88  1992-12-17   \n1    3000002      1481             O    297999.63  1995-07-28   \n\n   O_ORDERPRIORITY          O_CLERK O_SHIPPRIORITY  \\\n0  4-NOT SPECIFIED  Clerk#000000141              0   \n1         1-URGENT  Clerk#000000547              0   \n\n                                           O_COMMENT  \n0  l packages. furiously careful instructions gro...  \n1                      carefully unusual dependencie  ",
      "text/html": "<div>\n<style scoped>\n    .dataframe tbody tr th:only-of-type {\n        vertical-align: middle;\n    }\n\n    .dataframe tbody tr th {\n        vertical-align: top;\n    }\n\n    .dataframe thead th {\n        text-align: right;\n    }\n</style>\n<table border=\"1\" class=\"dataframe\">\n  <thead>\n    <tr style=\"text-align: right;\">\n      <th></th>\n      <th>O_ORDERKEY</th>\n      <th>O_CUSTKEY</th>\n      <th>O_ORDERSTATUS</th>\n      <th>O_TOTALPRICE</th>\n      <th>O_ORDERDATE</th>\n      <th>O_ORDERPRIORITY</th>\n      <th>O_CLERK</th>\n      <th>O_SHIPPRIORITY</th>\n      <th>O_COMMENT</th>\n    </tr>\n  </thead>\n  <tbody>\n    <tr>\n      <th>0</th>\n      <td>3000001</td>\n      <td>145618</td>\n      <td>F</td>\n      <td>30175.88</td>\n      <td>1992-12-17</td>\n      <td>4-NOT SPECIFIED</td>\n      <td>Clerk#000000141</td>\n      <td>0</td>\n      <td>l packages. furiously careful instructions gro...</td>\n    </tr>\n    <tr>\n      <th>1</th>\n      <td>3000002</td>\n      <td>1481</td>\n      <td>O</td>\n      <td>297999.63</td>\n      <td>1995-07-28</td>\n      <td>1-URGENT</td>\n      <td>Clerk#000000547</td>\n      <td>0</td>\n      <td>carefully unusual dependencie</td>\n    </tr>\n  </tbody>\n</table>\n</div>"
     },
     "execution_count": 7,
     "metadata": {},
     "output_type": "execute_result"
    }
   ],
   "source": [
    "df.head()"
   ],
   "metadata": {
    "collapsed": false
   }
  },
  {
   "cell_type": "code",
   "execution_count": 8,
   "outputs": [
    {
     "name": "stdout",
     "output_type": "stream",
     "text": [
      "=================================\u001B[1m Tool Message \u001B[0m=================================\n",
      "Name: convert_to_pandas\n",
      "\n",
      "  O_ORDERKEY O_CUSTKEY O_ORDERSTATUS O_TOTALPRICE O_ORDERDATE  \\\n",
      "0    3000001    145618             F     30175.88  1992-12-17   \n",
      "1    3000002      1481             O    297999.63  1995-07-28   \n",
      "\n",
      "   O_ORDERPRIORITY          O_CLERK O_SHIPPRIORITY  \\\n",
      "0  4-NOT SPECIFIED  Clerk#000000141              0   \n",
      "1         1-URGENT  Clerk#000000547              0   \n",
      "\n",
      "                                           O_COMMENT  \n",
      "0  l packages. furiously careful instructions gro...  \n",
      "1                      carefully unusual dependencie  \n",
      "==================================\u001B[1m Ai Message \u001B[0m==================================\n",
      "\n",
      "The first 2 rows of the data from the \"ORDERS\" table are as follows:\n",
      "\n",
      "| O_ORDERKEY | O_CUSTKEY | O_ORDERSTATUS | O_TOTALPRICE | O_ORDERDATE | O_ORDERPRIORITY | O_CLERK | O_SHIPPRIORITY | O_COMMENT |\n",
      "|------------|-----------|---------------|--------------|-------------|-----------------|---------|-----------------|-----------|\n",
      "| 3000001 | 145618 | F | 30175.88 | 1992-12-17 | 4-NOT SPECIFIED | Clerk#000000141 | 0 | l packages. furiously careful instructions gro... |\n",
      "| 3000002 | 1481 | O | 297999.63 | 1995-07-28 | 1-URGENT | Clerk#000000547 | 0 | carefully unusual dependencie |\n"
     ]
    },
    {
     "data": {
      "text/plain": "<generator object Pregel.stream at 0x12ff10a70>"
     },
     "execution_count": 8,
     "metadata": {},
     "output_type": "execute_result"
    }
   ],
   "source": [
    "pandas_agent.stream(allow_run_tool=True)"
   ],
   "metadata": {
    "collapsed": false
   }
  },
  {
   "cell_type": "code",
   "execution_count": 6,
   "outputs": [],
   "source": [
    "df = pd.DataFrame(\n",
    "    {\n",
    "        \"c_custkey\": [1, 2, 3, 4, 5],\n",
    "        \"c_name\": [\"Alice\", \"Bob\", \"Charlie\", \"David\", \"Eve\"],\n",
    "        \"total_purchase\": [100, 200, 300, 400, 500],\n",
    "    }\n",
    ")"
   ],
   "metadata": {
    "collapsed": false
   }
  },
  {
   "cell_type": "code",
   "execution_count": 7,
   "outputs": [],
   "source": [
    "pandas_agent = (\n",
    "    PandasAgent(\"gpt-3.5-turbo\")\n",
    "    .set_prompt_template(BasicDataSourcePromptTemplate)\n",
    "    .add_dataframe(df)\n",
    ")"
   ],
   "metadata": {
    "collapsed": false
   }
  },
  {
   "cell_type": "code",
   "execution_count": 8,
   "outputs": [
    {
     "name": "stdout",
     "output_type": "stream",
     "text": [
      "================================\u001B[1m Human Message \u001B[0m=================================\n",
      "\n",
      "get the first 2 rows of the data using pandas\n"
     ]
    },
    {
     "ename": "KeyboardInterrupt",
     "evalue": "",
     "output_type": "error",
     "traceback": [
      "\u001B[0;31m---------------------------------------------------------------------------\u001B[0m",
      "\u001B[0;31mKeyboardInterrupt\u001B[0m                         Traceback (most recent call last)",
      "Cell \u001B[0;32mIn[8], line 1\u001B[0m\n\u001B[0;32m----> 1\u001B[0m \u001B[43mpandas_agent\u001B[49m\u001B[38;5;241;43m.\u001B[39;49m\u001B[43mstream\u001B[49m\u001B[43m(\u001B[49m\u001B[38;5;124;43m\"\u001B[39;49m\u001B[38;5;124;43mget the first 2 rows of the data using pandas\u001B[39;49m\u001B[38;5;124;43m\"\u001B[39;49m\u001B[43m)\u001B[49m\n",
      "File \u001B[0;32m~/dev/aita/monorepo/aita/agent/base.py:230\u001B[0m, in \u001B[0;36mToolAgent.stream\u001B[0;34m(self, question, allow_run_tool, display)\u001B[0m\n\u001B[1;32m    228\u001B[0m events \u001B[38;5;241m=\u001B[39m \u001B[38;5;28mself\u001B[39m\u001B[38;5;241m.\u001B[39mmodel_graph\u001B[38;5;241m.\u001B[39mstream(messages, config\u001B[38;5;241m=\u001B[39m\u001B[38;5;28mself\u001B[39m\u001B[38;5;241m.\u001B[39mconfig, stream_mode\u001B[38;5;241m=\u001B[39m\u001B[38;5;124m\"\u001B[39m\u001B[38;5;124mvalues\u001B[39m\u001B[38;5;124m\"\u001B[39m)\n\u001B[1;32m    229\u001B[0m \u001B[38;5;28;01mif\u001B[39;00m display:\n\u001B[0;32m--> 230\u001B[0m     \u001B[38;5;28;43mself\u001B[39;49m\u001B[38;5;241;43m.\u001B[39;49m\u001B[43m_print_graph_events\u001B[49m\u001B[43m(\u001B[49m\u001B[43mevents\u001B[49m\u001B[43m,\u001B[49m\u001B[43m \u001B[49m\u001B[38;5;28;43mset\u001B[39;49m\u001B[43m(\u001B[49m\u001B[43m)\u001B[49m\u001B[43m)\u001B[49m\n\u001B[1;32m    231\u001B[0m \u001B[38;5;28;01mreturn\u001B[39;00m events\n",
      "File \u001B[0;32m~/dev/aita/monorepo/aita/agent/base.py:291\u001B[0m, in \u001B[0;36mToolAgent._print_graph_events\u001B[0;34m(self, events, printed, max_length)\u001B[0m\n\u001B[1;32m    290\u001B[0m \u001B[38;5;28;01mdef\u001B[39;00m \u001B[38;5;21m_print_graph_events\u001B[39m(\u001B[38;5;28mself\u001B[39m, events, printed, max_length\u001B[38;5;241m=\u001B[39m\u001B[38;5;241m1500\u001B[39m):\n\u001B[0;32m--> 291\u001B[0m \u001B[43m    \u001B[49m\u001B[38;5;28;43;01mfor\u001B[39;49;00m\u001B[43m \u001B[49m\u001B[43mevent\u001B[49m\u001B[43m \u001B[49m\u001B[38;5;129;43;01min\u001B[39;49;00m\u001B[43m \u001B[49m\u001B[43mevents\u001B[49m\u001B[43m:\u001B[49m\n\u001B[1;32m    292\u001B[0m \u001B[43m        \u001B[49m\u001B[43mcurrent_state\u001B[49m\u001B[43m \u001B[49m\u001B[38;5;241;43m=\u001B[39;49m\u001B[43m \u001B[49m\u001B[43mevent\u001B[49m\u001B[38;5;241;43m.\u001B[39;49m\u001B[43mget\u001B[49m\u001B[43m(\u001B[49m\u001B[38;5;124;43m\"\u001B[39;49m\u001B[38;5;124;43mdialog_state\u001B[39;49m\u001B[38;5;124;43m\"\u001B[39;49m\u001B[43m)\u001B[49m\n\u001B[1;32m    293\u001B[0m \u001B[43m        \u001B[49m\u001B[38;5;28;43;01mif\u001B[39;49;00m\u001B[43m \u001B[49m\u001B[43mcurrent_state\u001B[49m\u001B[43m:\u001B[49m\n",
      "File \u001B[0;32m~/Library/Caches/pypoetry/virtualenvs/aita-KcnqpBLy-py3.12/lib/python3.12/site-packages/langgraph/pregel/__init__.py:828\u001B[0m, in \u001B[0;36mPregel.stream\u001B[0;34m(self, input, config, stream_mode, output_keys, input_keys, interrupt_before, interrupt_after, debug)\u001B[0m\n\u001B[1;32m    821\u001B[0m futures \u001B[38;5;241m=\u001B[39m [\n\u001B[1;32m    822\u001B[0m     executor\u001B[38;5;241m.\u001B[39msubmit(run_with_retry, task, \u001B[38;5;28mself\u001B[39m\u001B[38;5;241m.\u001B[39mretry_policy)\n\u001B[1;32m    823\u001B[0m     \u001B[38;5;28;01mfor\u001B[39;00m task \u001B[38;5;129;01min\u001B[39;00m next_tasks\n\u001B[1;32m    824\u001B[0m ]\n\u001B[1;32m    826\u001B[0m \u001B[38;5;66;03m# execute tasks, and wait for one to fail or all to finish.\u001B[39;00m\n\u001B[1;32m    827\u001B[0m \u001B[38;5;66;03m# each task is independent from all other concurrent tasks\u001B[39;00m\n\u001B[0;32m--> 828\u001B[0m done, inflight \u001B[38;5;241m=\u001B[39m \u001B[43mconcurrent\u001B[49m\u001B[38;5;241;43m.\u001B[39;49m\u001B[43mfutures\u001B[49m\u001B[38;5;241;43m.\u001B[39;49m\u001B[43mwait\u001B[49m\u001B[43m(\u001B[49m\n\u001B[1;32m    829\u001B[0m \u001B[43m    \u001B[49m\u001B[43mfutures\u001B[49m\u001B[43m,\u001B[49m\n\u001B[1;32m    830\u001B[0m \u001B[43m    \u001B[49m\u001B[43mreturn_when\u001B[49m\u001B[38;5;241;43m=\u001B[39;49m\u001B[43mconcurrent\u001B[49m\u001B[38;5;241;43m.\u001B[39;49m\u001B[43mfutures\u001B[49m\u001B[38;5;241;43m.\u001B[39;49m\u001B[43mFIRST_EXCEPTION\u001B[49m\u001B[43m,\u001B[49m\n\u001B[1;32m    831\u001B[0m \u001B[43m    \u001B[49m\u001B[43mtimeout\u001B[49m\u001B[38;5;241;43m=\u001B[39;49m\u001B[38;5;28;43mself\u001B[39;49m\u001B[38;5;241;43m.\u001B[39;49m\u001B[43mstep_timeout\u001B[49m\u001B[43m,\u001B[49m\n\u001B[1;32m    832\u001B[0m \u001B[43m\u001B[49m\u001B[43m)\u001B[49m\n\u001B[1;32m    834\u001B[0m \u001B[38;5;66;03m# panic on failure or timeout\u001B[39;00m\n\u001B[1;32m    835\u001B[0m _panic_or_proceed(done, inflight, step)\n",
      "File \u001B[0;32m/opt/homebrew/Cellar/python@3.12/3.12.3/Frameworks/Python.framework/Versions/3.12/lib/python3.12/concurrent/futures/_base.py:305\u001B[0m, in \u001B[0;36mwait\u001B[0;34m(fs, timeout, return_when)\u001B[0m\n\u001B[1;32m    301\u001B[0m         \u001B[38;5;28;01mreturn\u001B[39;00m DoneAndNotDoneFutures(done, not_done)\n\u001B[1;32m    303\u001B[0m     waiter \u001B[38;5;241m=\u001B[39m _create_and_install_waiters(fs, return_when)\n\u001B[0;32m--> 305\u001B[0m \u001B[43mwaiter\u001B[49m\u001B[38;5;241;43m.\u001B[39;49m\u001B[43mevent\u001B[49m\u001B[38;5;241;43m.\u001B[39;49m\u001B[43mwait\u001B[49m\u001B[43m(\u001B[49m\u001B[43mtimeout\u001B[49m\u001B[43m)\u001B[49m\n\u001B[1;32m    306\u001B[0m \u001B[38;5;28;01mfor\u001B[39;00m f \u001B[38;5;129;01min\u001B[39;00m fs:\n\u001B[1;32m    307\u001B[0m     \u001B[38;5;28;01mwith\u001B[39;00m f\u001B[38;5;241m.\u001B[39m_condition:\n",
      "File \u001B[0;32m/opt/homebrew/Cellar/python@3.12/3.12.3/Frameworks/Python.framework/Versions/3.12/lib/python3.12/threading.py:655\u001B[0m, in \u001B[0;36mEvent.wait\u001B[0;34m(self, timeout)\u001B[0m\n\u001B[1;32m    653\u001B[0m signaled \u001B[38;5;241m=\u001B[39m \u001B[38;5;28mself\u001B[39m\u001B[38;5;241m.\u001B[39m_flag\n\u001B[1;32m    654\u001B[0m \u001B[38;5;28;01mif\u001B[39;00m \u001B[38;5;129;01mnot\u001B[39;00m signaled:\n\u001B[0;32m--> 655\u001B[0m     signaled \u001B[38;5;241m=\u001B[39m \u001B[38;5;28;43mself\u001B[39;49m\u001B[38;5;241;43m.\u001B[39;49m\u001B[43m_cond\u001B[49m\u001B[38;5;241;43m.\u001B[39;49m\u001B[43mwait\u001B[49m\u001B[43m(\u001B[49m\u001B[43mtimeout\u001B[49m\u001B[43m)\u001B[49m\n\u001B[1;32m    656\u001B[0m \u001B[38;5;28;01mreturn\u001B[39;00m signaled\n",
      "File \u001B[0;32m/opt/homebrew/Cellar/python@3.12/3.12.3/Frameworks/Python.framework/Versions/3.12/lib/python3.12/threading.py:355\u001B[0m, in \u001B[0;36mCondition.wait\u001B[0;34m(self, timeout)\u001B[0m\n\u001B[1;32m    353\u001B[0m \u001B[38;5;28;01mtry\u001B[39;00m:    \u001B[38;5;66;03m# restore state no matter what (e.g., KeyboardInterrupt)\u001B[39;00m\n\u001B[1;32m    354\u001B[0m     \u001B[38;5;28;01mif\u001B[39;00m timeout \u001B[38;5;129;01mis\u001B[39;00m \u001B[38;5;28;01mNone\u001B[39;00m:\n\u001B[0;32m--> 355\u001B[0m         \u001B[43mwaiter\u001B[49m\u001B[38;5;241;43m.\u001B[39;49m\u001B[43macquire\u001B[49m\u001B[43m(\u001B[49m\u001B[43m)\u001B[49m\n\u001B[1;32m    356\u001B[0m         gotit \u001B[38;5;241m=\u001B[39m \u001B[38;5;28;01mTrue\u001B[39;00m\n\u001B[1;32m    357\u001B[0m     \u001B[38;5;28;01melse\u001B[39;00m:\n",
      "\u001B[0;31mKeyboardInterrupt\u001B[0m: "
     ]
    }
   ],
   "source": [
    "pandas_agent.stream(\"get the first 2 rows of the data using pandas\")"
   ],
   "metadata": {
    "collapsed": false
   }
  },
  {
   "cell_type": "code",
   "execution_count": 5,
   "outputs": [
    {
     "data": {
      "text/plain": "   c_custkey c_name  total_purchase\n0          1  Alice             100\n1          2    Bob             200",
      "text/html": "<div>\n<style scoped>\n    .dataframe tbody tr th:only-of-type {\n        vertical-align: middle;\n    }\n\n    .dataframe tbody tr th {\n        vertical-align: top;\n    }\n\n    .dataframe thead th {\n        text-align: right;\n    }\n</style>\n<table border=\"1\" class=\"dataframe\">\n  <thead>\n    <tr style=\"text-align: right;\">\n      <th></th>\n      <th>c_custkey</th>\n      <th>c_name</th>\n      <th>total_purchase</th>\n    </tr>\n  </thead>\n  <tbody>\n    <tr>\n      <th>0</th>\n      <td>1</td>\n      <td>Alice</td>\n      <td>100</td>\n    </tr>\n    <tr>\n      <th>1</th>\n      <td>2</td>\n      <td>Bob</td>\n      <td>200</td>\n    </tr>\n  </tbody>\n</table>\n</div>"
     },
     "execution_count": 5,
     "metadata": {},
     "output_type": "execute_result"
    },
    {
     "name": "stdout",
     "output_type": "stream",
     "text": [
      "=================================\u001B[1m Tool Message \u001B[0m=================================\n",
      "Name: pandas_analysis_tool\n",
      "\n",
      "<ExecutionResult object at 146d7aff0, execution_count=None error_before_exec=None error_in_exec=None info=<ExecutionInfo object at 146d7b050, raw_cell=\"df_5423825936.head(2)\" store_history=False silent=False shell_futures=True cell_id=None> result=   c_custkey c_name  total_purchase\n",
      "0          1  Alice             100\n",
      "1          2    Bob             200>\n",
      "==================================\u001B[1m Ai Message \u001B[0m==================================\n",
      "\n",
      "The first 2 rows of the data are as follows:\n",
      "\n",
      "|   | c_custkey | c_name | total_purchase |\n",
      "|---|-----------|--------|----------------|\n",
      "| 0 | 1         | Alice  | 100            |\n",
      "| 1 | 2         | Bob    | 200            |\n"
     ]
    },
    {
     "data": {
      "text/plain": "<generator object Pregel.stream at 0x133077110>"
     },
     "execution_count": 5,
     "metadata": {},
     "output_type": "execute_result"
    }
   ],
   "source": [
    "pandas_agent.stream(allow_run_tool=True)"
   ],
   "metadata": {
    "collapsed": false
   }
  },
  {
   "cell_type": "code",
   "execution_count": 4,
   "outputs": [
    {
     "name": "stdout",
     "output_type": "stream",
     "text": [
      "Starting the iterative invocation process.\n",
      "================================\u001B[1m Human Message \u001B[0m=================================\n",
      "\n",
      "get the first 2 rows of the data using pandas\n",
      "==================================\u001B[1m Ai Message \u001B[0m==================================\n",
      "Tool Calls:\n",
      "  pandas_analysis_tool (call_QAfPCSX59jurI1wOCPwKeWZ2)\n",
      " Call ID: call_QAfPCSX59jurI1wOCPwKeWZ2\n",
      "  Args:\n",
      "    script: df_5920852640.head(2)\n",
      "Iteration 1\n"
     ]
    },
    {
     "data": {
      "text/plain": "   c_custkey c_name  total_purchase\n0          1  Alice             100\n1          2    Bob             200",
      "text/html": "<div>\n<style scoped>\n    .dataframe tbody tr th:only-of-type {\n        vertical-align: middle;\n    }\n\n    .dataframe tbody tr th {\n        vertical-align: top;\n    }\n\n    .dataframe thead th {\n        text-align: right;\n    }\n</style>\n<table border=\"1\" class=\"dataframe\">\n  <thead>\n    <tr style=\"text-align: right;\">\n      <th></th>\n      <th>c_custkey</th>\n      <th>c_name</th>\n      <th>total_purchase</th>\n    </tr>\n  </thead>\n  <tbody>\n    <tr>\n      <th>0</th>\n      <td>1</td>\n      <td>Alice</td>\n      <td>100</td>\n    </tr>\n    <tr>\n      <th>1</th>\n      <td>2</td>\n      <td>Bob</td>\n      <td>200</td>\n    </tr>\n  </tbody>\n</table>\n</div>"
     },
     "execution_count": 4,
     "metadata": {},
     "output_type": "execute_result"
    },
    {
     "name": "stdout",
     "output_type": "stream",
     "text": [
      "=================================\u001B[1m Tool Message \u001B[0m=================================\n",
      "Name: pandas_analysis_tool\n",
      "\n",
      "<ExecutionResult object at 161c852b0, execution_count=None error_before_exec=None error_in_exec=None info=<ExecutionInfo object at 161c85340, raw_cell=\"df_5920852640.head(2)\" store_history=False silent=False shell_futures=True cell_id=None> result=   c_custkey c_name  total_purchase\n",
      "0          1  Alice             100\n",
      "1          2    Bob             200>\n",
      "==================================\u001B[1m Ai Message \u001B[0m==================================\n",
      "\n",
      "The first 2 rows of the data are:\n",
      "\n",
      "| c_custkey | c_name | total_purchase |\n",
      "|-----------|--------|----------------|\n",
      "| 1         | Alice  | 100            |\n",
      "| 2         | Bob    | 200            |\n"
     ]
    },
    {
     "data": {
      "text/plain": "<generator object Pregel.stream at 0x1379b4af0>"
     },
     "execution_count": 4,
     "metadata": {},
     "output_type": "execute_result"
    }
   ],
   "source": [
    "pandas_agent.iteratively_stream(\"get the first 2 rows of the data using pandas\")"
   ],
   "metadata": {
    "collapsed": false
   }
  },
  {
   "cell_type": "code",
   "execution_count": null,
   "outputs": [],
   "source": [],
   "metadata": {
    "collapsed": false
   }
  }
 ],
 "metadata": {
  "kernelspec": {
   "display_name": "Python 3",
   "language": "python",
   "name": "python3"
  },
  "language_info": {
   "codemirror_mode": {
    "name": "ipython",
    "version": 2
   },
   "file_extension": ".py",
   "mimetype": "text/x-python",
   "name": "python",
   "nbconvert_exporter": "python",
   "pygments_lexer": "ipython2",
   "version": "2.7.6"
  }
 },
 "nbformat": 4,
 "nbformat_minor": 0
}
