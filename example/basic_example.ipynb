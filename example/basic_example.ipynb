{
 "cells": [
  {
   "cell_type": "code",
   "execution_count": 1,
   "metadata": {
    "collapsed": true
   },
   "outputs": [],
   "source": [
    "from aita.agent.base import AitaAgent\n",
    "from aita.agent.sql import SqlAgent"
   ]
  },
  {
   "cell_type": "markdown",
   "source": [
    "## Ensure the OpenAI API key is set in the environment"
   ],
   "metadata": {
    "collapsed": false
   }
  },
  {
   "cell_type": "code",
   "execution_count": 2,
   "outputs": [
    {
     "name": "stdout",
     "output_type": "stream",
     "text": [
      "To find the top 5 customers who have made the most purchases, you can follow these steps:\n",
      "\n",
      "1. **Aggregate the data**: Start by aggregating your data to get the total number of purchases made by each customer.\n",
      "\n",
      "2. **Rank the customers**: Once you have the total number of purchases for each customer, you can rank the customers based on this metric.\n",
      "\n",
      "3. **Select the top 5 customers**: Finally, you can select the top 5 customers with the highest number of purchases.\n",
      "\n",
      "Here is an example query in SQL to achieve this:\n",
      "\n",
      "```sql\n",
      "SELECT customer_id, COUNT(*) AS total_purchases\n",
      "FROM purchases\n",
      "GROUP BY customer_id\n",
      "ORDER BY total_purchases DESC\n",
      "LIMIT 5;\n",
      "```\n",
      "\n",
      "In this query:\n",
      "- `purchases` is the table where your purchase data is stored.\n",
      "- `customer_id` is the column that identifies each customer.\n",
      "- We are counting the number of purchases made by each customer and then ordering the results in descending order.\n",
      "- Finally, we limit the results to the top 5 customers.\n",
      "\n",
      "You can run this query on your database to get the top 5 customers who have made the most purchases."
     ]
    },
    {
     "data": {
      "text/plain": "<generator object RunnableSequence.stream at 0x1756c8d60>"
     },
     "execution_count": 2,
     "metadata": {},
     "output_type": "execute_result"
    }
   ],
   "source": [
    "# Create an simple Aita Agent with GPT-3.5-turbo model\n",
    "aita_agent = AitaAgent(\"gpt-3.5-turbo\")\n",
    "aita_agent.stream(\"I want to get the top 5 customers which making the most purchases\")"
   ],
   "metadata": {
    "collapsed": false
   }
  },
  {
   "cell_type": "code",
   "execution_count": 3,
   "outputs": [
    {
     "name": "stdout",
     "output_type": "stream",
     "text": [
      "To get the top 5 customers who have made the most purchases, you would typically need access to a dataset that includes information about customer purchases. The steps to achieve this would involve using data analysis tools like Python or SQL to query and analyze the data. Here is a general approach you can take:\n",
      "\n",
      "1. **Load the Data**: If the data is stored in a database, you can use SQL to extract the relevant information. If the data is in a CSV file or another format, you can use Python libraries like Pandas to load the data into a DataFrame.\n",
      "\n",
      "2. **Aggregate the Data**: You will need to aggregate the data to calculate the total number of purchases made by each customer. This can be done using SQL queries or Pandas functions like groupby.\n",
      "\n",
      "3. **Rank the Customers**: Once you have the total number of purchases for each customer, you can rank the customers based on this metric. In SQL, you can use the RANK() or ROW_NUMBER() functions. In Python, you can use the rank() method in Pandas.\n",
      "\n",
      "4. **Select the Top 5 Customers**: Finally, you can filter the ranked list to select the top 5 customers who have made the most purchases.\n",
      "\n",
      "Here is an example SQL query to get the top 5 customers based on the number of purchases:\n",
      "\n",
      "```sql\n",
      "SELECT customer_id, COUNT(*) as total_purchases\n",
      "FROM purchases\n",
      "GROUP BY customer_id\n",
      "ORDER BY total_purchases DESC\n",
      "LIMIT 5;\n",
      "```\n",
      "\n",
      "If you are using Python with Pandas, you can achieve the same result with the following code snippet:\n",
      "\n",
      "```python\n",
      "top_customers = df.groupby('customer_id').size().reset_index(name='total_purchases')\n",
      "top_customers = top_customers.sort_values(by='total_purchases', ascending=False).head(5)\n",
      "```\n",
      "\n",
      "Make sure to replace `purchases` and `customer_id` with the actual table and column names in your dataset.\n",
      "\n",
      "This approach will help you identify the top 5 customers who have made the most purchases based on the available data. Feel free to reach out if you need more specific guidance or have any other questions."
     ]
    }
   ],
   "source": [
    "# Example of using a customized prompt template\n",
    "aita_agent = AitaAgent(\"gpt-3.5-turbo\").set_context_prompt(\n",
    "    \"Data Schema: snowflake_sample_data.tpch_sf1\"\n",
    ")\n",
    "aita_agent.stream(\"I want to get the top 5 customers which making the most purchases\")"
   ],
   "metadata": {
    "collapsed": false
   }
  },
  {
   "cell_type": "markdown",
   "source": [
    "## SqlAgent example"
   ],
   "metadata": {
    "collapsed": false
   }
  },
  {
   "cell_type": "code",
   "execution_count": 1,
   "outputs": [],
   "source": [
    "import os\n",
    "from aita.agent.base import AitaAgent\n",
    "from aita.datasource.snowflake import SnowflakeDataSource\n",
    "\n",
    "# Set up the Snowflake and PostgreSQL data sources\n",
    "SNOWFLAKE_USER = os.environ.get(\"SNOWFLAKE_USER\")\n",
    "SNOWFLAKE_PASSWORD = os.environ.get(\"SNOWFLAKE_PASSWORD\")\n",
    "SNOWFLAKE_ACCOUNT = os.environ.get(\"SNOWFLAKE_ACCOUNT\")\n",
    "SNOWFLAKE_WAREHOUSE = os.environ.get(\"SNOWFLAKE_WAREHOUSE\")\n",
    "SNOWFLAKE_DATABASE = os.environ.get(\"SNOWFLAKE_DATABASE\")\n",
    "SNOWFLAKE_SCHEMA = os.environ.get(\"SNOWFLAKE_SCHEMA\")\n",
    "SNOWFLAKE_ROLE = os.environ.get(\"SNOWFLAKE_ROLE\")"
   ],
   "metadata": {
    "collapsed": false
   }
  },
  {
   "cell_type": "code",
   "execution_count": 2,
   "outputs": [],
   "source": [
    "sf_datasource = SnowflakeDataSource(\n",
    "    user=SNOWFLAKE_USER,\n",
    "    password=SNOWFLAKE_PASSWORD,\n",
    "    account=SNOWFLAKE_ACCOUNT,\n",
    "    warehouse=SNOWFLAKE_WAREHOUSE,\n",
    "    database=SNOWFLAKE_DATABASE,\n",
    "    schema=SNOWFLAKE_SCHEMA,\n",
    "    role=\"ACCOUNTADMIN\"\n",
    ")"
   ],
   "metadata": {
    "collapsed": false
   }
  },
  {
   "cell_type": "code",
   "execution_count": 4,
   "outputs": [],
   "source": [
    "# Example of using the AitaAgent with a Snowflake data source, This means no data catalog is provided to the agent.\n",
    "aita_agent = (\n",
    "    AitaAgent(\"gpt-3.5-turbo\")\n",
    "    .set_context_prompt(\"Data Schema: snowflake_sample_data.tpch_sf1\")\n",
    "    .add_datasource(sf_datasource)\n",
    ")"
   ],
   "metadata": {
    "collapsed": false
   }
  },
  {
   "cell_type": "code",
   "execution_count": 12,
   "outputs": [
    {
     "name": "stdout",
     "output_type": "stream",
     "text": [
      "To get the top 5 customers who have made the most purchases from the `snowflake_sample_data.tpch_sf1` dataset, you can use the following SQL query:\n",
      "\n",
      "```sql\n",
      "SELECT c.c_custkey, c.c_name, COUNT(o.o_orderkey) AS total_purchases\n",
      "FROM snowflake_sample_data.tpch_sf1.customer c\n",
      "JOIN snowflake_sample_data.tpch_sf1.orders o ON c.c_custkey = o.o_custkey\n",
      "GROUP BY c.c_custkey, c.c_name\n",
      "ORDER BY total_purchases DESC\n",
      "LIMIT 5;\n",
      "```\n",
      "\n",
      "In this query:\n",
      "- We are selecting the customer key (`c_custkey`), customer name (`c_name`), and counting the number of orders for each customer as `total_purchases`.\n",
      "- We are joining the `customer` and `orders` tables on the `c_custkey` (customer key) and `o_custkey` (customer key in orders table).\n",
      "- We are grouping the results by customer key and customer name.\n",
      "- We are ordering the results by the total number of purchases in descending order.\n",
      "- Finally, we are limiting the output to the top 5 customers with the most purchases.\n",
      "\n",
      "You can run this query in your Snowflake environment to get the desired results."
     ]
    },
    {
     "data": {
      "text/plain": "<generator object RunnableSequence.stream at 0x17ec922f0>"
     },
     "execution_count": 12,
     "metadata": {},
     "output_type": "execute_result"
    }
   ],
   "source": [
    "aita_agent.stream(\"I want to get the top 5 customers which making the most purchases\", display=True)"
   ],
   "metadata": {
    "collapsed": false
   }
  },
  {
   "cell_type": "code",
   "execution_count": 3,
   "outputs": [],
   "source": [
    "# Basic example of using the SQL agent, The data catalog is provided to the agent.\n",
    "from aita.agent.sql import SqlAgent\n",
    "from aita.prompt.base import BasicContextPromptTemplate\n",
    "from agent.graph import ToolMode\n",
    "\n",
    "sql_agent = (\n",
    "    SqlAgent(\"gpt-3.5-turbo\")\n",
    "    .set_context_prompt(BasicContextPromptTemplate)\n",
    "    .add_datasource(sf_datasource)\n",
    ")"
   ],
   "metadata": {
    "collapsed": false
   }
  },
  {
   "cell_type": "code",
   "execution_count": 4,
   "outputs": [
    {
     "name": "stdout",
     "output_type": "stream",
     "text": [
      "================================\u001B[1m Human Message \u001B[0m=================================\n",
      "\n",
      "I want to get the top 5 customers which making the most purchases\n"
     ]
    },
    {
     "ename": "NotImplementedError",
     "evalue": "Unsupported message type: <class 'generator'>",
     "output_type": "error",
     "traceback": [
      "\u001B[0;31m---------------------------------------------------------------------------\u001B[0m",
      "\u001B[0;31mNotImplementedError\u001B[0m                       Traceback (most recent call last)",
      "Cell \u001B[0;32mIn[4], line 1\u001B[0m\n\u001B[0;32m----> 1\u001B[0m \u001B[43msql_agent\u001B[49m\u001B[38;5;241;43m.\u001B[39;49m\u001B[43mstream\u001B[49m\u001B[43m(\u001B[49m\u001B[38;5;124;43m\"\u001B[39;49m\u001B[38;5;124;43mI want to get the top 5 customers which making the most purchases\u001B[39;49m\u001B[38;5;124;43m\"\u001B[39;49m\u001B[43m,\u001B[49m\u001B[43m \u001B[49m\u001B[43mdisplay\u001B[49m\u001B[38;5;241;43m=\u001B[39;49m\u001B[38;5;28;43;01mTrue\u001B[39;49;00m\u001B[43m)\u001B[49m\n",
      "File \u001B[0;32m~/dev/aita/aita/aita/agent/graph.py:161\u001B[0m, in \u001B[0;36mGraphAgent.stream\u001B[0;34m(self, question, tool_mode, max_iterations, display)\u001B[0m\n\u001B[1;32m    159\u001B[0m \u001B[38;5;28;01mif\u001B[39;00m display:\n\u001B[1;32m    160\u001B[0m     _printed \u001B[38;5;241m=\u001B[39m \u001B[38;5;28mset\u001B[39m()\n\u001B[0;32m--> 161\u001B[0m     \u001B[38;5;28;43mself\u001B[39;49m\u001B[38;5;241;43m.\u001B[39;49m\u001B[43m_print_graph_events\u001B[49m\u001B[43m(\u001B[49m\u001B[43mevents\u001B[49m\u001B[43m,\u001B[49m\u001B[43m \u001B[49m\u001B[43m_printed\u001B[49m\u001B[43m)\u001B[49m\n\u001B[1;32m    163\u001B[0m \u001B[38;5;28;01mif\u001B[39;00m tool_mode \u001B[38;5;241m==\u001B[39m ToolMode\u001B[38;5;241m.\u001B[39mCONTINUOUS:\n\u001B[1;32m    164\u001B[0m     current_state \u001B[38;5;241m=\u001B[39m \u001B[38;5;28mself\u001B[39m\u001B[38;5;241m.\u001B[39mget_current_state()\n",
      "File \u001B[0;32m~/dev/aita/aita/aita/agent/graph.py:257\u001B[0m, in \u001B[0;36mGraphAgent._print_graph_events\u001B[0;34m(self, events, printed, max_length)\u001B[0m\n\u001B[1;32m    255\u001B[0m \u001B[38;5;28;01mif\u001B[39;00m \u001B[38;5;28misinstance\u001B[39m(events, \u001B[38;5;28mdict\u001B[39m):\n\u001B[1;32m    256\u001B[0m     events \u001B[38;5;241m=\u001B[39m [events]\n\u001B[0;32m--> 257\u001B[0m \u001B[43m\u001B[49m\u001B[38;5;28;43;01mfor\u001B[39;49;00m\u001B[43m \u001B[49m\u001B[43mevent\u001B[49m\u001B[43m \u001B[49m\u001B[38;5;129;43;01min\u001B[39;49;00m\u001B[43m \u001B[49m\u001B[43mevents\u001B[49m\u001B[43m:\u001B[49m\n\u001B[1;32m    258\u001B[0m \u001B[43m    \u001B[49m\u001B[43mmessages\u001B[49m\u001B[43m \u001B[49m\u001B[38;5;241;43m=\u001B[39;49m\u001B[43m \u001B[49m\u001B[38;5;28;43mself\u001B[39;49m\u001B[38;5;241;43m.\u001B[39;49m\u001B[43m_get_event_message\u001B[49m\u001B[43m(\u001B[49m\u001B[43mevent\u001B[49m\u001B[43m)\u001B[49m\n\u001B[1;32m    259\u001B[0m \u001B[43m    \u001B[49m\u001B[38;5;28;43;01mfor\u001B[39;49;00m\u001B[43m \u001B[49m\u001B[43mmessage\u001B[49m\u001B[43m \u001B[49m\u001B[38;5;129;43;01min\u001B[39;49;00m\u001B[43m \u001B[49m\u001B[43mmessages\u001B[49m\u001B[43m:\u001B[49m\n",
      "File \u001B[0;32m~/Library/Caches/pypoetry/virtualenvs/aita-YD6hEonJ-py3.12/lib/python3.12/site-packages/langgraph/pregel/__init__.py:1111\u001B[0m, in \u001B[0;36mPregel.stream\u001B[0;34m(self, input, config, stream_mode, output_keys, input_keys, interrupt_before, interrupt_after, debug)\u001B[0m\n\u001B[1;32m   1108\u001B[0m         \u001B[38;5;28;01mdel\u001B[39;00m fut, task\n\u001B[1;32m   1110\u001B[0m \u001B[38;5;66;03m# panic on failure or timeout\u001B[39;00m\n\u001B[0;32m-> 1111\u001B[0m \u001B[43m_panic_or_proceed\u001B[49m\u001B[43m(\u001B[49m\u001B[43mdone\u001B[49m\u001B[43m,\u001B[49m\u001B[43m \u001B[49m\u001B[43minflight\u001B[49m\u001B[43m,\u001B[49m\u001B[43m \u001B[49m\u001B[43mstep\u001B[49m\u001B[43m)\u001B[49m\n\u001B[1;32m   1112\u001B[0m \u001B[38;5;66;03m# don't keep futures around in memory longer than needed\u001B[39;00m\n\u001B[1;32m   1113\u001B[0m \u001B[38;5;28;01mdel\u001B[39;00m done, inflight, futures\n",
      "File \u001B[0;32m~/Library/Caches/pypoetry/virtualenvs/aita-YD6hEonJ-py3.12/lib/python3.12/site-packages/langgraph/pregel/__init__.py:1758\u001B[0m, in \u001B[0;36m_panic_or_proceed\u001B[0;34m(done, inflight, step, timeout_exc_cls)\u001B[0m\n\u001B[1;32m   1756\u001B[0m             inflight\u001B[38;5;241m.\u001B[39mpop()\u001B[38;5;241m.\u001B[39mcancel()\n\u001B[1;32m   1757\u001B[0m         \u001B[38;5;66;03m# raise the exception\u001B[39;00m\n\u001B[0;32m-> 1758\u001B[0m         \u001B[38;5;28;01mraise\u001B[39;00m exc\n\u001B[1;32m   1760\u001B[0m \u001B[38;5;28;01mif\u001B[39;00m inflight:\n\u001B[1;32m   1761\u001B[0m     \u001B[38;5;66;03m# if we got here means we timed out\u001B[39;00m\n\u001B[1;32m   1762\u001B[0m     \u001B[38;5;28;01mwhile\u001B[39;00m inflight:\n\u001B[1;32m   1763\u001B[0m         \u001B[38;5;66;03m# cancel all pending tasks\u001B[39;00m\n",
      "File \u001B[0;32m~/Library/Caches/pypoetry/virtualenvs/aita-YD6hEonJ-py3.12/lib/python3.12/site-packages/langgraph/pregel/executor.py:43\u001B[0m, in \u001B[0;36mBackgroundExecutor.<locals>.done\u001B[0;34m(task)\u001B[0m\n\u001B[1;32m     41\u001B[0m \u001B[38;5;28;01mdef\u001B[39;00m \u001B[38;5;21mdone\u001B[39m(task: concurrent\u001B[38;5;241m.\u001B[39mfutures\u001B[38;5;241m.\u001B[39mFuture) \u001B[38;5;241m-\u001B[39m\u001B[38;5;241m>\u001B[39m \u001B[38;5;28;01mNone\u001B[39;00m:\n\u001B[1;32m     42\u001B[0m     \u001B[38;5;28;01mtry\u001B[39;00m:\n\u001B[0;32m---> 43\u001B[0m         \u001B[43mtask\u001B[49m\u001B[38;5;241;43m.\u001B[39;49m\u001B[43mresult\u001B[49m\u001B[43m(\u001B[49m\u001B[43m)\u001B[49m\n\u001B[1;32m     44\u001B[0m     \u001B[38;5;28;01mexcept\u001B[39;00m \u001B[38;5;167;01mBaseException\u001B[39;00m:\n\u001B[1;32m     45\u001B[0m         \u001B[38;5;28;01mpass\u001B[39;00m\n",
      "File \u001B[0;32m/opt/homebrew/Cellar/python@3.12/3.12.3/Frameworks/Python.framework/Versions/3.12/lib/python3.12/concurrent/futures/_base.py:449\u001B[0m, in \u001B[0;36mFuture.result\u001B[0;34m(self, timeout)\u001B[0m\n\u001B[1;32m    447\u001B[0m     \u001B[38;5;28;01mraise\u001B[39;00m CancelledError()\n\u001B[1;32m    448\u001B[0m \u001B[38;5;28;01melif\u001B[39;00m \u001B[38;5;28mself\u001B[39m\u001B[38;5;241m.\u001B[39m_state \u001B[38;5;241m==\u001B[39m FINISHED:\n\u001B[0;32m--> 449\u001B[0m     \u001B[38;5;28;01mreturn\u001B[39;00m \u001B[38;5;28;43mself\u001B[39;49m\u001B[38;5;241;43m.\u001B[39;49m\u001B[43m__get_result\u001B[49m\u001B[43m(\u001B[49m\u001B[43m)\u001B[49m\n\u001B[1;32m    451\u001B[0m \u001B[38;5;28mself\u001B[39m\u001B[38;5;241m.\u001B[39m_condition\u001B[38;5;241m.\u001B[39mwait(timeout)\n\u001B[1;32m    453\u001B[0m \u001B[38;5;28;01mif\u001B[39;00m \u001B[38;5;28mself\u001B[39m\u001B[38;5;241m.\u001B[39m_state \u001B[38;5;129;01min\u001B[39;00m [CANCELLED, CANCELLED_AND_NOTIFIED]:\n",
      "File \u001B[0;32m/opt/homebrew/Cellar/python@3.12/3.12.3/Frameworks/Python.framework/Versions/3.12/lib/python3.12/concurrent/futures/_base.py:401\u001B[0m, in \u001B[0;36mFuture.__get_result\u001B[0;34m(self)\u001B[0m\n\u001B[1;32m    399\u001B[0m \u001B[38;5;28;01mif\u001B[39;00m \u001B[38;5;28mself\u001B[39m\u001B[38;5;241m.\u001B[39m_exception:\n\u001B[1;32m    400\u001B[0m     \u001B[38;5;28;01mtry\u001B[39;00m:\n\u001B[0;32m--> 401\u001B[0m         \u001B[38;5;28;01mraise\u001B[39;00m \u001B[38;5;28mself\u001B[39m\u001B[38;5;241m.\u001B[39m_exception\n\u001B[1;32m    402\u001B[0m     \u001B[38;5;28;01mfinally\u001B[39;00m:\n\u001B[1;32m    403\u001B[0m         \u001B[38;5;66;03m# Break a reference cycle with the exception in self._exception\u001B[39;00m\n\u001B[1;32m    404\u001B[0m         \u001B[38;5;28mself\u001B[39m \u001B[38;5;241m=\u001B[39m \u001B[38;5;28;01mNone\u001B[39;00m\n",
      "File \u001B[0;32m/opt/homebrew/Cellar/python@3.12/3.12.3/Frameworks/Python.framework/Versions/3.12/lib/python3.12/concurrent/futures/thread.py:58\u001B[0m, in \u001B[0;36m_WorkItem.run\u001B[0;34m(self)\u001B[0m\n\u001B[1;32m     55\u001B[0m     \u001B[38;5;28;01mreturn\u001B[39;00m\n\u001B[1;32m     57\u001B[0m \u001B[38;5;28;01mtry\u001B[39;00m:\n\u001B[0;32m---> 58\u001B[0m     result \u001B[38;5;241m=\u001B[39m \u001B[38;5;28;43mself\u001B[39;49m\u001B[38;5;241;43m.\u001B[39;49m\u001B[43mfn\u001B[49m\u001B[43m(\u001B[49m\u001B[38;5;241;43m*\u001B[39;49m\u001B[38;5;28;43mself\u001B[39;49m\u001B[38;5;241;43m.\u001B[39;49m\u001B[43margs\u001B[49m\u001B[43m,\u001B[49m\u001B[43m \u001B[49m\u001B[38;5;241;43m*\u001B[39;49m\u001B[38;5;241;43m*\u001B[39;49m\u001B[38;5;28;43mself\u001B[39;49m\u001B[38;5;241;43m.\u001B[39;49m\u001B[43mkwargs\u001B[49m\u001B[43m)\u001B[49m\n\u001B[1;32m     59\u001B[0m \u001B[38;5;28;01mexcept\u001B[39;00m \u001B[38;5;167;01mBaseException\u001B[39;00m \u001B[38;5;28;01mas\u001B[39;00m exc:\n\u001B[1;32m     60\u001B[0m     \u001B[38;5;28mself\u001B[39m\u001B[38;5;241m.\u001B[39mfuture\u001B[38;5;241m.\u001B[39mset_exception(exc)\n",
      "File \u001B[0;32m~/Library/Caches/pypoetry/virtualenvs/aita-YD6hEonJ-py3.12/lib/python3.12/site-packages/langgraph/pregel/retry.py:25\u001B[0m, in \u001B[0;36mrun_with_retry\u001B[0;34m(task, retry_policy)\u001B[0m\n\u001B[1;32m     23\u001B[0m task\u001B[38;5;241m.\u001B[39mwrites\u001B[38;5;241m.\u001B[39mclear()\n\u001B[1;32m     24\u001B[0m \u001B[38;5;66;03m# run the task\u001B[39;00m\n\u001B[0;32m---> 25\u001B[0m \u001B[43mtask\u001B[49m\u001B[38;5;241;43m.\u001B[39;49m\u001B[43mproc\u001B[49m\u001B[38;5;241;43m.\u001B[39;49m\u001B[43minvoke\u001B[49m\u001B[43m(\u001B[49m\u001B[43mtask\u001B[49m\u001B[38;5;241;43m.\u001B[39;49m\u001B[43minput\u001B[49m\u001B[43m,\u001B[49m\u001B[43m \u001B[49m\u001B[43mtask\u001B[49m\u001B[38;5;241;43m.\u001B[39;49m\u001B[43mconfig\u001B[49m\u001B[43m)\u001B[49m\n\u001B[1;32m     26\u001B[0m \u001B[38;5;66;03m# if successful, end\u001B[39;00m\n\u001B[1;32m     27\u001B[0m \u001B[38;5;28;01mbreak\u001B[39;00m\n",
      "File \u001B[0;32m~/Library/Caches/pypoetry/virtualenvs/aita-YD6hEonJ-py3.12/lib/python3.12/site-packages/langchain_core/runnables/base.py:2873\u001B[0m, in \u001B[0;36mRunnableSequence.invoke\u001B[0;34m(self, input, config, **kwargs)\u001B[0m\n\u001B[1;32m   2871\u001B[0m             \u001B[38;5;28minput\u001B[39m \u001B[38;5;241m=\u001B[39m step\u001B[38;5;241m.\u001B[39minvoke(\u001B[38;5;28minput\u001B[39m, config, \u001B[38;5;241m*\u001B[39m\u001B[38;5;241m*\u001B[39mkwargs)\n\u001B[1;32m   2872\u001B[0m         \u001B[38;5;28;01melse\u001B[39;00m:\n\u001B[0;32m-> 2873\u001B[0m             \u001B[38;5;28minput\u001B[39m \u001B[38;5;241m=\u001B[39m \u001B[43mstep\u001B[49m\u001B[38;5;241;43m.\u001B[39;49m\u001B[43minvoke\u001B[49m\u001B[43m(\u001B[49m\u001B[38;5;28;43minput\u001B[39;49m\u001B[43m,\u001B[49m\u001B[43m \u001B[49m\u001B[43mconfig\u001B[49m\u001B[43m)\u001B[49m\n\u001B[1;32m   2874\u001B[0m \u001B[38;5;66;03m# finish the root run\u001B[39;00m\n\u001B[1;32m   2875\u001B[0m \u001B[38;5;28;01mexcept\u001B[39;00m \u001B[38;5;167;01mBaseException\u001B[39;00m \u001B[38;5;28;01mas\u001B[39;00m e:\n",
      "File \u001B[0;32m~/Library/Caches/pypoetry/virtualenvs/aita-YD6hEonJ-py3.12/lib/python3.12/site-packages/langgraph/utils.py:102\u001B[0m, in \u001B[0;36mRunnableCallable.invoke\u001B[0;34m(self, input, config, **kwargs)\u001B[0m\n\u001B[1;32m    100\u001B[0m     \u001B[38;5;28;01mif\u001B[39;00m accepts_config(\u001B[38;5;28mself\u001B[39m\u001B[38;5;241m.\u001B[39mfunc):\n\u001B[1;32m    101\u001B[0m         kwargs[\u001B[38;5;124m\"\u001B[39m\u001B[38;5;124mconfig\u001B[39m\u001B[38;5;124m\"\u001B[39m] \u001B[38;5;241m=\u001B[39m config\n\u001B[0;32m--> 102\u001B[0m     ret \u001B[38;5;241m=\u001B[39m \u001B[43mcontext\u001B[49m\u001B[38;5;241;43m.\u001B[39;49m\u001B[43mrun\u001B[49m\u001B[43m(\u001B[49m\u001B[38;5;28;43mself\u001B[39;49m\u001B[38;5;241;43m.\u001B[39;49m\u001B[43mfunc\u001B[49m\u001B[43m,\u001B[49m\u001B[43m \u001B[49m\u001B[38;5;28;43minput\u001B[39;49m\u001B[43m,\u001B[49m\u001B[43m \u001B[49m\u001B[38;5;241;43m*\u001B[39;49m\u001B[38;5;241;43m*\u001B[39;49m\u001B[43mkwargs\u001B[49m\u001B[43m)\u001B[49m\n\u001B[1;32m    103\u001B[0m \u001B[38;5;28;01mif\u001B[39;00m \u001B[38;5;28misinstance\u001B[39m(ret, Runnable) \u001B[38;5;129;01mand\u001B[39;00m \u001B[38;5;28mself\u001B[39m\u001B[38;5;241m.\u001B[39mrecurse:\n\u001B[1;32m    104\u001B[0m     \u001B[38;5;28;01mreturn\u001B[39;00m ret\u001B[38;5;241m.\u001B[39minvoke(\u001B[38;5;28minput\u001B[39m, config)\n",
      "File \u001B[0;32m~/Library/Caches/pypoetry/virtualenvs/aita-YD6hEonJ-py3.12/lib/python3.12/site-packages/langgraph/graph/graph.py:74\u001B[0m, in \u001B[0;36mBranch._route\u001B[0;34m(self, input, config, reader, writer)\u001B[0m\n\u001B[1;32m     65\u001B[0m \u001B[38;5;28;01mdef\u001B[39;00m \u001B[38;5;21m_route\u001B[39m(\n\u001B[1;32m     66\u001B[0m     \u001B[38;5;28mself\u001B[39m,\n\u001B[1;32m     67\u001B[0m     \u001B[38;5;28minput\u001B[39m: Any,\n\u001B[0;32m   (...)\u001B[0m\n\u001B[1;32m     71\u001B[0m     writer: Callable[[\u001B[38;5;28mlist\u001B[39m[\u001B[38;5;28mstr\u001B[39m]], Optional[Runnable]],\n\u001B[1;32m     72\u001B[0m ) \u001B[38;5;241m-\u001B[39m\u001B[38;5;241m>\u001B[39m Runnable:\n\u001B[1;32m     73\u001B[0m     \u001B[38;5;28;01mif\u001B[39;00m reader:\n\u001B[0;32m---> 74\u001B[0m         value \u001B[38;5;241m=\u001B[39m \u001B[43mreader\u001B[49m\u001B[43m(\u001B[49m\u001B[43mconfig\u001B[49m\u001B[43m)\u001B[49m\n\u001B[1;32m     75\u001B[0m         \u001B[38;5;66;03m# passthrough additional keys from node to branch\u001B[39;00m\n\u001B[1;32m     76\u001B[0m         \u001B[38;5;66;03m# only doable when using dict states\u001B[39;00m\n\u001B[1;32m     77\u001B[0m         \u001B[38;5;28;01mif\u001B[39;00m \u001B[38;5;28misinstance\u001B[39m(value, \u001B[38;5;28mdict\u001B[39m) \u001B[38;5;129;01mand\u001B[39;00m \u001B[38;5;28misinstance\u001B[39m(\u001B[38;5;28minput\u001B[39m, \u001B[38;5;28mdict\u001B[39m):\n",
      "File \u001B[0;32m~/Library/Caches/pypoetry/virtualenvs/aita-YD6hEonJ-py3.12/lib/python3.12/site-packages/langgraph/pregel/read.py:95\u001B[0m, in \u001B[0;36mChannelRead.do_read\u001B[0;34m(config, channel, fresh, mapper)\u001B[0m\n\u001B[1;32m     90\u001B[0m     \u001B[38;5;28;01mraise\u001B[39;00m \u001B[38;5;167;01mRuntimeError\u001B[39;00m(\n\u001B[1;32m     91\u001B[0m         \u001B[38;5;124m\"\u001B[39m\u001B[38;5;124mNot configured with a read function\u001B[39m\u001B[38;5;124m\"\u001B[39m\n\u001B[1;32m     92\u001B[0m         \u001B[38;5;124m\"\u001B[39m\u001B[38;5;124mMake sure to call in the context of a Pregel process\u001B[39m\u001B[38;5;124m\"\u001B[39m\n\u001B[1;32m     93\u001B[0m     )\n\u001B[1;32m     94\u001B[0m \u001B[38;5;28;01mif\u001B[39;00m mapper:\n\u001B[0;32m---> 95\u001B[0m     \u001B[38;5;28;01mreturn\u001B[39;00m mapper(\u001B[43mread\u001B[49m\u001B[43m(\u001B[49m\u001B[43mchannel\u001B[49m\u001B[43m,\u001B[49m\u001B[43m \u001B[49m\u001B[43mfresh\u001B[49m\u001B[43m)\u001B[49m)\n\u001B[1;32m     96\u001B[0m \u001B[38;5;28;01melse\u001B[39;00m:\n\u001B[1;32m     97\u001B[0m     \u001B[38;5;28;01mreturn\u001B[39;00m read(channel, fresh)\n",
      "File \u001B[0;32m~/Library/Caches/pypoetry/virtualenvs/aita-YD6hEonJ-py3.12/lib/python3.12/site-packages/langgraph/pregel/__init__.py:1815\u001B[0m, in \u001B[0;36m_local_read\u001B[0;34m(checkpoint, channels, writes, config, select, fresh)\u001B[0m\n\u001B[1;32m   1809\u001B[0m     \u001B[38;5;28;01mwith\u001B[39;00m ChannelsManager(\n\u001B[1;32m   1810\u001B[0m         {k: v \u001B[38;5;28;01mfor\u001B[39;00m k, v \u001B[38;5;129;01min\u001B[39;00m channels\u001B[38;5;241m.\u001B[39mitems() \u001B[38;5;28;01mif\u001B[39;00m k \u001B[38;5;129;01mnot\u001B[39;00m \u001B[38;5;129;01min\u001B[39;00m context_channels},\n\u001B[1;32m   1811\u001B[0m         checkpoint,\n\u001B[1;32m   1812\u001B[0m         config,\n\u001B[1;32m   1813\u001B[0m     ) \u001B[38;5;28;01mas\u001B[39;00m channels:\n\u001B[1;32m   1814\u001B[0m         all_channels \u001B[38;5;241m=\u001B[39m {\u001B[38;5;241m*\u001B[39m\u001B[38;5;241m*\u001B[39mchannels, \u001B[38;5;241m*\u001B[39m\u001B[38;5;241m*\u001B[39mcontext_channels}\n\u001B[0;32m-> 1815\u001B[0m         \u001B[43m_apply_writes\u001B[49m\u001B[43m(\u001B[49m\u001B[43mcopy_checkpoint\u001B[49m\u001B[43m(\u001B[49m\u001B[43mcheckpoint\u001B[49m\u001B[43m)\u001B[49m\u001B[43m,\u001B[49m\u001B[43m \u001B[49m\u001B[43mall_channels\u001B[49m\u001B[43m,\u001B[49m\u001B[43m \u001B[49m\u001B[43mwrites\u001B[49m\u001B[43m,\u001B[49m\u001B[43m \u001B[49m\u001B[38;5;28;43;01mNone\u001B[39;49;00m\u001B[43m)\u001B[49m\n\u001B[1;32m   1816\u001B[0m         \u001B[38;5;28;01mreturn\u001B[39;00m read_channels(all_channels, select)\n\u001B[1;32m   1817\u001B[0m \u001B[38;5;28;01melse\u001B[39;00m:\n",
      "File \u001B[0;32m~/Library/Caches/pypoetry/virtualenvs/aita-YD6hEonJ-py3.12/lib/python3.12/site-packages/langgraph/pregel/__init__.py:1872\u001B[0m, in \u001B[0;36m_apply_writes\u001B[0;34m(checkpoint, channels, pending_writes, get_next_version)\u001B[0m\n\u001B[1;32m   1870\u001B[0m \u001B[38;5;28;01mif\u001B[39;00m chan \u001B[38;5;129;01min\u001B[39;00m channels:\n\u001B[1;32m   1871\u001B[0m     \u001B[38;5;28;01mtry\u001B[39;00m:\n\u001B[0;32m-> 1872\u001B[0m         updated \u001B[38;5;241m=\u001B[39m \u001B[43mchannels\u001B[49m\u001B[43m[\u001B[49m\u001B[43mchan\u001B[49m\u001B[43m]\u001B[49m\u001B[38;5;241;43m.\u001B[39;49m\u001B[43mupdate\u001B[49m\u001B[43m(\u001B[49m\u001B[43mvals\u001B[49m\u001B[43m)\u001B[49m\n\u001B[1;32m   1873\u001B[0m     \u001B[38;5;28;01mexcept\u001B[39;00m InvalidUpdateError \u001B[38;5;28;01mas\u001B[39;00m e:\n\u001B[1;32m   1874\u001B[0m         \u001B[38;5;28;01mraise\u001B[39;00m InvalidUpdateError(\n\u001B[1;32m   1875\u001B[0m             \u001B[38;5;124mf\u001B[39m\u001B[38;5;124m\"\u001B[39m\u001B[38;5;124mInvalid update for channel \u001B[39m\u001B[38;5;132;01m{\u001B[39;00mchan\u001B[38;5;132;01m}\u001B[39;00m\u001B[38;5;124m with values \u001B[39m\u001B[38;5;132;01m{\u001B[39;00mvals\u001B[38;5;132;01m}\u001B[39;00m\u001B[38;5;124m\"\u001B[39m\n\u001B[1;32m   1876\u001B[0m         ) \u001B[38;5;28;01mfrom\u001B[39;00m \u001B[38;5;21;01me\u001B[39;00m\n",
      "File \u001B[0;32m~/Library/Caches/pypoetry/virtualenvs/aita-YD6hEonJ-py3.12/lib/python3.12/site-packages/langgraph/channels/binop.py:102\u001B[0m, in \u001B[0;36mBinaryOperatorAggregate.update\u001B[0;34m(self, values)\u001B[0m\n\u001B[1;32m    100\u001B[0m     values \u001B[38;5;241m=\u001B[39m values[\u001B[38;5;241m1\u001B[39m:]\n\u001B[1;32m    101\u001B[0m \u001B[38;5;28;01mfor\u001B[39;00m value \u001B[38;5;129;01min\u001B[39;00m values:\n\u001B[0;32m--> 102\u001B[0m     \u001B[38;5;28mself\u001B[39m\u001B[38;5;241m.\u001B[39mvalue \u001B[38;5;241m=\u001B[39m \u001B[38;5;28;43mself\u001B[39;49m\u001B[38;5;241;43m.\u001B[39;49m\u001B[43moperator\u001B[49m\u001B[43m(\u001B[49m\u001B[38;5;28;43mself\u001B[39;49m\u001B[38;5;241;43m.\u001B[39;49m\u001B[43mvalue\u001B[49m\u001B[43m,\u001B[49m\u001B[43m \u001B[49m\u001B[43mvalue\u001B[49m\u001B[43m)\u001B[49m\n\u001B[1;32m    103\u001B[0m \u001B[38;5;28;01mreturn\u001B[39;00m \u001B[38;5;28;01mTrue\u001B[39;00m\n",
      "File \u001B[0;32m~/Library/Caches/pypoetry/virtualenvs/aita-YD6hEonJ-py3.12/lib/python3.12/site-packages/langgraph/graph/message.py:70\u001B[0m, in \u001B[0;36madd_messages\u001B[0;34m(left, right)\u001B[0m\n\u001B[1;32m     68\u001B[0m \u001B[38;5;66;03m# coerce to message\u001B[39;00m\n\u001B[1;32m     69\u001B[0m left \u001B[38;5;241m=\u001B[39m [message_chunk_to_message(m) \u001B[38;5;28;01mfor\u001B[39;00m m \u001B[38;5;129;01min\u001B[39;00m convert_to_messages(left)]\n\u001B[0;32m---> 70\u001B[0m right \u001B[38;5;241m=\u001B[39m [message_chunk_to_message(m) \u001B[38;5;28;01mfor\u001B[39;00m m \u001B[38;5;129;01min\u001B[39;00m \u001B[43mconvert_to_messages\u001B[49m\u001B[43m(\u001B[49m\u001B[43mright\u001B[49m\u001B[43m)\u001B[49m]\n\u001B[1;32m     71\u001B[0m \u001B[38;5;66;03m# assign missing ids\u001B[39;00m\n\u001B[1;32m     72\u001B[0m \u001B[38;5;28;01mfor\u001B[39;00m m \u001B[38;5;129;01min\u001B[39;00m left:\n",
      "File \u001B[0;32m~/Library/Caches/pypoetry/virtualenvs/aita-YD6hEonJ-py3.12/lib/python3.12/site-packages/langchain_core/messages/utils.py:304\u001B[0m, in \u001B[0;36mconvert_to_messages\u001B[0;34m(messages)\u001B[0m\n\u001B[1;32m    302\u001B[0m \u001B[38;5;28;01mif\u001B[39;00m \u001B[38;5;28misinstance\u001B[39m(messages, PromptValue):\n\u001B[1;32m    303\u001B[0m     \u001B[38;5;28;01mreturn\u001B[39;00m messages\u001B[38;5;241m.\u001B[39mto_messages()\n\u001B[0;32m--> 304\u001B[0m \u001B[38;5;28;01mreturn\u001B[39;00m [\u001B[43m_convert_to_message\u001B[49m\u001B[43m(\u001B[49m\u001B[43mm\u001B[49m\u001B[43m)\u001B[49m \u001B[38;5;28;01mfor\u001B[39;00m m \u001B[38;5;129;01min\u001B[39;00m messages]\n",
      "File \u001B[0;32m~/Library/Caches/pypoetry/virtualenvs/aita-YD6hEonJ-py3.12/lib/python3.12/site-packages/langchain_core/messages/utils.py:283\u001B[0m, in \u001B[0;36m_convert_to_message\u001B[0;34m(message)\u001B[0m\n\u001B[1;32m    279\u001B[0m     _message \u001B[38;5;241m=\u001B[39m _create_message_from_message_type(\n\u001B[1;32m    280\u001B[0m         msg_type, msg_content, \u001B[38;5;241m*\u001B[39m\u001B[38;5;241m*\u001B[39mmsg_kwargs\n\u001B[1;32m    281\u001B[0m     )\n\u001B[1;32m    282\u001B[0m \u001B[38;5;28;01melse\u001B[39;00m:\n\u001B[0;32m--> 283\u001B[0m     \u001B[38;5;28;01mraise\u001B[39;00m \u001B[38;5;167;01mNotImplementedError\u001B[39;00m(\u001B[38;5;124mf\u001B[39m\u001B[38;5;124m\"\u001B[39m\u001B[38;5;124mUnsupported message type: \u001B[39m\u001B[38;5;132;01m{\u001B[39;00m\u001B[38;5;28mtype\u001B[39m(message)\u001B[38;5;132;01m}\u001B[39;00m\u001B[38;5;124m\"\u001B[39m)\n\u001B[1;32m    285\u001B[0m \u001B[38;5;28;01mreturn\u001B[39;00m _message\n",
      "\u001B[0;31mNotImplementedError\u001B[0m: Unsupported message type: <class 'generator'>"
     ]
    }
   ],
   "source": [
    "sql_agent.stream(\"I want to get the top 5 customers which making the most purchases\", display=True)"
   ],
   "metadata": {
    "collapsed": false
   }
  },
  {
   "cell_type": "code",
   "execution_count": 10,
   "outputs": [
    {
     "name": "stdout",
     "output_type": "stream",
     "text": [
      "=================================\u001B[1m Tool Message \u001B[0m=================================\n",
      "Name: sql_database_query\n",
      "\n",
      "[(Decimal('143500'), 'Customer#000143500', Decimal('7012696.48')), (Decimal('95257'), 'Customer#000095257', Decimal('6563511.23')), (Decimal('87115'), 'Customer#000087115', Decimal('6457526.26')), (Decimal('131113'), 'Customer#000131113', Decimal('6311428.86')), (Decimal('103834'), 'Customer#000103834', Decimal('6306524.23'))]\n",
      "==================================\u001B[1m Ai Message \u001B[0m==================================\n",
      "\n",
      "The top 5 customers who have made the most purchases are as follows:\n",
      "\n",
      "1. Customer#000143500 - Total Amount Spent: $7,012,696.48\n",
      "2. Customer#000095257 - Total Amount Spent: $6,563,511.23\n",
      "3. Customer#000087115 - Total Amount Spent: $6,457,526.26\n",
      "4. Customer#000131113 - Total Amount Spent: $6,311,428.86\n",
      "5. Customer#000103834 - Total Amount Spent: $6,306,524.23\n",
      "\n",
      "These customers have spent the most on purchases.\n"
     ]
    },
    {
     "data": {
      "text/plain": "<generator object Pregel.stream at 0x1078ad500>"
     },
     "execution_count": 10,
     "metadata": {},
     "output_type": "execute_result"
    }
   ],
   "source": [
    "sql_agent.stream(allow_run_tool=True)"
   ],
   "metadata": {
    "collapsed": false
   }
  },
  {
   "cell_type": "code",
   "execution_count": 11,
   "outputs": [
    {
     "name": "stdout",
     "output_type": "stream",
     "text": [
      "================================\u001B[1m Human Message \u001B[0m=================================\n",
      "\n",
      "\n",
      "SELECT c_custkey, c_name, SUM(o_totalprice) AS total_purchase\n",
      "FROM snowflake_sample_data.tpch_sf1.customer\n",
      "JOIN snowflake_sample_data.tpch_sf1.orders\n",
      "ON c_custkey = o_custkey\n",
      "GROUP BY c_custkey, c_name\n",
      "ORDER BY total_purchase\n",
      "DESC LIMIT 10\n",
      "\n",
      "==================================\u001B[1m Ai Message \u001B[0m==================================\n",
      "\n",
      "It seems you have run the query again. The top 5 customers with the most purchases are:\n",
      "\n",
      "1. Customer#000143500 - Total Purchase: $7,012,696.48\n",
      "2. Customer#000095257 - Total Purchase: $6,563,511.23\n",
      "3. Customer#000087115 - Total Purchase: $6,457,526.26\n",
      "4. Customer#000131113 - Total Purchase: $6,311,428.86\n",
      "5. Customer#000103834 - Total Purchase: $6,306,524.23\n",
      "\n",
      "These customers have the highest total purchase amounts.\n"
     ]
    },
    {
     "data": {
      "text/plain": "<generator object Pregel.stream at 0x1379dd820>"
     },
     "execution_count": 11,
     "metadata": {},
     "output_type": "execute_result"
    }
   ],
   "source": [
    "# Example of using the SQL agent to run a SQL query directly.\n",
    "sample_sql_query = \"\"\"\n",
    "SELECT c_custkey, c_name, SUM(o_totalprice) AS total_purchase\n",
    "FROM snowflake_sample_data.tpch_sf1.customer\n",
    "JOIN snowflake_sample_data.tpch_sf1.orders\n",
    "ON c_custkey = o_custkey\n",
    "GROUP BY c_custkey, c_name\n",
    "ORDER BY total_purchase\n",
    "DESC LIMIT 10\n",
    "\"\"\"\n",
    "\n",
    "sql_agent.stream(sample_sql_query)"
   ],
   "metadata": {
    "collapsed": false
   }
  },
  {
   "cell_type": "code",
   "execution_count": null,
   "outputs": [],
   "source": [],
   "metadata": {
    "collapsed": false
   }
  }
 ],
 "metadata": {
  "kernelspec": {
   "display_name": "Python 3",
   "language": "python",
   "name": "python3"
  },
  "language_info": {
   "codemirror_mode": {
    "name": "ipython",
    "version": 2
   },
   "file_extension": ".py",
   "mimetype": "text/x-python",
   "name": "python",
   "nbconvert_exporter": "python",
   "pygments_lexer": "ipython2",
   "version": "2.7.6"
  }
 },
 "nbformat": 4,
 "nbformat_minor": 0
}
