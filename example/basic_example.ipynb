{
 "cells": [
  {
   "cell_type": "code",
   "execution_count": 1,
   "metadata": {
    "collapsed": true
   },
   "outputs": [],
   "source": [
    "import os\n",
    "\n",
    "import pandas as pd\n",
    "\n",
    "from aita.datasource.snowflake import SnowflakeDataSource\n",
    "from aita.datasource.postgresql import PostgreSqlDataSource\n",
    "from aita.agent.base import AitaAgent\n",
    "from aita.agent.sql import SqlAgent\n",
    "from aita.agent.pandas import PandasAgent\n",
    "from aita.agent.python import PythonAgent"
   ]
  },
  {
   "cell_type": "code",
   "execution_count": 2,
   "outputs": [
    {
     "name": "stdout",
     "output_type": "stream",
     "text": [
      "To get the top 5 customers who are making the most purchases, you can follow these steps:\n",
      "\n",
      "1. Calculate the total number of purchases made by each customer.\n",
      "2. Rank the customers based on the total number of purchases in descending order.\n",
      "3. Select the top 5 customers with the highest number of purchases.\n",
      "\n",
      "Here is a sample SQL query to achieve this:\n",
      "\n",
      "```sql\n",
      "SELECT customer_id, COUNT(*) AS total_purchases\n",
      "FROM purchases\n",
      "GROUP BY customer_id\n",
      "ORDER BY total_purchases DESC\n",
      "LIMIT 5;\n",
      "```\n",
      "\n",
      "This query will give you the customer IDs of the top 5 customers who are making the most purchases, along with the total number of purchases made by each customer. You can adjust the query based on your database schema and requirements."
     ]
    }
   ],
   "source": [
    "aita_agent = AitaAgent(\"gpt-3.5-turbo\")\n",
    "aita_agent.chat(\"I want to get the top 5 customers which making the most purchases\")"
   ],
   "metadata": {
    "collapsed": false
   }
  },
  {
   "cell_type": "code",
   "execution_count": 2,
   "outputs": [
    {
     "name": "stdout",
     "output_type": "stream",
     "text": [
      "[SystemMessage(content='\\nGiven the following data sources schema:\\nhere\\n\\nAnswer the following questions:\\n'), HumanMessage(content='hello')]\n",
      "To get the top 5 customers who have made the most purchases from the `snowflake_sample_data.tpch_sf1` table, you can use the following SQL query:\n",
      "\n",
      "```sql\n",
      "SELECT c_custkey, c_name, COUNT(o_orderkey) AS total_purchases\n",
      "FROM snowflake_sample_data.tpch_sf1.customer\n",
      "JOIN snowflake_sample_data.tpch_sf1.orders ON c_custkey = o_custkey\n",
      "GROUP BY c_custkey, c_name\n",
      "ORDER BY total_purchases DESC\n",
      "LIMIT 5;\n",
      "```\n",
      "\n",
      "In this query:\n",
      "- We are joining the `customer` and `orders` tables on the `c_custkey` and `o_custkey` columns to link customers with their orders.\n",
      "- We are then counting the number of orders made by each customer using the `COUNT` function and aliasing it as `total_purchases`.\n",
      "- We are grouping the results by `c_custkey` and `c_name` to get a distinct count for each customer.\n",
      "- We are ordering the results in descending order based on the total number of purchases.\n",
      "- Finally, we are limiting the results to the top 5 customers who have made the most purchases.\n",
      "\n",
      "You can run this query in your Snowflake environment to retrieve the top 5 customers who have made the most purchases."
     ]
    }
   ],
   "source": [
    "aita_agent = AitaAgent(\"gpt-3.5-turbo\") \\\n",
    "    .set_prompt_template(\"Data Schema: snowflake_sample_data.tpch_sf1\")\n",
    "aita_agent.chat(\"I want to get the top 5 customers which making the most purchases\")"
   ],
   "metadata": {
    "collapsed": false
   }
  },
  {
   "cell_type": "code",
   "execution_count": 2,
   "outputs": [],
   "source": [
    "SNOWFLAKE_USER = os.environ.get(\"SNOWFLAKE_USER\")\n",
    "SNOWFLAKE_PASSWORD = os.environ.get(\"SNOWFLAKE_PASSWORD\")\n",
    "SNOWFLAKE_ACCOUNT = os.environ.get(\"SNOWFLAKE_ACCOUNT\")\n",
    "SNOWFLAKE_WAREHOUSE = os.environ.get(\"SNOWFLAKE_WAREHOUSE\")\n",
    "SNOWFLAKE_DATABASE = os.environ.get(\"SNOWFLAKE_DATABASE\")\n",
    "SNOWFLAKE_SCHEMA = os.environ.get(\"SNOWFLAKE_SCHEMA\")\n",
    "SNOWFLAKE_ROLE = os.environ.get(\"SNOWFLAKE_ROLE\")"
   ],
   "metadata": {
    "collapsed": false
   }
  },
  {
   "cell_type": "code",
   "execution_count": 3,
   "outputs": [],
   "source": [
    "sf_datasource = SnowflakeDataSource(\n",
    "    user=SNOWFLAKE_USER,\n",
    "    password=SNOWFLAKE_PASSWORD,\n",
    "    account=SNOWFLAKE_ACCOUNT,\n",
    "    warehouse=SNOWFLAKE_WAREHOUSE,\n",
    "    database=SNOWFLAKE_DATABASE,\n",
    "    schema=SNOWFLAKE_SCHEMA,\n",
    "    role=SNOWFLAKE_ROLE,\n",
    ")"
   ],
   "metadata": {
    "collapsed": false
   }
  },
  {
   "cell_type": "code",
   "execution_count": 4,
   "outputs": [],
   "source": [
    "pg_datasource = PostgreSqlDataSource(\n",
    "    connection_url=\"postgresql://@localhost:5432/aita\"\n",
    ")"
   ],
   "metadata": {
    "collapsed": false
   }
  },
  {
   "cell_type": "code",
   "execution_count": 5,
   "outputs": [
    {
     "name": "stdout",
     "output_type": "stream",
     "text": [
      "To get the top 5 customers who are making the most purchases, you can use the `CUSTOMER` and `ORDERS` tables from the `TPCH_SF1` schema in the `SNOWFLAKE_SAMPLE_DATA` catalog.\n",
      "\n",
      "Here is an SQL query that you can use to achieve this:\n",
      "\n",
      "```sql\n",
      "SELECT\n",
      "    C.C_CUSTKEY,\n",
      "    C.C_NAME,\n",
      "    SUM(O.O_TOTALPRICE) AS TOTAL_PURCHASES\n",
      "FROM\n",
      "    TPCH_SF1.CUSTOMER C\n",
      "JOIN\n",
      "    TPCH_SF1.ORDERS O ON C.C_CUSTKEY = O.O_CUSTKEY\n",
      "GROUP BY\n",
      "    C.C_CUSTKEY,\n",
      "    C.C_NAME\n",
      "ORDER BY\n",
      "    TOTAL_PURCHASES DESC\n",
      "LIMIT 5;\n",
      "```\n",
      "\n",
      "Explanation:\n",
      "1. We are selecting the `C_CUSTKEY` and `C_NAME` columns from the `CUSTOMER` table and calculating the total purchases made by each customer by summing the `O_TOTALPRICE` from the `ORDERS` table.\n",
      "2. We are joining the `CUSTOMER` and `ORDERS` tables on the `C_CUSTKEY` and `O_CUSTKEY` columns.\n",
      "3. We are grouping the results by `C_CUSTKEY` and `C_NAME`.\n",
      "4. We are ordering the results by total purchases (`TOTAL_PURCHASES`) in descending order.\n",
      "5. Finally, we are limiting the results to the top 5 customers who have made the most purchases.\n",
      "\n",
      "You can run this SQL query in Snowflake to get the top 5 customers who are making the most purchases."
     ]
    }
   ],
   "source": [
    "aita_agent = AitaAgent(\"gpt-3.5-turbo\") \\\n",
    "    .set_prompt_template(\"Data Schema: snowflake_sample_data.tpch_sf1\") \\\n",
    "    .add_datasource(sf_datasource)\n",
    "aita_agent.chat(\"I want to get the top 5 customers which making the most purchases\")"
   ],
   "metadata": {
    "collapsed": false
   }
  },
  {
   "cell_type": "code",
   "execution_count": 5,
   "outputs": [
    {
     "name": "stdout",
     "output_type": "stream",
     "text": [
      "================================\u001B[1m Human Message \u001B[0m=================================\n",
      "\n",
      "I want to get the top 5 customers which making the most purchases\n",
      "==================================\u001B[1m Ai Message \u001B[0m==================================\n",
      "Tool Calls:\n",
      "  sql_database_query (call_0VNUs47lve2RZmW9AdlFsTum)\n",
      " Call ID: call_0VNUs47lve2RZmW9AdlFsTum\n",
      "  Args:\n",
      "    query: SELECT C_CUSTKEY, C_NAME, SUM(O_TOTALPRICE) AS TOTAL_PURCHASES\n",
      "FROM TPCH_SF1.CUSTOMER\n",
      "JOIN TPCH_SF1.ORDERS ON C_CUSTKEY = O_CUSTKEY\n",
      "GROUP BY C_CUSTKEY, C_NAME\n",
      "ORDER BY TOTAL_PURCHASES DESC\n",
      "LIMIT 5;\n"
     ]
    },
    {
     "data": {
      "text/plain": "<generator object Pregel.stream at 0x104e7f940>"
     },
     "execution_count": 5,
     "metadata": {},
     "output_type": "execute_result"
    }
   ],
   "source": [
    "# Basic example of using the SQL agent\n",
    "from aita.prompt.builder import BasicPromptTemplate\n",
    "\n",
    "sql_agent = SqlAgent(\"gpt-3.5-turbo\") \\\n",
    "    .set_prompt_template(BasicPromptTemplate) \\\n",
    "    .add_datasource(sf_datasource) \\\n",
    "\n",
    "sql_agent.chat(\"I want to get the top 5 customers which making the most purchases\")"
   ],
   "metadata": {
    "collapsed": false
   }
  },
  {
   "cell_type": "code",
   "execution_count": 6,
   "outputs": [
    {
     "name": "stdout",
     "output_type": "stream",
     "text": [
      "=================================\u001B[1m Tool Message \u001B[0m=================================\n",
      "Name: sql_database_query\n",
      "\n",
      "[(Decimal('143500'), 'Customer#000143500', Decimal('7012696.48')), (Decimal('95257'), 'Customer#000095257', Decimal('6563511.23')), (Decimal('87115'), 'Customer#000087115', Decimal('6457526.26')), (Decimal('131113'), 'Customer#000131113', Decimal('6311428.86')), (Decimal('103834'), 'Customer#000103834', Decimal('6306524.23'))]\n",
      "==================================\u001B[1m Ai Message \u001B[0m==================================\n",
      "\n",
      "The top 5 customers who have made the most purchases are:\n",
      "\n",
      "1. Customer#000143500 with total purchases of $7,012,696.48\n",
      "2. Customer#000095257 with total purchases of $6,563,511.23\n",
      "3. Customer#000087115 with total purchases of $6,457,526.26\n",
      "4. Customer#000131113 with total purchases of $6,311,428.86\n",
      "5. Customer#000103834 with total purchases of $6,306,524.23\n",
      "<generator object Pregel.stream at 0x156dd9360>\n"
     ]
    }
   ],
   "source": [
    "print(sql_agent.chat(allow_run_tool=True))"
   ],
   "metadata": {
    "collapsed": false
   }
  },
  {
   "cell_type": "code",
   "execution_count": 7,
   "outputs": [
    {
     "name": "stdout",
     "output_type": "stream",
     "text": [
      "================================\u001B[1m Human Message \u001B[0m=================================\n",
      "\n",
      "\n",
      "SELECT c_custkey, c_name, SUM(o_totalprice) AS total_purchase\n",
      "FROM snowflake_sample_data.tpch_sf1.customer\n",
      "JOIN snowflake_sample_data.tpch_sf1.orders\n",
      "ON c_custkey = o_custkey\n",
      "GROUP BY c_custkey, c_name\n",
      "ORDER BY total_purchase\n",
      "DESC LIMIT 10\n",
      "\n",
      "==================================\u001B[1m Ai Message \u001B[0m==================================\n",
      "\n",
      "The SQL query you provided retrieves the top 10 customers based on their total purchases. Here are the results:\n",
      "\n",
      "| c_custkey | c_name           | total_purchase |\n",
      "|-----------|------------------|----------------|\n",
      "| 143500    | Customer#000143500 | 7012696.48    |\n",
      "| 95257     | Customer#000095257 | 6563511.23    |\n",
      "| 87115     | Customer#000087115 | 6457526.26    |\n",
      "| 131113    | Customer#000131113 | 6311428.86    |\n",
      "| 103834    | Customer#000103834 | 6306524.23    |\n",
      "| 135866    | Customer#000135866 | 6203588.38    |\n",
      "| 4701      | Customer#000004701 | 6198974.53    |\n",
      "| 121827    | Customer#000121827 | 6145873.12    |\n",
      "| 96919     | Customer#000096919 | 6090547.83    |\n",
      "| 15531     | Customer#000015531 | 6053292.63    | \n",
      "\n",
      "These are the top 10 customers with the highest total purchases.\n",
      "<generator object Pregel.stream at 0x174c129b0>\n"
     ]
    }
   ],
   "source": [
    "# Example of using the SQL agent to run a SQL query directly.\n",
    "sample_sql_query = \"\"\"\n",
    "SELECT c_custkey, c_name, SUM(o_totalprice) AS total_purchase\n",
    "FROM snowflake_sample_data.tpch_sf1.customer\n",
    "JOIN snowflake_sample_data.tpch_sf1.orders\n",
    "ON c_custkey = o_custkey\n",
    "GROUP BY c_custkey, c_name\n",
    "ORDER BY total_purchase\n",
    "DESC LIMIT 10\n",
    "\"\"\"\n",
    "\n",
    "print(sql_agent.chat(sample_sql_query))"
   ],
   "metadata": {
    "collapsed": false
   }
  },
  {
   "cell_type": "code",
   "execution_count": 5,
   "outputs": [
    {
     "name": "stdout",
     "output_type": "stream",
     "text": [
      "================================\u001B[1m Human Message \u001B[0m=================================\n",
      "\n",
      "I want to get the top customers which making the most purchases\n",
      "==================================\u001B[1m Ai Message \u001B[0m==================================\n",
      "Tool Calls:\n",
      "  convert_to_pandas (call_wGM41oVUgboqYCpSsaYCXLpH)\n",
      " Call ID: call_wGM41oVUgboqYCpSsaYCXLpH\n",
      "  Args:\n",
      "    query: SELECT C_NAME, SUM(O_TOTALPRICE) AS TOTAL_PURCHASES FROM SNOWFLAKE_SAMPLE_DATA.TPCH_SF1.CUSTOMER JOIN SNOWFLAKE_SAMPLE_DATA.TPCH_SF1.ORDERS ON C_CUSTKEY = O_CUSTKEY GROUP BY C_NAME ORDER BY TOTAL_PURCHASES DESC LIMIT 10;\n"
     ]
    },
    {
     "data": {
      "text/plain": "<generator object Pregel.stream at 0x14db5a960>"
     },
     "execution_count": 5,
     "metadata": {},
     "output_type": "execute_result"
    }
   ],
   "source": [
    "# Example of using the Pandas agent\n",
    "pandas_agent = PandasAgent(sf_datasource, \"gpt-3.5-turbo\")\n",
    "pandas_agent.chat(\"I want to get the top customers which making the most purchases\")"
   ],
   "metadata": {
    "collapsed": false
   }
  },
  {
   "cell_type": "code",
   "execution_count": 6,
   "outputs": [
    {
     "name": "stdout",
     "output_type": "stream",
     "text": [
      "=================================\u001B[1m Tool Message \u001B[0m=================================\n",
      "Name: convert_to_pandas\n",
      "\n",
      "               C_NAME TOTAL_PURCHASES\n",
      "0  Customer#000143500      7012696.48\n",
      "1  Customer#000095257      6563511.23\n",
      "2  Customer#000087115      6457526.26\n",
      "3  Customer#000131113      6311428.86\n",
      "4  Customer#000103834      6306524.23\n",
      "5  Customer#000134380      6291610.15\n",
      "6  Customer#000069682      6287149.42\n",
      "7  Customer#000102022      6273788.41\n",
      "8  Customer#000098587      6265089.35\n",
      "9  Customer#000085102      6135483.63\n",
      "==================================\u001B[1m Ai Message \u001B[0m==================================\n",
      "\n",
      "The top customers who have made the most purchases are:\n",
      "\n",
      "1. Customer#000143500 - Total Purchases: $7,012,696.48\n",
      "2. Customer#000095257 - Total Purchases: $6,563,511.23\n",
      "3. Customer#000087115 - Total Purchases: $6,457,526.26\n",
      "4. Customer#000131113 - Total Purchases: $6,311,428.86\n",
      "5. Customer#000103834 - Total Purchases: $6,306,524.23\n",
      "6. Customer#000134380 - Total Purchases: $6,291,610.15\n",
      "7. Customer#000069682 - Total Purchases: $6,287,149.42\n",
      "8. Customer#000102022 - Total Purchases: $6,273,788.41\n",
      "9. Customer#000098587 - Total Purchases: $6,265,089.35\n",
      "10. Customer#000085102 - Total Purchases: $6,135,483.63\n"
     ]
    },
    {
     "data": {
      "text/plain": "<generator object Pregel.stream at 0x14db5f330>"
     },
     "execution_count": 6,
     "metadata": {},
     "output_type": "execute_result"
    }
   ],
   "source": [
    "pandas_agent.chat(allow_run_tool=True)"
   ],
   "metadata": {
    "collapsed": false
   }
  },
  {
   "cell_type": "code",
   "execution_count": 3,
   "outputs": [
    {
     "name": "stdout",
     "output_type": "stream",
     "text": [
      "================================\u001B[1m Human Message \u001B[0m=================================\n",
      "\n",
      "get the first 2 rows of the data using pandas\n",
      "==================================\u001B[1m Ai Message \u001B[0m==================================\n",
      "Tool Calls:\n",
      "  convert_to_pandas (call_rfNbYFZ9pqCzhNlny3YhZM2Z)\n",
      " Call ID: call_rfNbYFZ9pqCzhNlny3YhZM2Z\n",
      "  Args:\n",
      "    datasource: {'type': 'pandas'}\n",
      "    query: SELECT * FROM data LIMIT 2;\n"
     ]
    },
    {
     "data": {
      "text/plain": "<generator object Pregel.stream at 0x138ad5aa0>"
     },
     "execution_count": 3,
     "metadata": {},
     "output_type": "execute_result"
    }
   ],
   "source": [
    "df = pd.DataFrame(\n",
    "    {\n",
    "        \"c_custkey\": [1, 2, 3, 4, 5],\n",
    "        \"c_name\": [\"Alice\", \"Bob\", \"Charlie\", \"David\", \"Eve\"],\n",
    "        \"total_purchase\": [100, 200, 300, 400, 500],\n",
    "    }\n",
    ")\n",
    "pandas_agent = PandasAgent(\"gpt-3.5-turbo\")\n",
    "pandas_agent.chat(\"get the first 2 rows of the data using pandas\")"
   ],
   "metadata": {
    "collapsed": false
   }
  },
  {
   "cell_type": "code",
   "execution_count": null,
   "outputs": [],
   "source": [
    "# Example of using the Python agent\n",
    "python_agent = PythonAgent(sf_datasource, \"gpt-3.5-turbo\")\n",
    "python_agent.chat(\n",
    "    \"python code to show the customers data with snowflake database as data source\",\n",
    "    allow_run_tool=True,\n",
    ")"
   ],
   "metadata": {
    "collapsed": false
   }
  }
 ],
 "metadata": {
  "kernelspec": {
   "display_name": "Python 3",
   "language": "python",
   "name": "python3"
  },
  "language_info": {
   "codemirror_mode": {
    "name": "ipython",
    "version": 2
   },
   "file_extension": ".py",
   "mimetype": "text/x-python",
   "name": "python",
   "nbconvert_exporter": "python",
   "pygments_lexer": "ipython2",
   "version": "2.7.6"
  }
 },
 "nbformat": 4,
 "nbformat_minor": 0
}
