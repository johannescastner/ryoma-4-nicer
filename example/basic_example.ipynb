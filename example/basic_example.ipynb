{
 "cells": [
  {
   "cell_type": "code",
   "execution_count": 1,
   "metadata": {
    "collapsed": true
   },
   "outputs": [],
   "source": [
    "import os\n",
    "from aita.datasource.snowflake import SnowflakeDataSource\n",
    "from aita.datasource.postgresql import PostgreSqlDataSource\n",
    "from aita.agent import SqlAgent, PandasAgent, PythonAgent"
   ]
  },
  {
   "cell_type": "code",
   "execution_count": 4,
   "outputs": [],
   "source": [
    "SNOWFLAKE_USER = os.environ.get(\"SNOWFLAKE_USER\")\n",
    "SNOWFLAKE_PASSWORD = os.environ.get(\"SNOWFLAKE_PASSWORD\")\n",
    "SNOWFLAKE_ACCOUNT = os.environ.get(\"SNOWFLAKE_ACCOUNT\")\n",
    "SNOWFLAKE_WAREHOUSE = os.environ.get(\"SNOWFLAKE_WAREHOUSE\")\n",
    "SNOWFLAKE_DATABASE = os.environ.get(\"SNOWFLAKE_DATABASE\")\n",
    "SNOWFLAKE_SCHEMA = os.environ.get(\"SNOWFLAKE_SCHEMA\")\n",
    "SNOWFLAKE_ROLE = os.environ.get(\"SNOWFLAKE_ROLE\")"
   ],
   "metadata": {
    "collapsed": false
   }
  },
  {
   "cell_type": "code",
   "execution_count": 5,
   "outputs": [],
   "source": [
    "sf_datasource = SnowflakeDataSource(\n",
    "    user=SNOWFLAKE_USER,\n",
    "    password=SNOWFLAKE_PASSWORD,\n",
    "    account=SNOWFLAKE_ACCOUNT,\n",
    "    warehouse=SNOWFLAKE_WAREHOUSE,\n",
    "    database=SNOWFLAKE_DATABASE,\n",
    "    schema=SNOWFLAKE_SCHEMA,\n",
    "    role=SNOWFLAKE_ROLE,\n",
    ")"
   ],
   "metadata": {
    "collapsed": false
   }
  },
  {
   "cell_type": "code",
   "execution_count": 6,
   "outputs": [],
   "source": [
    "pg_datasource = PostgreSqlDataSource(\n",
    "    user=\"\", password=\"\", host=\"localhost\", port=\"5432\", database=\"aita\"\n",
    ")"
   ],
   "metadata": {
    "collapsed": false
   }
  },
  {
   "cell_type": "code",
   "execution_count": 7,
   "outputs": [
    {
     "name": "stdout",
     "output_type": "stream",
     "text": [
      "content=\"To get the top customers who make the most purchases, we need to query the database to retrieve the relevant information. We can do this by querying the 'orders' table to get the total amount spent by each customer. Then we can rank the customers based on their total purchases to find the top customers.\\n\\nLet's start by writing a SQL query to achieve this.\" additional_kwargs={'tool_calls': [{'id': 'call_81hAPuS0oNIa7BNervhLkii7', 'function': {'arguments': '{\"query\":\"SELECT c_custkey, c_name, SUM(o_totalprice) AS total_purchases FROM orders JOIN customer ON orders.o_custkey = customer.c_custkey GROUP BY c_custkey, c_name ORDER BY total_purchases DESC LIMIT 10;\"}', 'name': 'sql_datasource_query'}, 'type': 'function'}]} response_metadata={'token_usage': {'completion_tokens': 138, 'prompt_tokens': 2659, 'total_tokens': 2797}, 'model_name': 'gpt-3.5-turbo', 'system_fingerprint': 'fp_3b956da36b', 'finish_reason': 'tool_calls', 'logprobs': None} id='run-db07ca2c-bebb-4a3d-8827-f7d7f703664b-0' tool_calls=[{'name': 'sql_datasource_query', 'args': {'query': 'SELECT c_custkey, c_name, SUM(o_totalprice) AS total_purchases FROM orders JOIN customer ON orders.o_custkey = customer.c_custkey GROUP BY c_custkey, c_name ORDER BY total_purchases DESC LIMIT 10;'}, 'id': 'call_81hAPuS0oNIa7BNervhLkii7'}]\n"
     ]
    }
   ],
   "source": [
    "# Basic example of using the SQL agent\n",
    "sql_agent = SqlAgent(sf_datasource, \"gpt-3.5-turbo\", 0.8, allow_extract_metadata=True)\n",
    "\n",
    "print(sql_agent.chat(\"I want to get the top customers which making the most purchases\"))"
   ],
   "metadata": {
    "collapsed": false
   }
  },
  {
   "cell_type": "code",
   "execution_count": 8,
   "outputs": [
    {
     "name": "stdout",
     "output_type": "stream",
     "text": [
      "[(143500, 'Customer#000143500', Decimal('7012696.48')), (95257, 'Customer#000095257', Decimal('6563511.23')), (87115, 'Customer#000087115', Decimal('6457526.26')), (131113, 'Customer#000131113', Decimal('6311428.86')), (103834, 'Customer#000103834', Decimal('6306524.23')), (134380, 'Customer#000134380', Decimal('6291610.15')), (69682, 'Customer#000069682', Decimal('6287149.42')), (102022, 'Customer#000102022', Decimal('6273788.41')), (98587, 'Customer#000098587', Decimal('6265089.35')), (85102, 'Customer#000085102', Decimal('6135483.63'))]\n",
      "content='' additional_kwargs={'tool_calls': [{'id': 'call_0ylsJfhfk3Z2ZbYvG9EnTAWP', 'function': {'arguments': '{\"query\":\"SHOW COLUMNS IN snowflake_sample_data.tpch_sf1\"}', 'name': 'sql_datasource_query'}, 'type': 'function'}]} response_metadata={'token_usage': {'completion_tokens': 27, 'prompt_tokens': 2653, 'total_tokens': 2680}, 'model_name': 'gpt-3.5-turbo', 'system_fingerprint': 'fp_3b956da36b', 'finish_reason': 'tool_calls', 'logprobs': None} id='run-26b1227a-513f-4c3f-ab35-a0d77fc77209-0' tool_calls=[{'name': 'sql_datasource_query', 'args': {'query': 'SHOW COLUMNS IN snowflake_sample_data.tpch_sf1'}, 'id': 'call_0ylsJfhfk3Z2ZbYvG9EnTAWP'}]\n"
     ]
    }
   ],
   "source": [
    "# Example of using the SQL agent to run a tool such as querying the data source\n",
    "sample_sql_query = \"\"\"\n",
    "SELECT c_custkey, c_name, SUM(o_totalprice) AS total_purchase\n",
    "FROM snowflake_sample_data.tpch_sf1.customer\n",
    "JOIN snowflake_sample_data.tpch_sf1.orders\n",
    "ON c_custkey = o_custkey\n",
    "GROUP BY c_custkey, c_name\n",
    "ORDER BY total_purchase\n",
    "DESC LIMIT 10\n",
    "\"\"\"\n",
    "\n",
    "tool_spec = {\"name\": \"sql_datasource_query\", \"args\": {\"query\": sample_sql_query}}\n",
    "print(sql_agent.run_tool(tool_spec))\n",
    "\n",
    "# or rather specify the allow_run_tool=True in the chat method\n",
    "print(sql_agent.chat(\"extract snowflake data source metadata\", allow_run_tool=True))"
   ],
   "metadata": {
    "collapsed": false
   }
  },
  {
   "cell_type": "code",
   "execution_count": 11,
   "outputs": [
    {
     "name": "stderr",
     "output_type": "stream",
     "text": [
      "/Users/haoxu/dev/aita/monorepo/aita/datasource/snowflake.py:72: UserWarning: pandas only supports SQLAlchemy connectable (engine/connection) or database string URI or sqlite3 DBAPI2 connection. Other DBAPI2 objects are not tested. Please consider using SQLAlchemy.\n",
      "  return pd.read_sql(query, self.engine, params=params)\n"
     ]
    },
    {
     "name": "stdout",
     "output_type": "stream",
     "text": [
      "content='' additional_kwargs={'tool_calls': [{'id': 'call_tnArhVd5a7ZChLdaYE9CtoVU', 'function': {'arguments': '{\"script\":\"\\\\nimport pandas as pd\\\\n\\\\ndata = {\\\\n    \\'C_CUSTKEY\\': [1, 2, 3, 4, 5],\\\\n    \\'C_NAME\\': [\\'Customer A\\', \\'Customer B\\', \\'Customer C\\', \\'Customer D\\', \\'Customer E\\'],\\\\n    \\'C_TOTAL_PURCHASES\\': [100, 150, 200, 120, 180]\\\\n}\\\\n\\\\ndf = pd.DataFrame(data)\\\\n\\\\ntop_5_customers = df.sort_values(by=\\'C_TOTAL_PURCHASES\\', ascending=False).head(5)\\\\ntop_5_customers\\\\n\"}', 'name': 'pandas_analysis_tool'}, 'type': 'function'}]} response_metadata={'token_usage': {'completion_tokens': 146, 'prompt_tokens': 164, 'total_tokens': 310}, 'model_name': 'gpt-3.5-turbo', 'system_fingerprint': 'fp_3b956da36b', 'finish_reason': 'tool_calls', 'logprobs': None} id='run-c946d7d3-2352-4fd8-a215-ca2a9f0fc69b-0' tool_calls=[{'name': 'pandas_analysis_tool', 'args': {'script': \"\\nimport pandas as pd\\n\\ndata = {\\n    'C_CUSTKEY': [1, 2, 3, 4, 5],\\n    'C_NAME': ['Customer A', 'Customer B', 'Customer C', 'Customer D', 'Customer E'],\\n    'C_TOTAL_PURCHASES': [100, 150, 200, 120, 180]\\n}\\n\\ndf = pd.DataFrame(data)\\n\\ntop_5_customers = df.sort_values(by='C_TOTAL_PURCHASES', ascending=False).head(5)\\ntop_5_customers\\n\"}, 'id': 'call_tnArhVd5a7ZChLdaYE9CtoVU'}]\n"
     ]
    }
   ],
   "source": [
    "# Example of using the Pandas agent\n",
    "df1 = sf_datasource.to_pandas(\"SELECT * FROM CUSTOMER\")\n",
    "\n",
    "pandas_agent = PandasAgent({\"df1\": df1}, \"gpt-3.5-turbo\", 0.8)\n",
    "print(pandas_agent.chat(\"find the top 5 customers make the most purchases\", allow_run_tool=True))"
   ],
   "metadata": {
    "collapsed": false
   }
  },
  {
   "cell_type": "code",
   "execution_count": 13,
   "outputs": [
    {
     "data": {
      "text/plain": "AIMessage(content='', additional_kwargs={'tool_calls': [{'id': 'call_orwj7EXFcRFpnPmp0hjd4zIV', 'function': {'arguments': '{\"script\":\"\\\\nimport pandas as pd\\\\n\\\\n# Retrieve data from the Snowflake database\\\\nquery = \\'SELECT * FROM customers\\'\\\\ncustomers_data = context[\\'data_source\\'].execute_query(query)\\\\n\\\\n# Display the customers data\\\\ncustomers_data\"}', 'name': 'run_ipython_script_tool'}, 'type': 'function'}]}, response_metadata={'token_usage': {'completion_tokens': 65, 'prompt_tokens': 135, 'total_tokens': 200}, 'model_name': 'gpt-3.5-turbo', 'system_fingerprint': 'fp_3b956da36b', 'finish_reason': 'tool_calls', 'logprobs': None}, id='run-ed625c4e-28e4-4c95-9f28-01e772ff88a4-0', tool_calls=[{'name': 'run_ipython_script_tool', 'args': {'script': \"\\nimport pandas as pd\\n\\n# Retrieve data from the Snowflake database\\nquery = 'SELECT * FROM customers'\\ncustomers_data = context['data_source'].execute_query(query)\\n\\n# Display the customers data\\ncustomers_data\"}, 'id': 'call_orwj7EXFcRFpnPmp0hjd4zIV'}])"
     },
     "execution_count": 13,
     "metadata": {},
     "output_type": "execute_result"
    }
   ],
   "source": [
    "# Example of using the Python agent\n",
    "python_agent = PythonAgent(sf_datasource, \"gpt-3.5-turbo\", 0.8)\n",
    "python_agent.chat(\n",
    "    \"python code to show the customers data with snowflake database as data source\",\n",
    "    allow_run_tool=True,\n",
    ")"
   ],
   "metadata": {
    "collapsed": false
   }
  }
 ],
 "metadata": {
  "kernelspec": {
   "display_name": "Python 3",
   "language": "python",
   "name": "python3"
  },
  "language_info": {
   "codemirror_mode": {
    "name": "ipython",
    "version": 2
   },
   "file_extension": ".py",
   "mimetype": "text/x-python",
   "name": "python",
   "nbconvert_exporter": "python",
   "pygments_lexer": "ipython2",
   "version": "2.7.6"
  }
 },
 "nbformat": 4,
 "nbformat_minor": 0
}
