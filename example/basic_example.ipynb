{
 "cells": [
  {
   "cell_type": "code",
   "execution_count": 1,
   "metadata": {
    "collapsed": true
   },
   "outputs": [],
   "source": [
    "import os\n",
    "\n",
    "from aita.datasource.snowflake import SnowflakeDataSource\n",
    "from aita.datasource.postgresql import PostgreSqlDataSource\n",
    "from aita.agent.base import AitaAgent\n",
    "from aita.agent.sql import SqlAgent"
   ]
  },
  {
   "cell_type": "code",
   "execution_count": 2,
   "outputs": [
    {
     "name": "stdout",
     "output_type": "stream",
     "text": [
      "To get the top 5 customers who have made the most purchases, you would typically need access to a database or dataset containing information about customers and their purchases. Assuming you have a dataset with this information, you can follow these general steps to identify the top 5 customers:\n",
      "\n",
      "1. **Data Preparation:**\n",
      "    - Load the dataset into a data analysis tool or programming environment like Python with libraries such as Pandas.\n",
      "    - Ensure that the dataset contains information about customers and their purchases, including customer IDs or names, purchase amounts, and dates.\n",
      "\n",
      "2. **Data Exploration:**\n",
      "    - Explore the dataset to understand its structure and the information it contains.\n",
      "    - Identify the columns that contain customer information and purchase amounts.\n",
      "\n",
      "3. **Data Aggregation:**\n",
      "    - Group the data by customer ID or name and aggregate the purchase amounts to calculate the total purchases made by each customer.\n",
      "    - This can be done using functions like `groupby` and `sum` in Pandas or equivalent functions in other data analysis tools.\n",
      "\n",
      "4. **Ranking Customers:**\n",
      "    - Sort the aggregated data in descending order based on the total purchase amounts to rank the customers from highest to lowest purchasers.\n",
      "    - You can use the `sort_values` function in Pandas to sort the data.\n",
      "\n",
      "5. **Select Top 5 Customers:**\n",
      "    - Finally, select the top 5 customers with the highest total purchase amounts to identify the customers making the most purchases.\n",
      "\n",
      "Here is a sample Python code snippet that demonstrates these steps using Pandas:\n",
      "\n",
      "```python\n",
      "import pandas as pd\n",
      "\n",
      "# Load the dataset into a DataFrame\n",
      "# Assuming 'df' is your DataFrame with columns 'customer_id' and 'purchase_amount'\n",
      "# Replace 'df' with the actual DataFrame and column names from your dataset\n",
      "top_customers = df.groupby('customer_id')['purchase_amount'].sum().reset_index()\n",
      "top_customers = top_customers.sort_values(by='purchase_amount', ascending=False).head(5)\n",
      "\n",
      "print(top_customers)\n",
      "```\n",
      "\n",
      "By following these steps and adapting the code to your specific dataset, you should be able to identify the top 5 customers who have made the most purchases."
     ]
    }
   ],
   "source": [
    "aita_agent = AitaAgent(\"gpt-3.5-turbo\")\n",
    "aita_agent.chat(\"I want to get the top 5 customers which making the most purchases\")"
   ],
   "metadata": {
    "collapsed": false
   }
  },
  {
   "cell_type": "code",
   "execution_count": 3,
   "outputs": [
    {
     "name": "stdout",
     "output_type": "stream",
     "text": [
      "To get the top 5 customers who have made the most purchases, you can use SQL queries to analyze the data in the `snowflake_sample_data.tpch_sf1` schema. Here is a sample SQL query that you can use to achieve this:\n",
      "\n",
      "```sql\n",
      "SELECT c.c_custkey, c.c_name, COUNT(o.o_orderkey) AS total_orders\n",
      "FROM snowflake_sample_data.tpch_sf1.customer c\n",
      "JOIN snowflake_sample_data.tpch_sf1.orders o ON c.c_custkey = o.o_custkey\n",
      "GROUP BY c.c_custkey, c.c_name\n",
      "ORDER BY total_orders DESC\n",
      "LIMIT 5;\n",
      "```\n",
      "\n",
      "In this query:\n",
      "- We are selecting the customer key (`c_custkey`) and customer name (`c_name`) from the `customer` table and counting the total number of orders made by each customer.\n",
      "- We are joining the `customer` table with the `orders` table on the customer key (`c_custkey`).\n",
      "- We are grouping the results by customer key and name.\n",
      "- We are ordering the results by the total number of orders in descending order.\n",
      "- Finally, we are limiting the output to the top 5 customers with the most purchases.\n",
      "\n",
      "You can run this query in your Snowflake environment to get the top 5 customers who have made the most purchases."
     ]
    }
   ],
   "source": [
    "aita_agent = AitaAgent(\"gpt-3.5-turbo\") \\\n",
    "    .set_prompt_context(\"Data Schema: snowflake_sample_data.tpch_sf1\")\n",
    "aita_agent.chat(\"I want to get the top 5 customers which making the most purchases\")"
   ],
   "metadata": {
    "collapsed": false
   }
  },
  {
   "cell_type": "code",
   "execution_count": 4,
   "outputs": [],
   "source": [
    "SNOWFLAKE_USER = os.environ.get(\"SNOWFLAKE_USER\")\n",
    "SNOWFLAKE_PASSWORD = os.environ.get(\"SNOWFLAKE_PASSWORD\")\n",
    "SNOWFLAKE_ACCOUNT = os.environ.get(\"SNOWFLAKE_ACCOUNT\")\n",
    "SNOWFLAKE_WAREHOUSE = os.environ.get(\"SNOWFLAKE_WAREHOUSE\")\n",
    "SNOWFLAKE_DATABASE = os.environ.get(\"SNOWFLAKE_DATABASE\")\n",
    "SNOWFLAKE_SCHEMA = os.environ.get(\"SNOWFLAKE_SCHEMA\")\n",
    "SNOWFLAKE_ROLE = os.environ.get(\"SNOWFLAKE_ROLE\")"
   ],
   "metadata": {
    "collapsed": false
   }
  },
  {
   "cell_type": "code",
   "execution_count": 5,
   "outputs": [],
   "source": [
    "sf_datasource = SnowflakeDataSource(\n",
    "    user=SNOWFLAKE_USER,\n",
    "    password=SNOWFLAKE_PASSWORD,\n",
    "    account=SNOWFLAKE_ACCOUNT,\n",
    "    warehouse=SNOWFLAKE_WAREHOUSE,\n",
    "    database=SNOWFLAKE_DATABASE,\n",
    "    schema=SNOWFLAKE_SCHEMA,\n",
    "    role=SNOWFLAKE_ROLE,\n",
    ")"
   ],
   "metadata": {
    "collapsed": false
   }
  },
  {
   "cell_type": "code",
   "execution_count": 6,
   "outputs": [],
   "source": [
    "pg_datasource = PostgreSqlDataSource(\n",
    "    connection_url=\"postgresql://@localhost:5432/aita\"\n",
    ")"
   ],
   "metadata": {
    "collapsed": false
   }
  },
  {
   "cell_type": "code",
   "execution_count": 7,
   "outputs": [
    {
     "name": "stdout",
     "output_type": "stream",
     "text": [
      "To get the top 5 customers who make the most purchases, you can use SQL to query the data from the table `snowflake_sample_data.tpch_sf1`. You will need to look at the relevant columns that indicate customer information and purchase details.\n",
      "\n",
      "Here is a sample SQL query that you can use to achieve this:\n",
      "\n",
      "```sql\n",
      "SELECT c.custkey, c.name, COUNT(o.orderkey) as total_purchases\n",
      "FROM snowflake_sample_data.tpch_sf1.customer c\n",
      "JOIN snowflake_sample_data.tpch_sf1.orders o ON c.custkey = o.custkey\n",
      "GROUP BY c.custkey, c.name\n",
      "ORDER BY total_purchases DESC\n",
      "LIMIT 5;\n",
      "```\n",
      "\n",
      "In this query:\n",
      "- `snowflake_sample_data.tpch_sf1.customer` is the table containing customer information.\n",
      "- `snowflake_sample_data.tpch_sf1.orders` is the table containing order information.\n",
      "- `c.custkey` is the customer key used to join the two tables.\n",
      "- `c.name` is the customer name.\n",
      "- `o.orderkey` is the order key used to count the total number of purchases for each customer.\n",
      "- We are grouping by customer key and name to count the total purchases for each customer.\n",
      "- We are ordering the results by total purchases in descending order.\n",
      "- Using `LIMIT 5` to get only the top 5 customers with the most purchases.\n",
      "\n",
      "Please replace the column names and table names with the actual column names and table names you have in your data schema if they are different.\n",
      "\n",
      "Run this query in your Snowflake environment to retrieve the top 5 customers who made the most purchases."
     ]
    }
   ],
   "source": [
    "aita_agent = AitaAgent(\"gpt-3.5-turbo\") \\\n",
    "    .set_prompt_context(\"Data Schema: snowflake_sample_data.tpch_sf1\") \\\n",
    "    .add_datasource(sf_datasource)\n",
    "aita_agent.chat(\"I want to get the top 5 customers which making the most purchases\")"
   ],
   "metadata": {
    "collapsed": false
   }
  },
  {
   "cell_type": "code",
   "execution_count": 8,
   "outputs": [
    {
     "name": "stdout",
     "output_type": "stream",
     "text": [
      "================================\u001B[1m Human Message \u001B[0m=================================\n",
      "\n",
      "I want to get the top 5 customers which making the most purchases\n",
      "==================================\u001B[1m Ai Message \u001B[0m==================================\n",
      "\n",
      "To get the top 5 customers who are making the most purchases, we can query the `CUSTOMER` and `ORDERS` tables to calculate the total purchases made by each customer. Then, we can rank the customers based on the total purchases and select the top 5 customers.\n",
      "\n",
      "Here is the general approach we will follow:\n",
      "1. Join the `CUSTOMER` and `ORDERS` tables on the `C_CUSTKEY` column.\n",
      "2. Calculate the total purchases made by each customer by summing up the `O_TOTALPRICE` from the `ORDERS` table.\n",
      "3. Rank the customers based on their total purchases.\n",
      "4. Select the top 5 customers with the highest total purchases.\n",
      "\n",
      "Let's proceed with executing this query to get the top 5 customers making the most purchases.\n",
      "Tool Calls:\n",
      "  sql_database_query (call_0gVJbKZrJx9GbYnLY62kMbZ5)\n",
      " Call ID: call_0gVJbKZrJx9GbYnLY62kMbZ5\n",
      "  Args:\n",
      "    query: SELECT C.C_CUSTKEY, C.C_NAME, SUM(O.O_TOTALPRICE) AS TOTAL_PURCHASES \n",
      "FROM CUSTOMER C \n",
      "JOIN ORDERS O ON C.C_CUSTKEY = O.O_CUSTKEY \n",
      "GROUP BY C.C_CUSTKEY, C.C_NAME \n",
      "ORDER BY TOTAL_PURCHASES DESC \n",
      "LIMIT 5;\n"
     ]
    },
    {
     "data": {
      "text/plain": "<generator object Pregel.stream at 0x166a11c70>"
     },
     "execution_count": 8,
     "metadata": {},
     "output_type": "execute_result"
    }
   ],
   "source": [
    "# Basic example of using the SQL agent\n",
    "from aita.prompt.base import BasicDataSourcePromptTemplate\n",
    "\n",
    "sql_agent = SqlAgent(\"gpt-3.5-turbo\") \\\n",
    "    .set_prompt_context(BasicDataSourcePromptTemplate) \\\n",
    "    .add_datasource(sf_datasource) \\\n",
    "\n",
    "sql_agent.chat(\"I want to get the top 5 customers which making the most purchases\")"
   ],
   "metadata": {
    "collapsed": false
   }
  },
  {
   "cell_type": "code",
   "execution_count": 9,
   "outputs": [
    {
     "name": "stdout",
     "output_type": "stream",
     "text": [
      "=================================\u001B[1m Tool Message \u001B[0m=================================\n",
      "Name: sql_database_query\n",
      "\n",
      "[(Decimal('143500'), 'Customer#000143500', Decimal('7012696.48')), (Decimal('95257'), 'Customer#000095257', Decimal('6563511.23')), (Decimal('87115'), 'Customer#000087115', Decimal('6457526.26')), (Decimal('131113'), 'Customer#000131113', Decimal('6311428.86')), (Decimal('103834'), 'Customer#000103834', Decimal('6306524.23'))]\n",
      "==================================\u001B[1m Ai Message \u001B[0m==================================\n",
      "\n",
      "The top 5 customers who have made the most purchases are as follows:\n",
      "\n",
      "1. Customer#000143500 with total purchases of $7,012,696.48\n",
      "2. Customer#000095257 with total purchases of $6,563,511.23\n",
      "3. Customer#000087115 with total purchases of $6,457,526.26\n",
      "4. Customer#000131113 with total purchases of $6,311,428.86\n",
      "5. Customer#000103834 with total purchases of $6,306,524.23\n",
      "\n",
      "These customers have the highest total purchases among all customers.\n"
     ]
    },
    {
     "data": {
      "text/plain": "<generator object Pregel.stream at 0x166925480>"
     },
     "execution_count": 9,
     "metadata": {},
     "output_type": "execute_result"
    }
   ],
   "source": [
    "sql_agent.chat(allow_run_tool=True)"
   ],
   "metadata": {
    "collapsed": false
   }
  },
  {
   "cell_type": "code",
   "execution_count": 9,
   "outputs": [
    {
     "name": "stdout",
     "output_type": "stream",
     "text": [
      "================================\u001B[1m Human Message \u001B[0m=================================\n",
      "\n",
      "\n",
      "SELECT c_custkey, c_name, SUM(o_totalprice) AS total_purchase\n",
      "FROM snowflake_sample_data.tpch_sf1.customer\n",
      "JOIN snowflake_sample_data.tpch_sf1.orders\n",
      "ON c_custkey = o_custkey\n",
      "GROUP BY c_custkey, c_name\n",
      "ORDER BY total_purchase\n",
      "DESC LIMIT 10\n",
      "\n",
      "==================================\u001B[1m Ai Message \u001B[0m==================================\n",
      "\n",
      "The query you provided aims to retrieve the top 10 customers based on the total purchase amount. It calculates the sum of the `O_TOTALPRICE` from the `ORDERS` table for each customer and then ranks the customers in descending order of total purchase amount.\n",
      "\n",
      "I will execute the provided query to get the top 10 customers based on their total purchase amount.\n",
      "Tool Calls:\n",
      "  sql_database_query (call_0XzB9V8OOyOvTu9qsGM4f7uD)\n",
      " Call ID: call_0XzB9V8OOyOvTu9qsGM4f7uD\n",
      "  Args:\n",
      "    query: SELECT C_CUSTKEY, C_NAME, SUM(O_TOTALPRICE) AS TOTAL_PURCHASE FROM SNOWFLAKE_SAMPLE_DATA.TPCH_SF1.CUSTOMER JOIN SNOWFLAKE_SAMPLE_DATA.TPCH_SF1.ORDERS ON C_CUSTKEY = O_CUSTKEY GROUP BY C_CUSTKEY, C_NAME ORDER BY TOTAL_PURCHASE DESC LIMIT 10;\n",
      "<generator object Pregel.stream at 0x153665660>\n"
     ]
    }
   ],
   "source": [
    "# Example of using the SQL agent to run a SQL query directly.\n",
    "sample_sql_query = \"\"\"\n",
    "SELECT c_custkey, c_name, SUM(o_totalprice) AS total_purchase\n",
    "FROM snowflake_sample_data.tpch_sf1.customer\n",
    "JOIN snowflake_sample_data.tpch_sf1.orders\n",
    "ON c_custkey = o_custkey\n",
    "GROUP BY c_custkey, c_name\n",
    "ORDER BY total_purchase\n",
    "DESC LIMIT 10\n",
    "\"\"\"\n",
    "\n",
    "sql_agent.chat(sample_sql_query)"
   ],
   "metadata": {
    "collapsed": false
   }
  },
  {
   "cell_type": "code",
   "execution_count": 10,
   "outputs": [
    {
     "data": {
      "text/plain": "[(Decimal('143500'), 'Customer#000143500', Decimal('7012696.48')),\n (Decimal('95257'), 'Customer#000095257', Decimal('6563511.23')),\n (Decimal('87115'), 'Customer#000087115', Decimal('6457526.26')),\n (Decimal('131113'), 'Customer#000131113', Decimal('6311428.86')),\n (Decimal('103834'), 'Customer#000103834', Decimal('6306524.23')),\n (Decimal('134380'), 'Customer#000134380', Decimal('6291610.15')),\n (Decimal('69682'), 'Customer#000069682', Decimal('6287149.42')),\n (Decimal('102022'), 'Customer#000102022', Decimal('6273788.41')),\n (Decimal('98587'), 'Customer#000098587', Decimal('6265089.35')),\n (Decimal('85102'), 'Customer#000085102', Decimal('6135483.63'))]"
     },
     "execution_count": 10,
     "metadata": {},
     "output_type": "execute_result"
    }
   ],
   "source": [
    "sql_agent.call_tool(\"sql_database_query\", tool_id=\"call_0XzB9V8OOyOvTu9qsGM4f7uD\")"
   ],
   "metadata": {
    "collapsed": false
   }
  },
  {
   "cell_type": "code",
   "execution_count": null,
   "outputs": [],
   "source": [],
   "metadata": {
    "collapsed": false
   }
  }
 ],
 "metadata": {
  "kernelspec": {
   "display_name": "Python 3",
   "language": "python",
   "name": "python3"
  },
  "language_info": {
   "codemirror_mode": {
    "name": "ipython",
    "version": 2
   },
   "file_extension": ".py",
   "mimetype": "text/x-python",
   "name": "python",
   "nbconvert_exporter": "python",
   "pygments_lexer": "ipython2",
   "version": "2.7.6"
  }
 },
 "nbformat": 4,
 "nbformat_minor": 0
}
