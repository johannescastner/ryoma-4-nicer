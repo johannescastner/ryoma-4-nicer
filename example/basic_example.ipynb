{
 "cells": [
  {
   "cell_type": "code",
   "execution_count": 1,
   "metadata": {
    "collapsed": true
   },
   "outputs": [],
   "source": [
    "import os\n",
    "from aita.datasource.snowflake import SnowflakeDataSource\n",
    "from aita.datasource.postgresql import PostgreSqlDataSource\n",
    "from aita.agent.sql import SqlAgent\n",
    "from aita.agent.pandas import PandasAgent\n",
    "from aita.agent.python import PythonAgent"
   ]
  },
  {
   "cell_type": "code",
   "execution_count": 2,
   "outputs": [],
   "source": [
    "SNOWFLAKE_USER = os.environ.get(\"SNOWFLAKE_USER\")\n",
    "SNOWFLAKE_PASSWORD = os.environ.get(\"SNOWFLAKE_PASSWORD\")\n",
    "SNOWFLAKE_ACCOUNT = os.environ.get(\"SNOWFLAKE_ACCOUNT\")\n",
    "SNOWFLAKE_WAREHOUSE = os.environ.get(\"SNOWFLAKE_WAREHOUSE\")\n",
    "SNOWFLAKE_DATABASE = os.environ.get(\"SNOWFLAKE_DATABASE\")\n",
    "SNOWFLAKE_SCHEMA = os.environ.get(\"SNOWFLAKE_SCHEMA\")\n",
    "SNOWFLAKE_ROLE = os.environ.get(\"SNOWFLAKE_ROLE\")"
   ],
   "metadata": {
    "collapsed": false
   }
  },
  {
   "cell_type": "code",
   "execution_count": 3,
   "outputs": [],
   "source": [
    "sf_datasource = SnowflakeDataSource(\n",
    "    user=SNOWFLAKE_USER,\n",
    "    password=SNOWFLAKE_PASSWORD,\n",
    "    account=SNOWFLAKE_ACCOUNT,\n",
    "    warehouse=SNOWFLAKE_WAREHOUSE,\n",
    "    database=SNOWFLAKE_DATABASE,\n",
    "    schema=SNOWFLAKE_SCHEMA,\n",
    "    role=SNOWFLAKE_ROLE,\n",
    ")"
   ],
   "metadata": {
    "collapsed": false
   }
  },
  {
   "cell_type": "code",
   "execution_count": 4,
   "outputs": [],
   "source": [
    "pg_datasource = PostgreSqlDataSource(\n",
    "    connection_url=\"postgresql://@localhost:5432/aita\"\n",
    ")"
   ],
   "metadata": {
    "collapsed": false
   }
  },
  {
   "cell_type": "code",
   "execution_count": 5,
   "outputs": [
    {
     "name": "stdout",
     "output_type": "stream",
     "text": [
      "Prompt: \n",
      "    context: \n",
      "    database metadata: [Catalog(catalog_name='SNOWFLAKE_SAMPLE_DATA', catalog_db_schemas=[DatabaseSchema(db_schema_name='TPCH_SF1', db_schema_tables=[Table(table_columns=[Column(column_name='PS_PARTKEY', xdbc_type_name='NUMBER', xdbc_nullable=False, primary_key=None), Column(column_name='PS_SUPPKEY', xdbc_type_name='NUMBER', xdbc_nullable=False, primary_key=None), Column(column_name='PS_AVAILQTY', xdbc_type_name='NUMBER', xdbc_nullable=False, primary_key=None), Column(column_name='PS_SUPPLYCOST', xdbc_type_name='NUMBER', xdbc_nullable=False, primary_key=None), Column(column_name='PS_COMMENT', xdbc_type_name='TEXT', xdbc_nullable=True, primary_key=None)], table_name='PARTSUPP'), Table(table_columns=[Column(column_name='R_REGIONKEY', xdbc_type_name='NUMBER', xdbc_nullable=False, primary_key=None), Column(column_name='R_NAME', xdbc_type_name='TEXT', xdbc_nullable=False, primary_key=None), Column(column_name='R_COMMENT', xdbc_type_name='TEXT', xdbc_nullable=True, primary_key=None)], table_name='REGION'), Table(table_columns=[Column(column_name='C_CUSTKEY', xdbc_type_name='NUMBER', xdbc_nullable=False, primary_key=None), Column(column_name='C_NAME', xdbc_type_name='TEXT', xdbc_nullable=False, primary_key=None), Column(column_name='C_ADDRESS', xdbc_type_name='TEXT', xdbc_nullable=False, primary_key=None), Column(column_name='C_NATIONKEY', xdbc_type_name='NUMBER', xdbc_nullable=False, primary_key=None), Column(column_name='C_PHONE', xdbc_type_name='TEXT', xdbc_nullable=False, primary_key=None), Column(column_name='C_ACCTBAL', xdbc_type_name='NUMBER', xdbc_nullable=False, primary_key=None), Column(column_name='C_MKTSEGMENT', xdbc_type_name='TEXT', xdbc_nullable=True, primary_key=None), Column(column_name='C_COMMENT', xdbc_type_name='TEXT', xdbc_nullable=True, primary_key=None)], table_name='CUSTOMER'), Table(table_columns=[Column(column_name='P_PARTKEY', xdbc_type_name='NUMBER', xdbc_nullable=False, primary_key=None), Column(column_name='P_NAME', xdbc_type_name='TEXT', xdbc_nullable=False, primary_key=None), Column(column_name='P_MFGR', xdbc_type_name='TEXT', xdbc_nullable=False, primary_key=None), Column(column_name='P_BRAND', xdbc_type_name='TEXT', xdbc_nullable=False, primary_key=None), Column(column_name='P_TYPE', xdbc_type_name='TEXT', xdbc_nullable=False, primary_key=None), Column(column_name='P_SIZE', xdbc_type_name='NUMBER', xdbc_nullable=False, primary_key=None), Column(column_name='P_CONTAINER', xdbc_type_name='TEXT', xdbc_nullable=False, primary_key=None), Column(column_name='P_RETAILPRICE', xdbc_type_name='NUMBER', xdbc_nullable=False, primary_key=None), Column(column_name='P_COMMENT', xdbc_type_name='TEXT', xdbc_nullable=True, primary_key=None)], table_name='PART'), Table(table_columns=[Column(column_name='O_ORDERKEY', xdbc_type_name='NUMBER', xdbc_nullable=False, primary_key=None), Column(column_name='O_CUSTKEY', xdbc_type_name='NUMBER', xdbc_nullable=False, primary_key=None), Column(column_name='O_ORDERSTATUS', xdbc_type_name='TEXT', xdbc_nullable=False, primary_key=None), Column(column_name='O_TOTALPRICE', xdbc_type_name='NUMBER', xdbc_nullable=False, primary_key=None), Column(column_name='O_ORDERDATE', xdbc_type_name='DATE', xdbc_nullable=False, primary_key=None), Column(column_name='O_ORDERPRIORITY', xdbc_type_name='TEXT', xdbc_nullable=False, primary_key=None), Column(column_name='O_CLERK', xdbc_type_name='TEXT', xdbc_nullable=False, primary_key=None), Column(column_name='O_SHIPPRIORITY', xdbc_type_name='NUMBER', xdbc_nullable=False, primary_key=None), Column(column_name='O_COMMENT', xdbc_type_name='TEXT', xdbc_nullable=False, primary_key=None)], table_name='ORDERS'), Table(table_columns=[Column(column_name='L_ORDERKEY', xdbc_type_name='NUMBER', xdbc_nullable=False, primary_key=None), Column(column_name='L_PARTKEY', xdbc_type_name='NUMBER', xdbc_nullable=False, primary_key=None), Column(column_name='L_SUPPKEY', xdbc_type_name='NUMBER', xdbc_nullable=False, primary_key=None), Column(column_name='L_LINENUMBER', xdbc_type_name='NUMBER', xdbc_nullable=False, primary_key=None), Column(column_name='L_QUANTITY', xdbc_type_name='NUMBER', xdbc_nullable=False, primary_key=None), Column(column_name='L_EXTENDEDPRICE', xdbc_type_name='NUMBER', xdbc_nullable=False, primary_key=None), Column(column_name='L_DISCOUNT', xdbc_type_name='NUMBER', xdbc_nullable=False, primary_key=None), Column(column_name='L_TAX', xdbc_type_name='NUMBER', xdbc_nullable=False, primary_key=None), Column(column_name='L_RETURNFLAG', xdbc_type_name='TEXT', xdbc_nullable=False, primary_key=None), Column(column_name='L_LINESTATUS', xdbc_type_name='TEXT', xdbc_nullable=False, primary_key=None), Column(column_name='L_SHIPDATE', xdbc_type_name='DATE', xdbc_nullable=False, primary_key=None), Column(column_name='L_COMMITDATE', xdbc_type_name='DATE', xdbc_nullable=False, primary_key=None), Column(column_name='L_RECEIPTDATE', xdbc_type_name='DATE', xdbc_nullable=False, primary_key=None), Column(column_name='L_SHIPINSTRUCT', xdbc_type_name='TEXT', xdbc_nullable=False, primary_key=None), Column(column_name='L_SHIPMODE', xdbc_type_name='TEXT', xdbc_nullable=False, primary_key=None), Column(column_name='L_COMMENT', xdbc_type_name='TEXT', xdbc_nullable=False, primary_key=None)], table_name='LINEITEM'), Table(table_columns=[Column(column_name='N_NATIONKEY', xdbc_type_name='NUMBER', xdbc_nullable=False, primary_key=None), Column(column_name='N_NAME', xdbc_type_name='TEXT', xdbc_nullable=False, primary_key=None), Column(column_name='N_REGIONKEY', xdbc_type_name='NUMBER', xdbc_nullable=False, primary_key=None), Column(column_name='N_COMMENT', xdbc_type_name='TEXT', xdbc_nullable=True, primary_key=None)], table_name='NATION'), Table(table_columns=[Column(column_name='S_SUPPKEY', xdbc_type_name='NUMBER', xdbc_nullable=False, primary_key=None), Column(column_name='S_NAME', xdbc_type_name='TEXT', xdbc_nullable=False, primary_key=None), Column(column_name='S_ADDRESS', xdbc_type_name='TEXT', xdbc_nullable=False, primary_key=None), Column(column_name='S_NATIONKEY', xdbc_type_name='NUMBER', xdbc_nullable=False, primary_key=None), Column(column_name='S_PHONE', xdbc_type_name='TEXT', xdbc_nullable=False, primary_key=None), Column(column_name='S_ACCTBAL', xdbc_type_name='NUMBER', xdbc_nullable=False, primary_key=None), Column(column_name='S_COMMENT', xdbc_type_name='TEXT', xdbc_nullable=True, primary_key=None)], table_name='SUPPLIER')])])]\n",
      "    \n",
      "\n",
      "    question: I want to get the top customers which making the most purchases\n",
      "    \n",
      "content='' additional_kwargs={'tool_calls': [{'id': 'call_hz0Cxa945euS44penBf8GspI', 'function': {'arguments': '{\"query\":\"SELECT C_NAME, SUM(O_TOTALPRICE) AS TOTAL_PURCHASES\\\\nFROM CUSTOMER\\\\nJOIN ORDERS ON C_CUSTKEY = O_CUSTKEY\\\\nGROUP BY C_NAME\\\\nORDER BY TOTAL_PURCHASES DESC\\\\nLIMIT 10\"}', 'name': 'sql_database_query'}, 'type': 'function'}]} response_metadata={'token_usage': {'completion_tokens': 63, 'prompt_tokens': 1705, 'total_tokens': 1768}, 'model_name': 'gpt-3.5-turbo', 'system_fingerprint': 'fp_3b956da36b', 'finish_reason': 'tool_calls', 'logprobs': None} id='run-13c8059c-b53a-4817-8695-2aa8e387fc05-0' tool_calls=[{'name': 'sql_database_query', 'args': {'query': 'SELECT C_NAME, SUM(O_TOTALPRICE) AS TOTAL_PURCHASES\\nFROM CUSTOMER\\nJOIN ORDERS ON C_CUSTKEY = O_CUSTKEY\\nGROUP BY C_NAME\\nORDER BY TOTAL_PURCHASES DESC\\nLIMIT 10'}, 'id': 'call_hz0Cxa945euS44penBf8GspI'}]\n"
     ]
    }
   ],
   "source": [
    "# Basic example of using the SQL agent\n",
    "sql_agent = SqlAgent(sf_datasource, \"gpt-3.5-turbo\", allow_extract_metadata=True)\n",
    "\n",
    "print(sql_agent.chat(\"I want to get the top customers which making the most purchases\"))"
   ],
   "metadata": {
    "collapsed": false
   }
  },
  {
   "cell_type": "code",
   "execution_count": 6,
   "outputs": [
    {
     "name": "stdout",
     "output_type": "stream",
     "text": [
      "[(Decimal('143500'), 'Customer#000143500', Decimal('7012696.48')), (Decimal('95257'), 'Customer#000095257', Decimal('6563511.23')), (Decimal('87115'), 'Customer#000087115', Decimal('6457526.26')), (Decimal('131113'), 'Customer#000131113', Decimal('6311428.86')), (Decimal('103834'), 'Customer#000103834', Decimal('6306524.23')), (Decimal('134380'), 'Customer#000134380', Decimal('6291610.15')), (Decimal('69682'), 'Customer#000069682', Decimal('6287149.42')), (Decimal('102022'), 'Customer#000102022', Decimal('6273788.41')), (Decimal('98587'), 'Customer#000098587', Decimal('6265089.35')), (Decimal('85102'), 'Customer#000085102', Decimal('6135483.63'))]\n",
      "Prompt: \n",
      "    context: \n",
      "    database metadata: [Catalog(catalog_name='SNOWFLAKE_SAMPLE_DATA', catalog_db_schemas=[DatabaseSchema(db_schema_name='TPCH_SF1', db_schema_tables=[Table(table_columns=[Column(column_name='PS_PARTKEY', xdbc_type_name='NUMBER', xdbc_nullable=False, primary_key=None), Column(column_name='PS_SUPPKEY', xdbc_type_name='NUMBER', xdbc_nullable=False, primary_key=None), Column(column_name='PS_AVAILQTY', xdbc_type_name='NUMBER', xdbc_nullable=False, primary_key=None), Column(column_name='PS_SUPPLYCOST', xdbc_type_name='NUMBER', xdbc_nullable=False, primary_key=None), Column(column_name='PS_COMMENT', xdbc_type_name='TEXT', xdbc_nullable=True, primary_key=None)], table_name='PARTSUPP'), Table(table_columns=[Column(column_name='R_REGIONKEY', xdbc_type_name='NUMBER', xdbc_nullable=False, primary_key=None), Column(column_name='R_NAME', xdbc_type_name='TEXT', xdbc_nullable=False, primary_key=None), Column(column_name='R_COMMENT', xdbc_type_name='TEXT', xdbc_nullable=True, primary_key=None)], table_name='REGION'), Table(table_columns=[Column(column_name='C_CUSTKEY', xdbc_type_name='NUMBER', xdbc_nullable=False, primary_key=None), Column(column_name='C_NAME', xdbc_type_name='TEXT', xdbc_nullable=False, primary_key=None), Column(column_name='C_ADDRESS', xdbc_type_name='TEXT', xdbc_nullable=False, primary_key=None), Column(column_name='C_NATIONKEY', xdbc_type_name='NUMBER', xdbc_nullable=False, primary_key=None), Column(column_name='C_PHONE', xdbc_type_name='TEXT', xdbc_nullable=False, primary_key=None), Column(column_name='C_ACCTBAL', xdbc_type_name='NUMBER', xdbc_nullable=False, primary_key=None), Column(column_name='C_MKTSEGMENT', xdbc_type_name='TEXT', xdbc_nullable=True, primary_key=None), Column(column_name='C_COMMENT', xdbc_type_name='TEXT', xdbc_nullable=True, primary_key=None)], table_name='CUSTOMER'), Table(table_columns=[Column(column_name='P_PARTKEY', xdbc_type_name='NUMBER', xdbc_nullable=False, primary_key=None), Column(column_name='P_NAME', xdbc_type_name='TEXT', xdbc_nullable=False, primary_key=None), Column(column_name='P_MFGR', xdbc_type_name='TEXT', xdbc_nullable=False, primary_key=None), Column(column_name='P_BRAND', xdbc_type_name='TEXT', xdbc_nullable=False, primary_key=None), Column(column_name='P_TYPE', xdbc_type_name='TEXT', xdbc_nullable=False, primary_key=None), Column(column_name='P_SIZE', xdbc_type_name='NUMBER', xdbc_nullable=False, primary_key=None), Column(column_name='P_CONTAINER', xdbc_type_name='TEXT', xdbc_nullable=False, primary_key=None), Column(column_name='P_RETAILPRICE', xdbc_type_name='NUMBER', xdbc_nullable=False, primary_key=None), Column(column_name='P_COMMENT', xdbc_type_name='TEXT', xdbc_nullable=True, primary_key=None)], table_name='PART'), Table(table_columns=[Column(column_name='O_ORDERKEY', xdbc_type_name='NUMBER', xdbc_nullable=False, primary_key=None), Column(column_name='O_CUSTKEY', xdbc_type_name='NUMBER', xdbc_nullable=False, primary_key=None), Column(column_name='O_ORDERSTATUS', xdbc_type_name='TEXT', xdbc_nullable=False, primary_key=None), Column(column_name='O_TOTALPRICE', xdbc_type_name='NUMBER', xdbc_nullable=False, primary_key=None), Column(column_name='O_ORDERDATE', xdbc_type_name='DATE', xdbc_nullable=False, primary_key=None), Column(column_name='O_ORDERPRIORITY', xdbc_type_name='TEXT', xdbc_nullable=False, primary_key=None), Column(column_name='O_CLERK', xdbc_type_name='TEXT', xdbc_nullable=False, primary_key=None), Column(column_name='O_SHIPPRIORITY', xdbc_type_name='NUMBER', xdbc_nullable=False, primary_key=None), Column(column_name='O_COMMENT', xdbc_type_name='TEXT', xdbc_nullable=False, primary_key=None)], table_name='ORDERS'), Table(table_columns=[Column(column_name='L_ORDERKEY', xdbc_type_name='NUMBER', xdbc_nullable=False, primary_key=None), Column(column_name='L_PARTKEY', xdbc_type_name='NUMBER', xdbc_nullable=False, primary_key=None), Column(column_name='L_SUPPKEY', xdbc_type_name='NUMBER', xdbc_nullable=False, primary_key=None), Column(column_name='L_LINENUMBER', xdbc_type_name='NUMBER', xdbc_nullable=False, primary_key=None), Column(column_name='L_QUANTITY', xdbc_type_name='NUMBER', xdbc_nullable=False, primary_key=None), Column(column_name='L_EXTENDEDPRICE', xdbc_type_name='NUMBER', xdbc_nullable=False, primary_key=None), Column(column_name='L_DISCOUNT', xdbc_type_name='NUMBER', xdbc_nullable=False, primary_key=None), Column(column_name='L_TAX', xdbc_type_name='NUMBER', xdbc_nullable=False, primary_key=None), Column(column_name='L_RETURNFLAG', xdbc_type_name='TEXT', xdbc_nullable=False, primary_key=None), Column(column_name='L_LINESTATUS', xdbc_type_name='TEXT', xdbc_nullable=False, primary_key=None), Column(column_name='L_SHIPDATE', xdbc_type_name='DATE', xdbc_nullable=False, primary_key=None), Column(column_name='L_COMMITDATE', xdbc_type_name='DATE', xdbc_nullable=False, primary_key=None), Column(column_name='L_RECEIPTDATE', xdbc_type_name='DATE', xdbc_nullable=False, primary_key=None), Column(column_name='L_SHIPINSTRUCT', xdbc_type_name='TEXT', xdbc_nullable=False, primary_key=None), Column(column_name='L_SHIPMODE', xdbc_type_name='TEXT', xdbc_nullable=False, primary_key=None), Column(column_name='L_COMMENT', xdbc_type_name='TEXT', xdbc_nullable=False, primary_key=None)], table_name='LINEITEM'), Table(table_columns=[Column(column_name='N_NATIONKEY', xdbc_type_name='NUMBER', xdbc_nullable=False, primary_key=None), Column(column_name='N_NAME', xdbc_type_name='TEXT', xdbc_nullable=False, primary_key=None), Column(column_name='N_REGIONKEY', xdbc_type_name='NUMBER', xdbc_nullable=False, primary_key=None), Column(column_name='N_COMMENT', xdbc_type_name='TEXT', xdbc_nullable=True, primary_key=None)], table_name='NATION'), Table(table_columns=[Column(column_name='S_SUPPKEY', xdbc_type_name='NUMBER', xdbc_nullable=False, primary_key=None), Column(column_name='S_NAME', xdbc_type_name='TEXT', xdbc_nullable=False, primary_key=None), Column(column_name='S_ADDRESS', xdbc_type_name='TEXT', xdbc_nullable=False, primary_key=None), Column(column_name='S_NATIONKEY', xdbc_type_name='NUMBER', xdbc_nullable=False, primary_key=None), Column(column_name='S_PHONE', xdbc_type_name='TEXT', xdbc_nullable=False, primary_key=None), Column(column_name='S_ACCTBAL', xdbc_type_name='NUMBER', xdbc_nullable=False, primary_key=None), Column(column_name='S_COMMENT', xdbc_type_name='TEXT', xdbc_nullable=True, primary_key=None)], table_name='SUPPLIER')])])]\n",
      "    \n",
      "\n",
      "    question: I want to get the top customers which making the most purchases\n",
      "    \n",
      "[[('Customer#000143500', Decimal('7012696.48')), ('Customer#000095257', Decimal('6563511.23')), ('Customer#000087115', Decimal('6457526.26')), ('Customer#000131113', Decimal('6311428.86')), ('Customer#000103834', Decimal('6306524.23'))]]\n"
     ]
    }
   ],
   "source": [
    "# Example of using the SQL agent to run a tool such as querying the data source\n",
    "sample_sql_query = \"\"\"\n",
    "SELECT c_custkey, c_name, SUM(o_totalprice) AS total_purchase\n",
    "FROM snowflake_sample_data.tpch_sf1.customer\n",
    "JOIN snowflake_sample_data.tpch_sf1.orders\n",
    "ON c_custkey = o_custkey\n",
    "GROUP BY c_custkey, c_name\n",
    "ORDER BY total_purchase\n",
    "DESC LIMIT 10\n",
    "\"\"\"\n",
    "\n",
    "tool_spec = {\"name\": \"sql_database_query\", \"arguments\": {\"query\": sample_sql_query}}\n",
    "print(sql_agent.run_tool(tool_spec))\n",
    "\n",
    "# or rather specify the allow_run_tool=True in the chat method\n",
    "print(sql_agent.chat(\"I want to get the top customers which making the most purchases\", allow_run_tool=True))"
   ],
   "metadata": {
    "collapsed": false
   }
  },
  {
   "cell_type": "code",
   "execution_count": 5,
   "outputs": [
    {
     "name": "stdout",
     "output_type": "stream",
     "text": [
      "Prompt Context: \n",
      "    Meta data of all available data sources\n",
      "    [Catalog(catalog_name='SNOWFLAKE_SAMPLE_DATA', catalog_db_schemas=[DatabaseSchema(db_schema_name='TPCH_SF1', db_schema_tables=[Table(table_columns=[Column(column_name='PS_PARTKEY', xdbc_type_name='NUMBER', xdbc_nullable=False, primary_key=None), Column(column_name='PS_SUPPKEY', xdbc_type_name='NUMBER', xdbc_nullable=False, primary_key=None), Column(column_name='PS_AVAILQTY', xdbc_type_name='NUMBER', xdbc_nullable=False, primary_key=None), Column(column_name='PS_SUPPLYCOST', xdbc_type_name='NUMBER', xdbc_nullable=False, primary_key=None), Column(column_name='PS_COMMENT', xdbc_type_name='TEXT', xdbc_nullable=True, primary_key=None)], table_name='PARTSUPP'), Table(table_columns=[Column(column_name='R_REGIONKEY', xdbc_type_name='NUMBER', xdbc_nullable=False, primary_key=None), Column(column_name='R_NAME', xdbc_type_name='TEXT', xdbc_nullable=False, primary_key=None), Column(column_name='R_COMMENT', xdbc_type_name='TEXT', xdbc_nullable=True, primary_key=None)], table_name='REGION'), Table(table_columns=[Column(column_name='C_CUSTKEY', xdbc_type_name='NUMBER', xdbc_nullable=False, primary_key=None), Column(column_name='C_NAME', xdbc_type_name='TEXT', xdbc_nullable=False, primary_key=None), Column(column_name='C_ADDRESS', xdbc_type_name='TEXT', xdbc_nullable=False, primary_key=None), Column(column_name='C_NATIONKEY', xdbc_type_name='NUMBER', xdbc_nullable=False, primary_key=None), Column(column_name='C_PHONE', xdbc_type_name='TEXT', xdbc_nullable=False, primary_key=None), Column(column_name='C_ACCTBAL', xdbc_type_name='NUMBER', xdbc_nullable=False, primary_key=None), Column(column_name='C_MKTSEGMENT', xdbc_type_name='TEXT', xdbc_nullable=True, primary_key=None), Column(column_name='C_COMMENT', xdbc_type_name='TEXT', xdbc_nullable=True, primary_key=None)], table_name='CUSTOMER'), Table(table_columns=[Column(column_name='P_PARTKEY', xdbc_type_name='NUMBER', xdbc_nullable=False, primary_key=None), Column(column_name='P_NAME', xdbc_type_name='TEXT', xdbc_nullable=False, primary_key=None), Column(column_name='P_MFGR', xdbc_type_name='TEXT', xdbc_nullable=False, primary_key=None), Column(column_name='P_BRAND', xdbc_type_name='TEXT', xdbc_nullable=False, primary_key=None), Column(column_name='P_TYPE', xdbc_type_name='TEXT', xdbc_nullable=False, primary_key=None), Column(column_name='P_SIZE', xdbc_type_name='NUMBER', xdbc_nullable=False, primary_key=None), Column(column_name='P_CONTAINER', xdbc_type_name='TEXT', xdbc_nullable=False, primary_key=None), Column(column_name='P_RETAILPRICE', xdbc_type_name='NUMBER', xdbc_nullable=False, primary_key=None), Column(column_name='P_COMMENT', xdbc_type_name='TEXT', xdbc_nullable=True, primary_key=None)], table_name='PART'), Table(table_columns=[Column(column_name='O_ORDERKEY', xdbc_type_name='NUMBER', xdbc_nullable=False, primary_key=None), Column(column_name='O_CUSTKEY', xdbc_type_name='NUMBER', xdbc_nullable=False, primary_key=None), Column(column_name='O_ORDERSTATUS', xdbc_type_name='TEXT', xdbc_nullable=False, primary_key=None), Column(column_name='O_TOTALPRICE', xdbc_type_name='NUMBER', xdbc_nullable=False, primary_key=None), Column(column_name='O_ORDERDATE', xdbc_type_name='DATE', xdbc_nullable=False, primary_key=None), Column(column_name='O_ORDERPRIORITY', xdbc_type_name='TEXT', xdbc_nullable=False, primary_key=None), Column(column_name='O_CLERK', xdbc_type_name='TEXT', xdbc_nullable=False, primary_key=None), Column(column_name='O_SHIPPRIORITY', xdbc_type_name='NUMBER', xdbc_nullable=False, primary_key=None), Column(column_name='O_COMMENT', xdbc_type_name='TEXT', xdbc_nullable=False, primary_key=None)], table_name='ORDERS'), Table(table_columns=[Column(column_name='L_ORDERKEY', xdbc_type_name='NUMBER', xdbc_nullable=False, primary_key=None), Column(column_name='L_PARTKEY', xdbc_type_name='NUMBER', xdbc_nullable=False, primary_key=None), Column(column_name='L_SUPPKEY', xdbc_type_name='NUMBER', xdbc_nullable=False, primary_key=None), Column(column_name='L_LINENUMBER', xdbc_type_name='NUMBER', xdbc_nullable=False, primary_key=None), Column(column_name='L_QUANTITY', xdbc_type_name='NUMBER', xdbc_nullable=False, primary_key=None), Column(column_name='L_EXTENDEDPRICE', xdbc_type_name='NUMBER', xdbc_nullable=False, primary_key=None), Column(column_name='L_DISCOUNT', xdbc_type_name='NUMBER', xdbc_nullable=False, primary_key=None), Column(column_name='L_TAX', xdbc_type_name='NUMBER', xdbc_nullable=False, primary_key=None), Column(column_name='L_RETURNFLAG', xdbc_type_name='TEXT', xdbc_nullable=False, primary_key=None), Column(column_name='L_LINESTATUS', xdbc_type_name='TEXT', xdbc_nullable=False, primary_key=None), Column(column_name='L_SHIPDATE', xdbc_type_name='DATE', xdbc_nullable=False, primary_key=None), Column(column_name='L_COMMITDATE', xdbc_type_name='DATE', xdbc_nullable=False, primary_key=None), Column(column_name='L_RECEIPTDATE', xdbc_type_name='DATE', xdbc_nullable=False, primary_key=None), Column(column_name='L_SHIPINSTRUCT', xdbc_type_name='TEXT', xdbc_nullable=False, primary_key=None), Column(column_name='L_SHIPMODE', xdbc_type_name='TEXT', xdbc_nullable=False, primary_key=None), Column(column_name='L_COMMENT', xdbc_type_name='TEXT', xdbc_nullable=False, primary_key=None)], table_name='LINEITEM'), Table(table_columns=[Column(column_name='N_NATIONKEY', xdbc_type_name='NUMBER', xdbc_nullable=False, primary_key=None), Column(column_name='N_NAME', xdbc_type_name='TEXT', xdbc_nullable=False, primary_key=None), Column(column_name='N_REGIONKEY', xdbc_type_name='NUMBER', xdbc_nullable=False, primary_key=None), Column(column_name='N_COMMENT', xdbc_type_name='TEXT', xdbc_nullable=True, primary_key=None)], table_name='NATION'), Table(table_columns=[Column(column_name='S_SUPPKEY', xdbc_type_name='NUMBER', xdbc_nullable=False, primary_key=None), Column(column_name='S_NAME', xdbc_type_name='TEXT', xdbc_nullable=False, primary_key=None), Column(column_name='S_ADDRESS', xdbc_type_name='TEXT', xdbc_nullable=False, primary_key=None), Column(column_name='S_NATIONKEY', xdbc_type_name='NUMBER', xdbc_nullable=False, primary_key=None), Column(column_name='S_PHONE', xdbc_type_name='TEXT', xdbc_nullable=False, primary_key=None), Column(column_name='S_ACCTBAL', xdbc_type_name='NUMBER', xdbc_nullable=False, primary_key=None), Column(column_name='S_COMMENT', xdbc_type_name='TEXT', xdbc_nullable=True, primary_key=None)], table_name='SUPPLIER')])])]\n",
      "\n",
      "    pandas dataframe can be created by using the data source as:\n",
      "    datasource.to_pandas(query)\n",
      "    \n",
      "content=\"To get the top customers who are making the most purchases, we can follow these steps:\\n\\n1. Join the `ORDERS` table with the `CUSTOMER` table on the `C_CUSTKEY` column.\\n2. Group the data by customer and calculate the total amount spent by each customer.\\n3. Sort the customers based on the total amount spent in descending order.\\n4. Select the top customers who are making the most purchases.\\n\\nLet's start by writing a Python script that performs these steps using the provided data sources.\" additional_kwargs={'tool_calls': [{'id': 'call_AHuSg34hE9l51HeKDSVlkwMD', 'function': {'arguments': '{\"script\":\"import pandas as pd\\\\n\\\\n# Define the data sources\\\\norders_data = datasource.to_pandas(\\'SELECT * FROM ORDERS\\')\\\\ncustomer_data = datasource.to_pandas(\\'SELECT * FROM CUSTOMER\\')\\\\n\\\\n# Join the ORDERS and CUSTOMER tables\\\\nmerged_data = pd.merge(orders_data, customer_data, left_on=\\'O_CUSTKEY\\', right_on=\\'C_CUSTKEY\\')\\\\n\\\\n# Group by customer and calculate total amount spent\\\\ncustomer_total_spent = merged_data.groupby(\\'C_NAME\\')[\\'O_TOTALPRICE\\'].sum().reset_index()\\\\n\\\\n# Sort customers based on total amount spent\\\\ntop_customers = customer_total_spent.sort_values(by=\\'O_TOTALPRICE\\', ascending=False)\\\\n\\\\n# Display the top customers\\\\ntop_customers.head()\"}', 'name': 'pandas_analysis_tool'}, 'type': 'function'}]} response_metadata={'token_usage': {'completion_tokens': 283, 'prompt_tokens': 1718, 'total_tokens': 2001}, 'model_name': 'gpt-3.5-turbo', 'system_fingerprint': 'fp_3b956da36b', 'finish_reason': 'tool_calls', 'logprobs': None} id='run-8829b022-040c-4adc-9ef8-24099a00d701-0' tool_calls=[{'name': 'pandas_analysis_tool', 'args': {'script': \"import pandas as pd\\n\\n# Define the data sources\\norders_data = datasource.to_pandas('SELECT * FROM ORDERS')\\ncustomer_data = datasource.to_pandas('SELECT * FROM CUSTOMER')\\n\\n# Join the ORDERS and CUSTOMER tables\\nmerged_data = pd.merge(orders_data, customer_data, left_on='O_CUSTKEY', right_on='C_CUSTKEY')\\n\\n# Group by customer and calculate total amount spent\\ncustomer_total_spent = merged_data.groupby('C_NAME')['O_TOTALPRICE'].sum().reset_index()\\n\\n# Sort customers based on total amount spent\\ntop_customers = customer_total_spent.sort_values(by='O_TOTALPRICE', ascending=False)\\n\\n# Display the top customers\\ntop_customers.head()\"}, 'id': 'call_AHuSg34hE9l51HeKDSVlkwMD'}]\n"
     ]
    }
   ],
   "source": [
    "# Example of using the Pandas agent\n",
    "pandas_agent = PandasAgent(sf_datasource, \"gpt-3.5-turbo\")\n",
    "print(pandas_agent.chat(\"I want to get the top customers which making the most purchases\"))"
   ],
   "metadata": {
    "collapsed": false
   }
  },
  {
   "cell_type": "code",
   "execution_count": 7,
   "outputs": [
    {
     "data": {
      "text/plain": "                   C_NAME O_TOTALPRICE\n95662  Customer#000143500   7012696.48\n63500  Customer#000095257   6563511.23\n58072  Customer#000087115   6457526.26\n87404  Customer#000131113   6311428.86\n69218  Customer#000103834   6306524.23",
      "text/html": "<div>\n<style scoped>\n    .dataframe tbody tr th:only-of-type {\n        vertical-align: middle;\n    }\n\n    .dataframe tbody tr th {\n        vertical-align: top;\n    }\n\n    .dataframe thead th {\n        text-align: right;\n    }\n</style>\n<table border=\"1\" class=\"dataframe\">\n  <thead>\n    <tr style=\"text-align: right;\">\n      <th></th>\n      <th>C_NAME</th>\n      <th>O_TOTALPRICE</th>\n    </tr>\n  </thead>\n  <tbody>\n    <tr>\n      <th>95662</th>\n      <td>Customer#000143500</td>\n      <td>7012696.48</td>\n    </tr>\n    <tr>\n      <th>63500</th>\n      <td>Customer#000095257</td>\n      <td>6563511.23</td>\n    </tr>\n    <tr>\n      <th>58072</th>\n      <td>Customer#000087115</td>\n      <td>6457526.26</td>\n    </tr>\n    <tr>\n      <th>87404</th>\n      <td>Customer#000131113</td>\n      <td>6311428.86</td>\n    </tr>\n    <tr>\n      <th>69218</th>\n      <td>Customer#000103834</td>\n      <td>6306524.23</td>\n    </tr>\n  </tbody>\n</table>\n</div>"
     },
     "execution_count": 7,
     "metadata": {},
     "output_type": "execute_result"
    },
    {
     "data": {
      "text/plain": "<ExecutionResult object at 16aa00d60, execution_count=None error_before_exec=None error_in_exec=None info=<ExecutionInfo object at 16aa00b20, raw_cell=\"\n import pandas as pd\n\n# Define the data sources\no..\" store_history=False silent=False shell_futures=True cell_id=None> result=                   C_NAME O_TOTALPRICE\n95662  Customer#000143500   7012696.48\n63500  Customer#000095257   6563511.23\n58072  Customer#000087115   6457526.26\n87404  Customer#000131113   6311428.86\n69218  Customer#000103834   6306524.23>"
     },
     "execution_count": 7,
     "metadata": {},
     "output_type": "execute_result"
    }
   ],
   "source": [
    "tool_spec = {\n",
    "    \"name\": \"pandas_analysis_tool\",\n",
    "    \"arguments\": {\n",
    "        \"script\": \"\"\"\n",
    " import pandas as pd\\n\\n# Define the data sources\\norders_data = datasource.to_pandas('SELECT * FROM ORDERS')\\ncustomer_data = datasource.to_pandas('SELECT * FROM CUSTOMER')\\n\\n# Join the ORDERS and CUSTOMER tables\\nmerged_data = pd.merge(orders_data, customer_data, left_on='O_CUSTKEY', right_on='C_CUSTKEY')\\n\\n# Group by customer and calculate total amount spent\\ncustomer_total_spent = merged_data.groupby('C_NAME')['O_TOTALPRICE'].sum().reset_index()\\n\\n# Sort customers based on total amount spent\\ntop_customers = customer_total_spent.sort_values(by='O_TOTALPRICE', ascending=False)\\n\\n# Display the top customers\\ntop_customers.head()\n",
    " \"\"\"}\n",
    "}\n",
    "pandas_agent.run_tool(tool_spec)"
   ],
   "metadata": {
    "collapsed": false
   }
  },
  {
   "cell_type": "code",
   "execution_count": 13,
   "outputs": [
    {
     "data": {
      "text/plain": "AIMessage(content='', additional_kwargs={'tool_calls': [{'id': 'call_orwj7EXFcRFpnPmp0hjd4zIV', 'function': {'arguments': '{\"script\":\"\\\\nimport pandas as pd\\\\n\\\\n# Retrieve data from the Snowflake database\\\\nquery = \\'SELECT * FROM customers\\'\\\\ncustomers_data = context[\\'data_source\\'].execute_query(query)\\\\n\\\\n# Display the customers data\\\\ncustomers_data\"}', 'name': 'run_ipython_script_tool'}, 'type': 'function'}]}, response_metadata={'token_usage': {'completion_tokens': 65, 'prompt_tokens': 135, 'total_tokens': 200}, 'model_name': 'gpt-3.5-turbo', 'system_fingerprint': 'fp_3b956da36b', 'finish_reason': 'tool_calls', 'logprobs': None}, id='run-ed625c4e-28e4-4c95-9f28-01e772ff88a4-0', tool_calls=[{'name': 'run_ipython_script_tool', 'args': {'script': \"\\nimport pandas as pd\\n\\n# Retrieve data from the Snowflake database\\nquery = 'SELECT * FROM customers'\\ncustomers_data = context['data_source'].execute_query(query)\\n\\n# Display the customers data\\ncustomers_data\"}, 'id': 'call_orwj7EXFcRFpnPmp0hjd4zIV'}])"
     },
     "execution_count": 13,
     "metadata": {},
     "output_type": "execute_result"
    }
   ],
   "source": [
    "# Example of using the Python agent\n",
    "python_agent = PythonAgent(sf_datasource, \"gpt-3.5-turbo\")\n",
    "python_agent.chat(\n",
    "    \"python code to show the customers data with snowflake database as data source\",\n",
    "    allow_run_tool=True,\n",
    ")"
   ],
   "metadata": {
    "collapsed": false
   }
  }
 ],
 "metadata": {
  "kernelspec": {
   "display_name": "Python 3",
   "language": "python",
   "name": "python3"
  },
  "language_info": {
   "codemirror_mode": {
    "name": "ipython",
    "version": 2
   },
   "file_extension": ".py",
   "mimetype": "text/x-python",
   "name": "python",
   "nbconvert_exporter": "python",
   "pygments_lexer": "ipython2",
   "version": "2.7.6"
  }
 },
 "nbformat": 4,
 "nbformat_minor": 0
}
