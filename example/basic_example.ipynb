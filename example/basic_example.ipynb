{
 "cells": [
  {
   "cell_type": "code",
   "execution_count": 1,
   "metadata": {
    "collapsed": true
   },
   "outputs": [],
   "source": [
    "import os\n",
    "from aita.datasource.snowflake import SnowflakeDataSource\n",
    "from aita.datasource.postgresql import PostgreSqlDataSource\n",
    "from aita.agent.base import AitaAgent\n",
    "from aita.agent.sql import SqlAgent\n",
    "from aita.agent.pandas import PandasAgent\n",
    "from aita.agent.python import PythonAgent"
   ]
  },
  {
   "cell_type": "code",
   "execution_count": 2,
   "outputs": [
    {
     "name": "stdout",
     "output_type": "stream",
     "text": [
      "To get the top 5 customers who are making the most purchases, you can follow these steps:\n",
      "\n",
      "1. Analyze your sales data to determine the total number of purchases made by each customer.\n",
      "2. Rank the customers based on the total number of purchases they have made.\n",
      "3. Select the top 5 customers with the highest number of purchases.\n",
      "\n",
      "You can use a spreadsheet program like Microsoft Excel or Google Sheets to organize and analyze your sales data. Create a table with columns for customer names and the number of purchases they have made. Sort the data by the number of purchases in descending order to identify the top customers.\n",
      "\n",
      "Alternatively, if you have a customer relationship management (CRM) system or sales software, you can generate a report that shows the top customers based on the number of purchases they have made. Look for features like customer analytics or sales reports that can provide this information.\n",
      "\n",
      "By identifying the top 5 customers who are making the most purchases, you can focus on building and maintaining strong relationships with these customers to drive repeat business and loyalty."
     ]
    }
   ],
   "source": [
    "aita_agent = AitaAgent(\"gpt-3.5-turbo\")\n",
    "aita_agent.chat(\"I want to get the top 5 customers which making the most purchases\")"
   ],
   "metadata": {
    "collapsed": false
   }
  },
  {
   "cell_type": "code",
   "execution_count": 3,
   "outputs": [],
   "source": [
    "SNOWFLAKE_USER = os.environ.get(\"SNOWFLAKE_USER\")\n",
    "SNOWFLAKE_PASSWORD = os.environ.get(\"SNOWFLAKE_PASSWORD\")\n",
    "SNOWFLAKE_ACCOUNT = os.environ.get(\"SNOWFLAKE_ACCOUNT\")\n",
    "SNOWFLAKE_WAREHOUSE = os.environ.get(\"SNOWFLAKE_WAREHOUSE\")\n",
    "SNOWFLAKE_DATABASE = os.environ.get(\"SNOWFLAKE_DATABASE\")\n",
    "SNOWFLAKE_SCHEMA = os.environ.get(\"SNOWFLAKE_SCHEMA\")\n",
    "SNOWFLAKE_ROLE = os.environ.get(\"SNOWFLAKE_ROLE\")"
   ],
   "metadata": {
    "collapsed": false
   }
  },
  {
   "cell_type": "code",
   "execution_count": 4,
   "outputs": [],
   "source": [
    "sf_datasource = SnowflakeDataSource(\n",
    "    user=SNOWFLAKE_USER,\n",
    "    password=SNOWFLAKE_PASSWORD,\n",
    "    account=SNOWFLAKE_ACCOUNT,\n",
    "    warehouse=SNOWFLAKE_WAREHOUSE,\n",
    "    database=SNOWFLAKE_DATABASE,\n",
    "    schema=SNOWFLAKE_SCHEMA,\n",
    "    role=SNOWFLAKE_ROLE,\n",
    ")"
   ],
   "metadata": {
    "collapsed": false
   }
  },
  {
   "cell_type": "code",
   "execution_count": 5,
   "outputs": [],
   "source": [
    "pg_datasource = PostgreSqlDataSource(\n",
    "    connection_url=\"postgresql://@localhost:5432/aita\"\n",
    ")"
   ],
   "metadata": {
    "collapsed": false
   }
  },
  {
   "cell_type": "code",
   "execution_count": 6,
   "outputs": [
    {
     "name": "stdout",
     "output_type": "stream",
     "text": [
      "================================\u001B[1m Human Message \u001B[0m=================================\n",
      "\n",
      "I want to get the top 5 customers which making the most purchases\n",
      "==================================\u001B[1m Ai Message \u001B[0m==================================\n",
      "Tool Calls:\n",
      "  sql_database_query (call_hC4yPIMskrpcYXgQnEZbYez3)\n",
      " Call ID: call_hC4yPIMskrpcYXgQnEZbYez3\n",
      "  Args:\n",
      "    query: SELECT C_NAME, SUM(O_TOTALPRICE) AS TOTAL_PURCHASES FROM CUSTOMER JOIN ORDERS ON C_CUSTKEY = O_CUSTKEY GROUP BY C_NAME ORDER BY TOTAL_PURCHASES DESC LIMIT 5;\n"
     ]
    },
    {
     "data": {
      "text/plain": "<generator object Pregel.stream at 0x16721d490>"
     },
     "execution_count": 6,
     "metadata": {},
     "output_type": "execute_result"
    }
   ],
   "source": [
    "# Basic example of using the SQL agent\n",
    "sql_agent = SqlAgent(sf_datasource, \"gpt-3.5-turbo\", allow_extract_metadata=True)\n",
    "\n",
    "for e in sql_agent.chat(\"I want to get the top 5 customers which making the most purchases\"):\n",
    "    print(e)"
   ],
   "metadata": {
    "collapsed": false
   }
  },
  {
   "cell_type": "code",
   "execution_count": 7,
   "outputs": [
    {
     "name": "stdout",
     "output_type": "stream",
     "text": [
      "=================================\u001B[1m Tool Message \u001B[0m=================================\n",
      "Name: sql_database_query\n",
      "\n",
      "[('Customer#000143500', Decimal('7012696.48')), ('Customer#000095257', Decimal('6563511.23')), ('Customer#000087115', Decimal('6457526.26')), ('Customer#000131113', Decimal('6311428.86')), ('Customer#000103834', Decimal('6306524.23'))]\n",
      "==================================\u001B[1m Ai Message \u001B[0m==================================\n",
      "\n",
      "The top 5 customers who made the most purchases are:\n",
      "1. Customer#000143500 - Total Purchases: $7,012,696.48\n",
      "2. Customer#000095257 - Total Purchases: $6,563,511.23\n",
      "3. Customer#000087115 - Total Purchases: $6,457,526.26\n",
      "4. Customer#000131113 - Total Purchases: $6,311,428.86\n",
      "5. Customer#000103834 - Total Purchases: $6,306,524.23\n"
     ]
    },
    {
     "data": {
      "text/plain": "<generator object Pregel.stream at 0x16672f3b0>"
     },
     "execution_count": 7,
     "metadata": {},
     "output_type": "execute_result"
    }
   ],
   "source": [
    "print(sql_agent.chat(allow_run_tool=True))"
   ],
   "metadata": {
    "collapsed": false
   }
  },
  {
   "cell_type": "code",
   "execution_count": 7,
   "outputs": [
    {
     "name": "stdout",
     "output_type": "stream",
     "text": [
      "================================\u001B[1m Human Message \u001B[0m=================================\n",
      "\n",
      "\n",
      "SELECT c_custkey, c_name, SUM(o_totalprice) AS total_purchase\n",
      "FROM snowflake_sample_data.tpch_sf1.customer\n",
      "JOIN snowflake_sample_data.tpch_sf1.orders\n",
      "ON c_custkey = o_custkey\n",
      "GROUP BY c_custkey, c_name\n",
      "ORDER BY total_purchase\n",
      "DESC LIMIT 10\n",
      "\n",
      "==================================\u001B[1m Ai Message \u001B[0m==================================\n",
      "\n",
      "The SQL query you provided retrieves the top 10 customers based on their total purchases. Here are the results:\n",
      "\n",
      "| c_custkey | c_name           | total_purchase |\n",
      "|-----------|------------------|----------------|\n",
      "| 143500    | Customer#000143500 | 7012696.48    |\n",
      "| 95257     | Customer#000095257 | 6563511.23    |\n",
      "| 87115     | Customer#000087115 | 6457526.26    |\n",
      "| 131113    | Customer#000131113 | 6311428.86    |\n",
      "| 103834    | Customer#000103834 | 6306524.23    |\n",
      "| 135866    | Customer#000135866 | 6203588.38    |\n",
      "| 4701      | Customer#000004701 | 6198974.53    |\n",
      "| 121827    | Customer#000121827 | 6145873.12    |\n",
      "| 96919     | Customer#000096919 | 6090547.83    |\n",
      "| 15531     | Customer#000015531 | 6053292.63    | \n",
      "\n",
      "These are the top 10 customers with the highest total purchases.\n",
      "<generator object Pregel.stream at 0x174c129b0>\n"
     ]
    }
   ],
   "source": [
    "# Example of using the SQL agent to run a SQL query directly.\n",
    "sample_sql_query = \"\"\"\n",
    "SELECT c_custkey, c_name, SUM(o_totalprice) AS total_purchase\n",
    "FROM snowflake_sample_data.tpch_sf1.customer\n",
    "JOIN snowflake_sample_data.tpch_sf1.orders\n",
    "ON c_custkey = o_custkey\n",
    "GROUP BY c_custkey, c_name\n",
    "ORDER BY total_purchase\n",
    "DESC LIMIT 10\n",
    "\"\"\"\n",
    "\n",
    "print(sql_agent.chat(sample_sql_query))"
   ],
   "metadata": {
    "collapsed": false
   }
  },
  {
   "cell_type": "code",
   "execution_count": 4,
   "outputs": [
    {
     "name": "stdout",
     "output_type": "stream",
     "text": [
      "================================\u001B[1m Human Message \u001B[0m=================================\n",
      "\n",
      "I want to get the top customers which making the most purchases\n",
      "{'messages': [HumanMessage(content='I want to get the top customers which making the most purchases', id='f33ae5ad-6576-4544-b362-07abf55acee6')], 'user_info': None}\n",
      "==================================\u001B[1m Ai Message \u001B[0m==================================\n",
      "Tool Calls:\n",
      "  pandas_analysis_tool (call_T5KmzRKvw2mLDYnUE8VZILU5)\n",
      " Call ID: call_T5KmzRKvw2mLDYnUE8VZILU5\n",
      "  Args:\n",
      "    script: \n",
      "import pandas as pd\n",
      "\n",
      "# Assume 'datasource' is the data source containing the tables\n",
      "\n",
      "# Query to get the top customers making the most purchases\n",
      "query = 'SELECT C_NAME, COUNT(*) AS PURCHASE_COUNT FROM CUSTOMER JOIN ORDERS ON C_CUSTKEY = O_CUSTKEY GROUP BY C_NAME ORDER BY PURCHASE_COUNT DESC'\n",
      "\n",
      "dataframe = datasource.to_pandas(query)\n",
      "dataframe.head()\n"
     ]
    },
    {
     "data": {
      "text/plain": "<generator object Pregel.stream at 0x14a050610>"
     },
     "execution_count": 4,
     "metadata": {},
     "output_type": "execute_result"
    }
   ],
   "source": [
    "# Example of using the Pandas agent\n",
    "pandas_agent = PandasAgent(sf_datasource, \"gpt-3.5-turbo\")\n",
    "pandas_agent.chat(\"I want to get the top customers which making the most purchases\")"
   ],
   "metadata": {
    "collapsed": false
   }
  },
  {
   "cell_type": "code",
   "execution_count": 5,
   "outputs": [
    {
     "data": {
      "text/plain": "               C_NAME PURCHASE_COUNT\n0  Customer#000003451             41\n1  Customer#000102004             41\n2  Customer#000102022             41\n3  Customer#000117082             40\n4  Customer#000079300             40",
      "text/html": "<div>\n<style scoped>\n    .dataframe tbody tr th:only-of-type {\n        vertical-align: middle;\n    }\n\n    .dataframe tbody tr th {\n        vertical-align: top;\n    }\n\n    .dataframe thead th {\n        text-align: right;\n    }\n</style>\n<table border=\"1\" class=\"dataframe\">\n  <thead>\n    <tr style=\"text-align: right;\">\n      <th></th>\n      <th>C_NAME</th>\n      <th>PURCHASE_COUNT</th>\n    </tr>\n  </thead>\n  <tbody>\n    <tr>\n      <th>0</th>\n      <td>Customer#000003451</td>\n      <td>41</td>\n    </tr>\n    <tr>\n      <th>1</th>\n      <td>Customer#000102004</td>\n      <td>41</td>\n    </tr>\n    <tr>\n      <th>2</th>\n      <td>Customer#000102022</td>\n      <td>41</td>\n    </tr>\n    <tr>\n      <th>3</th>\n      <td>Customer#000117082</td>\n      <td>40</td>\n    </tr>\n    <tr>\n      <th>4</th>\n      <td>Customer#000079300</td>\n      <td>40</td>\n    </tr>\n  </tbody>\n</table>\n</div>"
     },
     "execution_count": 5,
     "metadata": {},
     "output_type": "execute_result"
    },
    {
     "name": "stdout",
     "output_type": "stream",
     "text": [
      "=================================\u001B[1m Tool Message \u001B[0m=================================\n",
      "Name: pandas_analysis_tool\n",
      "\n",
      "<ExecutionResult object at 14f9e61b0, execution_count=None error_before_exec=None error_in_exec=None info=<ExecutionInfo object at 14f9e6210, raw_cell=\"\n",
      "import pandas as pd\n",
      "\n",
      "# Assume 'datasource' is the..\" store_history=False silent=False shell_futures=True cell_id=None> result=               C_NAME PURCHASE_COUNT\n",
      "0  Customer#000003451             41\n",
      "1  Customer#000102004             41\n",
      "2  Customer#000102022             41\n",
      "3  Customer#000117082             40\n",
      "4  Customer#000079300             40>\n",
      "{'messages': [HumanMessage(content='I want to get the top customers which making the most purchases', id='f33ae5ad-6576-4544-b362-07abf55acee6'), AIMessage(content='', additional_kwargs={'tool_calls': [{'function': {'arguments': '{\"script\":\"\\\\nimport pandas as pd\\\\n\\\\n# Assume \\'datasource\\' is the data source containing the tables\\\\n\\\\n# Query to get the top customers making the most purchases\\\\nquery = \\'SELECT C_NAME, COUNT(*) AS PURCHASE_COUNT FROM CUSTOMER JOIN ORDERS ON C_CUSTKEY = O_CUSTKEY GROUP BY C_NAME ORDER BY PURCHASE_COUNT DESC\\'\\\\n\\\\ndataframe = datasource.to_pandas(query)\\\\ndataframe.head()\"}', 'name': 'pandas_analysis_tool'}, 'id': 'call_T5KmzRKvw2mLDYnUE8VZILU5', 'type': 'function'}]}, response_metadata={'finish_reason': 'tool_calls', 'logprobs': None, 'model_name': 'gpt-3.5-turbo', 'system_fingerprint': None, 'token_usage': {'completion_tokens': 105, 'prompt_tokens': 1747, 'total_tokens': 1852}}, id='run-fa785475-a120-4742-a30d-11fa6738926f-0', tool_calls=[{'name': 'pandas_analysis_tool', 'args': {'script': \"\\nimport pandas as pd\\n\\n# Assume 'datasource' is the data source containing the tables\\n\\n# Query to get the top customers making the most purchases\\nquery = 'SELECT C_NAME, COUNT(*) AS PURCHASE_COUNT FROM CUSTOMER JOIN ORDERS ON C_CUSTKEY = O_CUSTKEY GROUP BY C_NAME ORDER BY PURCHASE_COUNT DESC'\\n\\ndataframe = datasource.to_pandas(query)\\ndataframe.head()\"}, 'id': 'call_T5KmzRKvw2mLDYnUE8VZILU5'}]), ToolMessage(content='<ExecutionResult object at 14f9e61b0, execution_count=None error_before_exec=None error_in_exec=None info=<ExecutionInfo object at 14f9e6210, raw_cell=\"\\nimport pandas as pd\\n\\n# Assume \\'datasource\\' is the..\" store_history=False silent=False shell_futures=True cell_id=None> result=               C_NAME PURCHASE_COUNT\\n0  Customer#000003451             41\\n1  Customer#000102004             41\\n2  Customer#000102022             41\\n3  Customer#000117082             40\\n4  Customer#000079300             40>', name='pandas_analysis_tool', id='4149b7d9-87d9-4574-8c1e-5e303b11325e', tool_call_id='call_T5KmzRKvw2mLDYnUE8VZILU5')], 'user_info': None}\n",
      "==================================\u001B[1m Ai Message \u001B[0m==================================\n",
      "\n",
      "The top customers who have made the most purchases are as follows:\n",
      "\n",
      "1. Customer#000003451 - 41 purchases\n",
      "2. Customer#000102004 - 41 purchases\n",
      "3. Customer#000102022 - 41 purchases\n",
      "4. Customer#000117082 - 40 purchases\n",
      "5. Customer#000079300 - 40 purchases\n",
      "\n",
      "These customers have the highest purchase counts.\n"
     ]
    },
    {
     "data": {
      "text/plain": "<generator object Pregel.stream at 0x14a0781d0>"
     },
     "execution_count": 5,
     "metadata": {},
     "output_type": "execute_result"
    }
   ],
   "source": [
    "pandas_agent.chat(allow_run_tool=True)"
   ],
   "metadata": {
    "collapsed": false
   }
  },
  {
   "cell_type": "code",
   "execution_count": null,
   "outputs": [],
   "source": [
    "tool_spec = {\n",
    "    \"name\": \"pandas_analysis_tool\",\n",
    "    \"arguments\": {\n",
    "        \"script\": \"\"\"\n",
    " import pandas as pd\\n\\n# Define the data sources\\norders_data = datasource.to_pandas('SELECT * FROM ORDERS')\\ncustomer_data = datasource.to_pandas('SELECT * FROM CUSTOMER')\\n\\n# Join the ORDERS and CUSTOMER tables\\nmerged_data = pd.merge(orders_data, customer_data, left_on='O_CUSTKEY', right_on='C_CUSTKEY')\\n\\n# Group by customer and calculate total amount spent\\ncustomer_total_spent = merged_data.groupby('C_NAME')['O_TOTALPRICE'].sum().reset_index()\\n\\n# Sort customers based on total amount spent\\ntop_customers = customer_total_spent.sort_values(by='O_TOTALPRICE', ascending=False)\\n\\n# Display the top customers\\ntop_customers.head()\n",
    " \"\"\"}\n",
    "}\n",
    "pandas_agent.run_tool(tool_spec)"
   ],
   "metadata": {
    "collapsed": false
   }
  },
  {
   "cell_type": "code",
   "execution_count": null,
   "outputs": [],
   "source": [
    "# Example of using the Python agent\n",
    "python_agent = PythonAgent(sf_datasource, \"gpt-3.5-turbo\")\n",
    "python_agent.chat(\n",
    "    \"python code to show the customers data with snowflake database as data source\",\n",
    "    allow_run_tool=True,\n",
    ")"
   ],
   "metadata": {
    "collapsed": false
   }
  }
 ],
 "metadata": {
  "kernelspec": {
   "display_name": "Python 3",
   "language": "python",
   "name": "python3"
  },
  "language_info": {
   "codemirror_mode": {
    "name": "ipython",
    "version": 2
   },
   "file_extension": ".py",
   "mimetype": "text/x-python",
   "name": "python",
   "nbconvert_exporter": "python",
   "pygments_lexer": "ipython2",
   "version": "2.7.6"
  }
 },
 "nbformat": 4,
 "nbformat_minor": 0
}
