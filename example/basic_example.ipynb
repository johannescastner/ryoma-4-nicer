{
 "cells": [
  {
   "cell_type": "code",
   "execution_count": 1,
   "metadata": {
    "collapsed": true
   },
   "outputs": [],
   "source": [
    "import os\n",
    "\n",
    "from aita.datasource.snowflake import SnowflakeDataSource\n",
    "from aita.datasource.postgresql import PostgreSqlDataSource\n",
    "from aita.agent.base import AitaAgent\n",
    "from aita.agent.sql import SqlAgent"
   ]
  },
  {
   "cell_type": "code",
   "execution_count": 2,
   "outputs": [
    {
     "name": "stdout",
     "output_type": "stream",
     "text": [
      "To get the top 5 customers who are making the most purchases, you would typically need transaction data that includes customer information and purchase details. Assuming you have a dataset with this information, you can follow these steps using Python and pandas:\n",
      "\n",
      "1. Load the transaction data into a pandas DataFrame.\n",
      "2. Group the data by customer ID and count the number of purchases for each customer.\n",
      "3. Sort the customers based on the number of purchases in descending order.\n",
      "4. Select the top 5 customers.\n",
      "\n",
      "Here is a sample code snippet to achieve this:\n",
      "\n",
      "```python\n",
      "import pandas as pd\n",
      "\n",
      "# Load the transaction data into a pandas DataFrame\n",
      "data = {\n",
      "    'customer_id': [1, 2, 3, 1, 2, 3, 4, 5, 1, 2],\n",
      "    'purchase_amount': [100, 150, 200, 120, 180, 220, 90, 80, 130, 170]\n",
      "}\n",
      "\n",
      "df = pd.DataFrame(data)\n",
      "\n",
      "# Group the data by customer ID and count the number of purchases for each customer\n",
      "customer_purchases = df.groupby('customer_id').size().reset_index(name='purchase_count')\n",
      "\n",
      "# Sort the customers based on the number of purchases in descending order\n",
      "top_customers = customer_purchases.sort_values(by='purchase_count', ascending=False).head(5)\n",
      "\n",
      "print(top_customers)\n",
      "```\n",
      "\n",
      "In this code snippet, we first create a sample DataFrame with customer IDs and purchase amounts. We then group the data by customer ID and count the number of purchases for each customer. Next, we sort the customers based on the purchase count in descending order and select the top 5 customers.\n",
      "\n",
      "You can replace the sample data with your actual transaction data to get the top 5 customers making the most purchases in your dataset."
     ]
    }
   ],
   "source": [
    "aita_agent = AitaAgent(\"gpt-3.5-turbo\")\n",
    "aita_agent.chat(\"I want to get the top 5 customers which making the most purchases\")"
   ],
   "metadata": {
    "collapsed": false
   }
  },
  {
   "cell_type": "code",
   "execution_count": 3,
   "outputs": [
    {
     "name": "stdout",
     "output_type": "stream",
     "text": [
      "To identify the top 5 customers who are making the most purchases, you would typically analyze transaction data to determine the total number of purchases made by each customer. Below are the general steps you can follow to achieve this:\n",
      "\n",
      "1. **Data Collection**: Gather the transaction data that includes customer information and purchase details. This data can typically be found in a database or a file.\n",
      "\n",
      "2. **Data Preprocessing**: Clean and preprocess the data to ensure consistency and accuracy. This may involve handling missing values, removing duplicates, and formatting the data appropriately.\n",
      "\n",
      "3. **Data Aggregation**: Aggregate the transaction data based on customer information to calculate the total number of purchases made by each customer.\n",
      "\n",
      "4. **Ranking Customers**: Rank the customers based on the total number of purchases in descending order.\n",
      "\n",
      "5. **Select Top Customers**: Finally, select the top 5 customers with the highest number of purchases to identify the most valuable customers.\n",
      "\n",
      "Depending on the tools and technologies you are using, the specific steps and code implementation may vary. If you provide more details about the data format and the tools you are using, I can assist you further with the data analysis and code implementation."
     ]
    }
   ],
   "source": [
    "aita_agent = AitaAgent(\"gpt-3.5-turbo\") \\\n",
    "    .set_prompt_template(\"Data Schema: snowflake_sample_data.tpch_sf1\")\n",
    "aita_agent.chat(\"I want to get the top 5 customers which making the most purchases\")"
   ],
   "metadata": {
    "collapsed": false
   }
  },
  {
   "cell_type": "code",
   "execution_count": 4,
   "outputs": [],
   "source": [
    "SNOWFLAKE_USER = os.environ.get(\"SNOWFLAKE_USER\")\n",
    "SNOWFLAKE_PASSWORD = os.environ.get(\"SNOWFLAKE_PASSWORD\")\n",
    "SNOWFLAKE_ACCOUNT = os.environ.get(\"SNOWFLAKE_ACCOUNT\")\n",
    "SNOWFLAKE_WAREHOUSE = os.environ.get(\"SNOWFLAKE_WAREHOUSE\")\n",
    "SNOWFLAKE_DATABASE = os.environ.get(\"SNOWFLAKE_DATABASE\")\n",
    "SNOWFLAKE_SCHEMA = os.environ.get(\"SNOWFLAKE_SCHEMA\")\n",
    "SNOWFLAKE_ROLE = os.environ.get(\"SNOWFLAKE_ROLE\")"
   ],
   "metadata": {
    "collapsed": false
   }
  },
  {
   "cell_type": "code",
   "execution_count": 5,
   "outputs": [],
   "source": [
    "sf_datasource = SnowflakeDataSource(\n",
    "    user=SNOWFLAKE_USER,\n",
    "    password=SNOWFLAKE_PASSWORD,\n",
    "    account=SNOWFLAKE_ACCOUNT,\n",
    "    warehouse=SNOWFLAKE_WAREHOUSE,\n",
    "    database=SNOWFLAKE_DATABASE,\n",
    "    schema=SNOWFLAKE_SCHEMA,\n",
    "    role=SNOWFLAKE_ROLE,\n",
    ")"
   ],
   "metadata": {
    "collapsed": false
   }
  },
  {
   "cell_type": "code",
   "execution_count": 6,
   "outputs": [],
   "source": [
    "pg_datasource = PostgreSqlDataSource(\n",
    "    connection_url=\"postgresql://@localhost:5432/aita\"\n",
    ")"
   ],
   "metadata": {
    "collapsed": false
   }
  },
  {
   "cell_type": "code",
   "execution_count": 7,
   "outputs": [
    {
     "name": "stdout",
     "output_type": "stream",
     "text": [
      "To get the top 5 customers who have made the most purchases from the provided data schema (snowflake_sample_data.tpch_sf1), you can use a SQL query similar to the following:\n",
      "\n",
      "```sql\n",
      "SELECT c_custkey, c_name, COUNT(o_orderkey) AS num_purchases\n",
      "FROM snowflake_sample_data.tpch_sf1.customer\n",
      "JOIN snowflake_sample_data.tpch_sf1.orders ON c_custkey = o_custkey\n",
      "GROUP BY c_custkey, c_name\n",
      "ORDER BY num_purchases DESC\n",
      "LIMIT 5;\n",
      "```\n",
      "\n",
      "In this query:\n",
      "1. We are selecting the customer key (`c_custkey`), customer name (`c_name`), and counting the number of orders each customer has made using the `COUNT()` function.\n",
      "2. We are joining the `customer` and `orders` tables on the customer key (`c_custkey`) to get the necessary data.\n",
      "3. We are grouping the results by customer key and name.\n",
      "4. We are ordering the results in descending order based on the number of purchases.\n",
      "5. Finally, we are limiting the output to the top 5 customers with the most purchases.\n",
      "\n",
      "You can execute this query in your Snowflake environment to get the desired output."
     ]
    }
   ],
   "source": [
    "aita_agent = AitaAgent(\"gpt-3.5-turbo\") \\\n",
    "    .set_prompt_template(\"Data Schema: snowflake_sample_data.tpch_sf1\") \\\n",
    "    .add_datasource(sf_datasource)\n",
    "aita_agent.chat(\"I want to get the top 5 customers which making the most purchases\")"
   ],
   "metadata": {
    "collapsed": false
   }
  },
  {
   "cell_type": "code",
   "execution_count": 8,
   "outputs": [
    {
     "name": "stdout",
     "output_type": "stream",
     "text": [
      "================================\u001B[1m Human Message \u001B[0m=================================\n",
      "\n",
      "I want to get the top 5 customers which making the most purchases\n",
      "==================================\u001B[1m Ai Message \u001B[0m==================================\n",
      "\n",
      "To get the top 5 customers who are making the most purchases, we can use the `ORDERS` and `CUSTOMER` tables. We will need to join these two tables based on the `O_CUSTKEY` in the `ORDERS` table and the `C_CUSTKEY` in the `CUSTOMER` table. Then, we can sum up the total purchases made by each customer and finally retrieve the top 5 customers with the highest total purchases.\n",
      "\n",
      "I will first write the SQL query to perform this task. Let's proceed with executing the query to retrieve the top 5 customers.\n",
      "Tool Calls:\n",
      "  sql_database_query (call_QDe8K8ugn71zns1hXsEpLCYo)\n",
      " Call ID: call_QDe8K8ugn71zns1hXsEpLCYo\n",
      "  Args:\n",
      "    query: SELECT c.C_NAME AS Customer_Name, SUM(o.O_TOTALPRICE) AS Total_Purchases\n",
      "FROM TPCH_SF1.CUSTOMER c\n",
      "JOIN TPCH_SF1.ORDERS o ON c.C_CUSTKEY = o.O_CUSTKEY\n",
      "GROUP BY c.C_NAME\n",
      "ORDER BY Total_Purchases DESC\n",
      "LIMIT 5;\n"
     ]
    },
    {
     "data": {
      "text/plain": "<generator object Pregel.stream at 0x12e464d00>"
     },
     "execution_count": 8,
     "metadata": {},
     "output_type": "execute_result"
    }
   ],
   "source": [
    "# Basic example of using the SQL agent\n",
    "from aita.prompt.base import BasicDataSourcePromptTemplate\n",
    "\n",
    "sql_agent = SqlAgent(\"gpt-3.5-turbo\") \\\n",
    "    .set_prompt_template(BasicDataSourcePromptTemplate) \\\n",
    "    .add_datasource(sf_datasource) \\\n",
    "\n",
    "sql_agent.chat(\"I want to get the top 5 customers which making the most purchases\")"
   ],
   "metadata": {
    "collapsed": false
   }
  },
  {
   "cell_type": "code",
   "execution_count": 9,
   "outputs": [
    {
     "name": "stdout",
     "output_type": "stream",
     "text": [
      "=================================\u001B[1m Tool Message \u001B[0m=================================\n",
      "Name: sql_database_query\n",
      "\n",
      "[('Customer#000143500', Decimal('7012696.48')), ('Customer#000095257', Decimal('6563511.23')), ('Customer#000087115', Decimal('6457526.26')), ('Customer#000131113', Decimal('6311428.86')), ('Customer#000103834', Decimal('6306524.23'))]\n",
      "==================================\u001B[1m Ai Message \u001B[0m==================================\n",
      "\n",
      "The top 5 customers who have made the most purchases are as follows:\n",
      "\n",
      "1. Customer#000143500 - Total Purchases: $7,012,696.48\n",
      "2. Customer#000095257 - Total Purchases: $6,563,511.23\n",
      "3. Customer#000087115 - Total Purchases: $6,457,526.26\n",
      "4. Customer#000131113 - Total Purchases: $6,311,428.86\n",
      "5. Customer#000103834 - Total Purchases: $6,306,524.23\n",
      "\n",
      "These customers are ranked based on the total purchases they have made. Let me know if you need any further analysis or information.\n"
     ]
    },
    {
     "data": {
      "text/plain": "<generator object Pregel.stream at 0x12fd92320>"
     },
     "execution_count": 9,
     "metadata": {},
     "output_type": "execute_result"
    }
   ],
   "source": [
    "sql_agent.chat(allow_run_tool=True)"
   ],
   "metadata": {
    "collapsed": false
   }
  },
  {
   "cell_type": "code",
   "execution_count": 9,
   "outputs": [
    {
     "name": "stdout",
     "output_type": "stream",
     "text": [
      "================================\u001B[1m Human Message \u001B[0m=================================\n",
      "\n",
      "\n",
      "SELECT c_custkey, c_name, SUM(o_totalprice) AS total_purchase\n",
      "FROM snowflake_sample_data.tpch_sf1.customer\n",
      "JOIN snowflake_sample_data.tpch_sf1.orders\n",
      "ON c_custkey = o_custkey\n",
      "GROUP BY c_custkey, c_name\n",
      "ORDER BY total_purchase\n",
      "DESC LIMIT 10\n",
      "\n",
      "==================================\u001B[1m Ai Message \u001B[0m==================================\n",
      "\n",
      "The query you provided aims to retrieve the top 10 customers based on the total purchase amount. It calculates the sum of the `O_TOTALPRICE` from the `ORDERS` table for each customer and then ranks the customers in descending order of total purchase amount.\n",
      "\n",
      "I will execute the provided query to get the top 10 customers based on their total purchase amount.\n",
      "Tool Calls:\n",
      "  sql_database_query (call_0XzB9V8OOyOvTu9qsGM4f7uD)\n",
      " Call ID: call_0XzB9V8OOyOvTu9qsGM4f7uD\n",
      "  Args:\n",
      "    query: SELECT C_CUSTKEY, C_NAME, SUM(O_TOTALPRICE) AS TOTAL_PURCHASE FROM SNOWFLAKE_SAMPLE_DATA.TPCH_SF1.CUSTOMER JOIN SNOWFLAKE_SAMPLE_DATA.TPCH_SF1.ORDERS ON C_CUSTKEY = O_CUSTKEY GROUP BY C_CUSTKEY, C_NAME ORDER BY TOTAL_PURCHASE DESC LIMIT 10;\n",
      "<generator object Pregel.stream at 0x153665660>\n"
     ]
    }
   ],
   "source": [
    "# Example of using the SQL agent to run a SQL query directly.\n",
    "sample_sql_query = \"\"\"\n",
    "SELECT c_custkey, c_name, SUM(o_totalprice) AS total_purchase\n",
    "FROM snowflake_sample_data.tpch_sf1.customer\n",
    "JOIN snowflake_sample_data.tpch_sf1.orders\n",
    "ON c_custkey = o_custkey\n",
    "GROUP BY c_custkey, c_name\n",
    "ORDER BY total_purchase\n",
    "DESC LIMIT 10\n",
    "\"\"\"\n",
    "\n",
    "sql_agent.chat(sample_sql_query)"
   ],
   "metadata": {
    "collapsed": false
   }
  },
  {
   "cell_type": "code",
   "execution_count": 10,
   "outputs": [
    {
     "data": {
      "text/plain": "[(Decimal('143500'), 'Customer#000143500', Decimal('7012696.48')),\n (Decimal('95257'), 'Customer#000095257', Decimal('6563511.23')),\n (Decimal('87115'), 'Customer#000087115', Decimal('6457526.26')),\n (Decimal('131113'), 'Customer#000131113', Decimal('6311428.86')),\n (Decimal('103834'), 'Customer#000103834', Decimal('6306524.23')),\n (Decimal('134380'), 'Customer#000134380', Decimal('6291610.15')),\n (Decimal('69682'), 'Customer#000069682', Decimal('6287149.42')),\n (Decimal('102022'), 'Customer#000102022', Decimal('6273788.41')),\n (Decimal('98587'), 'Customer#000098587', Decimal('6265089.35')),\n (Decimal('85102'), 'Customer#000085102', Decimal('6135483.63'))]"
     },
     "execution_count": 10,
     "metadata": {},
     "output_type": "execute_result"
    }
   ],
   "source": [
    "sql_agent.call_tool(\"sql_database_query\", tool_id=\"call_0XzB9V8OOyOvTu9qsGM4f7uD\")"
   ],
   "metadata": {
    "collapsed": false
   }
  },
  {
   "cell_type": "code",
   "execution_count": null,
   "outputs": [],
   "source": [],
   "metadata": {
    "collapsed": false
   }
  }
 ],
 "metadata": {
  "kernelspec": {
   "display_name": "Python 3",
   "language": "python",
   "name": "python3"
  },
  "language_info": {
   "codemirror_mode": {
    "name": "ipython",
    "version": 2
   },
   "file_extension": ".py",
   "mimetype": "text/x-python",
   "name": "python",
   "nbconvert_exporter": "python",
   "pygments_lexer": "ipython2",
   "version": "2.7.6"
  }
 },
 "nbformat": 4,
 "nbformat_minor": 0
}
