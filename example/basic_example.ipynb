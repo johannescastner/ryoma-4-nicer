{
 "cells": [
  {
   "cell_type": "code",
   "execution_count": 1,
   "metadata": {
    "collapsed": true
   },
   "outputs": [],
   "source": [
    "import os\n",
    "\n",
    "from aita.datasource.snowflake import SnowflakeDataSource\n",
    "from aita.datasource.postgresql import PostgreSqlDataSource\n",
    "from aita.agent.base import AitaAgent\n",
    "from aita.agent.sql import SqlAgent"
   ]
  },
  {
   "cell_type": "markdown",
   "source": [
    "## Ensure the OpenAI API key is set in the environment"
   ],
   "metadata": {
    "collapsed": false
   }
  },
  {
   "cell_type": "code",
   "execution_count": 2,
   "outputs": [
    {
     "name": "stdout",
     "output_type": "stream",
     "text": [
      "To get the top 5 customers who are making the most purchases, you would typically need to analyze your sales data. If you have a dataset with information about customers and their purchases, you can use data analysis tools like Python (using libraries like pandas) or SQL to query your database.\n",
      "\n",
      "Here is a general approach using SQL:\n",
      "\n",
      "```sql\n",
      "SELECT customer_id, COUNT(*) as purchase_count\n",
      "FROM purchases\n",
      "GROUP BY customer_id\n",
      "ORDER BY purchase_count DESC\n",
      "LIMIT 5;\n",
      "```\n",
      "\n",
      "In this SQL query:\n",
      "- Replace `purchases` with the actual table name where your purchase data is stored.\n",
      "- `customer_id` is the column that represents the customer identifier in your dataset.\n",
      "- This query will count the number of purchases made by each customer, group the results by customer, order them in descending order of purchase count, and finally, limit the output to the top 5 customers.\n",
      "\n",
      "If you are using Python with pandas, you can achieve the same result by loading your data into a DataFrame and then using the `groupby` and `count` functions along with sorting to get the top 5 customers.\n",
      "\n",
      "If you provide more specific details about your data format or the tools you are using, I can provide a more tailored solution."
     ]
    }
   ],
   "source": [
    "# Create an simple Aita Agent with GPT-3.5-turbo model\n",
    "aita_agent = AitaAgent(\"gpt-3.5-turbo\")\n",
    "aita_agent.stream(\"I want to get the top 5 customers which making the most purchases\")"
   ],
   "metadata": {
    "collapsed": false
   }
  },
  {
   "cell_type": "code",
   "execution_count": 3,
   "outputs": [
    {
     "name": "stdout",
     "output_type": "stream",
     "text": [
      "To get the top 5 customers who have made the most purchases, you would typically need access to a dataset that includes information about customer purchases. The steps to achieve this would involve using data analysis tools like Python or SQL to query and analyze the data. Here is a general approach you can take:\n",
      "\n",
      "1. **Load the Data**: If the data is stored in a database, you can use SQL to extract the relevant information. If the data is in a CSV file or another format, you can use Python libraries like Pandas to load the data into a DataFrame.\n",
      "\n",
      "2. **Aggregate the Data**: You will need to aggregate the data to calculate the total number of purchases made by each customer. This can be done using SQL queries or Pandas functions like groupby.\n",
      "\n",
      "3. **Rank the Customers**: Once you have the total number of purchases for each customer, you can rank the customers based on this metric. In SQL, you can use the RANK() or ROW_NUMBER() functions. In Python, you can use the rank() method in Pandas.\n",
      "\n",
      "4. **Select the Top 5 Customers**: Finally, you can filter the ranked list to select the top 5 customers who have made the most purchases.\n",
      "\n",
      "Here is an example SQL query to get the top 5 customers based on the number of purchases:\n",
      "\n",
      "```sql\n",
      "SELECT customer_id, COUNT(*) as total_purchases\n",
      "FROM purchases\n",
      "GROUP BY customer_id\n",
      "ORDER BY total_purchases DESC\n",
      "LIMIT 5;\n",
      "```\n",
      "\n",
      "If you are using Python with Pandas, you can achieve the same result with the following code snippet:\n",
      "\n",
      "```python\n",
      "top_customers = df.groupby('customer_id').size().reset_index(name='total_purchases')\n",
      "top_customers = top_customers.sort_values(by='total_purchases', ascending=False).head(5)\n",
      "```\n",
      "\n",
      "Make sure to replace `purchases` and `customer_id` with the actual table and column names in your dataset.\n",
      "\n",
      "This approach will help you identify the top 5 customers who have made the most purchases based on the available data. Feel free to reach out if you need more specific guidance or have any other questions."
     ]
    }
   ],
   "source": [
    "# Example of using a customized prompt template\n",
    "aita_agent = AitaAgent(\"gpt-3.5-turbo\").set_prompt_context(\n",
    "    \"Data Schema: snowflake_sample_data.tpch_sf1\"\n",
    ")\n",
    "aita_agent.stream(\"I want to get the top 5 customers which making the most purchases\")"
   ],
   "metadata": {
    "collapsed": false
   }
  },
  {
   "cell_type": "markdown",
   "source": [
    "## SqlAgent example"
   ],
   "metadata": {
    "collapsed": false
   }
  },
  {
   "cell_type": "code",
   "execution_count": 4,
   "outputs": [],
   "source": [
    "# Set up the Snowflake and PostgreSQL data sources\n",
    "SNOWFLAKE_USER = os.environ.get(\"SNOWFLAKE_USER\")\n",
    "SNOWFLAKE_PASSWORD = os.environ.get(\"SNOWFLAKE_PASSWORD\")\n",
    "SNOWFLAKE_ACCOUNT = os.environ.get(\"SNOWFLAKE_ACCOUNT\")\n",
    "SNOWFLAKE_WAREHOUSE = os.environ.get(\"SNOWFLAKE_WAREHOUSE\")\n",
    "SNOWFLAKE_DATABASE = os.environ.get(\"SNOWFLAKE_DATABASE\")\n",
    "SNOWFLAKE_SCHEMA = os.environ.get(\"SNOWFLAKE_SCHEMA\")\n",
    "SNOWFLAKE_ROLE = os.environ.get(\"SNOWFLAKE_ROLE\")"
   ],
   "metadata": {
    "collapsed": false
   }
  },
  {
   "cell_type": "code",
   "execution_count": 5,
   "outputs": [],
   "source": [
    "sf_datasource = SnowflakeDataSource(\n",
    "    user=SNOWFLAKE_USER,\n",
    "    password=SNOWFLAKE_PASSWORD,\n",
    "    account=SNOWFLAKE_ACCOUNT,\n",
    "    warehouse=SNOWFLAKE_WAREHOUSE,\n",
    "    database=SNOWFLAKE_DATABASE,\n",
    "    schema=SNOWFLAKE_SCHEMA,\n",
    "    role=SNOWFLAKE_ROLE,\n",
    ")"
   ],
   "metadata": {
    "collapsed": false
   }
  },
  {
   "cell_type": "code",
   "execution_count": 6,
   "outputs": [],
   "source": [
    "pg_datasource = PostgreSqlDataSource(connection_url=\"postgresql://@localhost:5432/aita\")"
   ],
   "metadata": {
    "collapsed": false
   }
  },
  {
   "cell_type": "code",
   "execution_count": 7,
   "outputs": [
    {
     "name": "stdout",
     "output_type": "stream",
     "text": [
      "To get the top 5 customers who have made the most purchases from the provided data schema `snowflake_sample_data.tpch_sf1`, you can use SQL queries to analyze the data. Here is a sample SQL query that you can use to achieve this:\n",
      "\n",
      "```sql\n",
      "SELECT c_custkey, c_name, COUNT(o_orderkey) AS total_orders\n",
      "FROM snowflake_sample_data.tpch_sf1.customer c\n",
      "JOIN snowflake_sample_data.tpch_sf1.orders o ON c.c_custkey = o.o_custkey\n",
      "GROUP BY c_custkey, c_name\n",
      "ORDER BY total_orders DESC\n",
      "LIMIT 5;\n",
      "```\n",
      "\n",
      "In this SQL query:\n",
      "- We are selecting the customer key (`c_custkey`), customer name (`c_name`), and counting the number of orders made by each customer.\n",
      "- We are joining the `customer` table with the `orders` table on the `c_custkey` to `o_custkey` relationship.\n",
      "- We are grouping the results by customer key and name.\n",
      "- We are ordering the results by the total number of orders in descending order.\n",
      "- Finally, we are limiting the output to the top 5 customers with the most orders.\n",
      "\n",
      "You can run this query in your Snowflake environment to get the top 5 customers who have made the most purchases."
     ]
    }
   ],
   "source": [
    "# Example of using the AitaAgent with a Snowflake data source, This means no data catalog is provided to the agent.\n",
    "aita_agent = (\n",
    "    AitaAgent(\"gpt-3.5-turbo\")\n",
    "    .set_prompt_context(\"Data Schema: snowflake_sample_data.tpch_sf1\")\n",
    "    .add_datasource(sf_datasource)\n",
    ")\n",
    "aita_agent.stream(\"I want to get the top 5 customers which making the most purchases\")"
   ],
   "metadata": {
    "collapsed": false
   }
  },
  {
   "cell_type": "code",
   "execution_count": 8,
   "outputs": [],
   "source": [
    "# Basic example of using the SQL agent, The data catalog is provided to the agent.\n",
    "from aita.prompt.base import BasicDataSourcePromptTemplate\n",
    "\n",
    "sql_agent = (\n",
    "    SqlAgent(\"gpt-3.5-turbo\")\n",
    "    .set_prompt_context(BasicDataSourcePromptTemplate)\n",
    "    .add_datasource(sf_datasource)\n",
    ")"
   ],
   "metadata": {
    "collapsed": false
   }
  },
  {
   "cell_type": "code",
   "execution_count": 9,
   "outputs": [
    {
     "name": "stdout",
     "output_type": "stream",
     "text": [
      "================================\u001B[1m Human Message \u001B[0m=================================\n",
      "\n",
      "I want to get the top 5 customers which making the most purchases\n",
      "==================================\u001B[1m Ai Message \u001B[0m==================================\n",
      "\n",
      "To find the top 5 customers who have made the most purchases, we can query the `CUSTOMER` and `ORDERS` tables to calculate the total amount spent by each customer. Here's the general approach to achieve this:\n",
      "\n",
      "1. Join the `CUSTOMER` and `ORDERS` tables on the `C_CUSTKEY` column.\n",
      "2. Group the data by customer and calculate the total amount spent by each customer.\n",
      "3. Sort the customers based on the total amount spent in descending order.\n",
      "4. Select the top 5 customers.\n",
      "\n",
      "Let's start by writing a SQL query to perform these steps.\n",
      "Tool Calls:\n",
      "  sql_database_query (call_uY19X7LPfkXBjgAn4NBZIhIx)\n",
      " Call ID: call_uY19X7LPfkXBjgAn4NBZIhIx\n",
      "  Args:\n",
      "    query: SELECT C.C_CUSTKEY, C.C_NAME, SUM(O.O_TOTALPRICE) AS TOTAL_AMOUNT_SPENT\n",
      "FROM CUSTOMER C\n",
      "JOIN ORDERS O ON C.C_CUSTKEY = O.O_CUSTKEY\n",
      "GROUP BY C.C_CUSTKEY, C.C_NAME\n",
      "ORDER BY TOTAL_AMOUNT_SPENT DESC\n",
      "LIMIT 5;\n"
     ]
    },
    {
     "data": {
      "text/plain": "<generator object Pregel.stream at 0x1373e7fa0>"
     },
     "execution_count": 9,
     "metadata": {},
     "output_type": "execute_result"
    }
   ],
   "source": [
    "sql_agent.stream(\"I want to get the top 5 customers which making the most purchases\")"
   ],
   "metadata": {
    "collapsed": false
   }
  },
  {
   "cell_type": "code",
   "execution_count": 10,
   "outputs": [
    {
     "name": "stdout",
     "output_type": "stream",
     "text": [
      "=================================\u001B[1m Tool Message \u001B[0m=================================\n",
      "Name: sql_database_query\n",
      "\n",
      "[(Decimal('143500'), 'Customer#000143500', Decimal('7012696.48')), (Decimal('95257'), 'Customer#000095257', Decimal('6563511.23')), (Decimal('87115'), 'Customer#000087115', Decimal('6457526.26')), (Decimal('131113'), 'Customer#000131113', Decimal('6311428.86')), (Decimal('103834'), 'Customer#000103834', Decimal('6306524.23'))]\n",
      "==================================\u001B[1m Ai Message \u001B[0m==================================\n",
      "\n",
      "The top 5 customers who have made the most purchases are as follows:\n",
      "\n",
      "1. Customer#000143500 - Total Amount Spent: $7,012,696.48\n",
      "2. Customer#000095257 - Total Amount Spent: $6,563,511.23\n",
      "3. Customer#000087115 - Total Amount Spent: $6,457,526.26\n",
      "4. Customer#000131113 - Total Amount Spent: $6,311,428.86\n",
      "5. Customer#000103834 - Total Amount Spent: $6,306,524.23\n",
      "\n",
      "These customers have spent the most on purchases.\n"
     ]
    },
    {
     "data": {
      "text/plain": "<generator object Pregel.stream at 0x1078ad500>"
     },
     "execution_count": 10,
     "metadata": {},
     "output_type": "execute_result"
    }
   ],
   "source": [
    "sql_agent.stream(allow_run_tool=True)"
   ],
   "metadata": {
    "collapsed": false
   }
  },
  {
   "cell_type": "code",
   "execution_count": 11,
   "outputs": [
    {
     "name": "stdout",
     "output_type": "stream",
     "text": [
      "================================\u001B[1m Human Message \u001B[0m=================================\n",
      "\n",
      "\n",
      "SELECT c_custkey, c_name, SUM(o_totalprice) AS total_purchase\n",
      "FROM snowflake_sample_data.tpch_sf1.customer\n",
      "JOIN snowflake_sample_data.tpch_sf1.orders\n",
      "ON c_custkey = o_custkey\n",
      "GROUP BY c_custkey, c_name\n",
      "ORDER BY total_purchase\n",
      "DESC LIMIT 10\n",
      "\n",
      "==================================\u001B[1m Ai Message \u001B[0m==================================\n",
      "\n",
      "It seems you have run the query again. The top 5 customers with the most purchases are:\n",
      "\n",
      "1. Customer#000143500 - Total Purchase: $7,012,696.48\n",
      "2. Customer#000095257 - Total Purchase: $6,563,511.23\n",
      "3. Customer#000087115 - Total Purchase: $6,457,526.26\n",
      "4. Customer#000131113 - Total Purchase: $6,311,428.86\n",
      "5. Customer#000103834 - Total Purchase: $6,306,524.23\n",
      "\n",
      "These customers have the highest total purchase amounts.\n"
     ]
    },
    {
     "data": {
      "text/plain": "<generator object Pregel.stream at 0x1379dd820>"
     },
     "execution_count": 11,
     "metadata": {},
     "output_type": "execute_result"
    }
   ],
   "source": [
    "# Example of using the SQL agent to run a SQL query directly.\n",
    "sample_sql_query = \"\"\"\n",
    "SELECT c_custkey, c_name, SUM(o_totalprice) AS total_purchase\n",
    "FROM snowflake_sample_data.tpch_sf1.customer\n",
    "JOIN snowflake_sample_data.tpch_sf1.orders\n",
    "ON c_custkey = o_custkey\n",
    "GROUP BY c_custkey, c_name\n",
    "ORDER BY total_purchase\n",
    "DESC LIMIT 10\n",
    "\"\"\"\n",
    "\n",
    "sql_agent.stream(sample_sql_query)"
   ],
   "metadata": {
    "collapsed": false
   }
  },
  {
   "cell_type": "code",
   "execution_count": null,
   "outputs": [],
   "source": [],
   "metadata": {
    "collapsed": false
   }
  }
 ],
 "metadata": {
  "kernelspec": {
   "display_name": "Python 3",
   "language": "python",
   "name": "python3"
  },
  "language_info": {
   "codemirror_mode": {
    "name": "ipython",
    "version": 2
   },
   "file_extension": ".py",
   "mimetype": "text/x-python",
   "name": "python",
   "nbconvert_exporter": "python",
   "pygments_lexer": "ipython2",
   "version": "2.7.6"
  }
 },
 "nbformat": 4,
 "nbformat_minor": 0
}
