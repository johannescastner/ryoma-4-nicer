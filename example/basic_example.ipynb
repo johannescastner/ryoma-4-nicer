{
 "cells": [
  {
   "cell_type": "code",
   "execution_count": 9,
   "metadata": {
    "collapsed": true
   },
   "outputs": [],
   "source": [
    "import os\n",
    "\n",
    "from aita.datasource.snowflake import SnowflakeDataSource\n",
    "from aita.datasource.postgresql import PostgreSqlDataSource\n",
    "from aita.agent.base import AitaAgent\n",
    "from aita.agent.sql import SqlAgent"
   ]
  },
  {
   "cell_type": "code",
   "execution_count": 10,
   "outputs": [],
   "source": [
    "# Ensure the OpenAI API key is set in the environment"
   ],
   "metadata": {
    "collapsed": false
   }
  },
  {
   "cell_type": "code",
   "execution_count": 11,
   "outputs": [
    {
     "name": "stdout",
     "output_type": "stream",
     "text": [
      "To get the top 5 customers who have made the most purchases, you would typically need access to a dataset that includes information about customers and their purchases. Here is a general outline of the steps you can follow to analyze this data:\n",
      "\n",
      "1. **Data Preparation**: Load the dataset containing customer information and purchase history into your analysis environment. This dataset should ideally include columns such as customer ID, purchase amount, and purchase date.\n",
      "\n",
      "2. **Data Cleaning**: Check for any missing or duplicate values in the dataset and handle them accordingly.\n",
      "\n",
      "3. **Data Aggregation**: Aggregate the data to calculate the total purchase amount for each customer. You can use functions like `groupby` in Python (if you're using pandas) to aggregate the data.\n",
      "\n",
      "4. **Ranking**: Once you have the total purchase amount for each customer, you can rank the customers based on their total purchase amounts in descending order.\n",
      "\n",
      "5. **Select Top 5**: Finally, select the top 5 customers with the highest total purchase amounts to identify the customers making the most purchases.\n",
      "\n",
      "Here is a sample Python code snippet to achieve this using pandas:\n",
      "\n",
      "```python\n",
      "import pandas as pd\n",
      "\n",
      "# Load the dataset\n",
      "data = pd.read_csv('customer_purchase_data.csv')\n",
      "\n",
      "# Aggregate data to calculate total purchase amount per customer\n",
      "customer_purchase_total = data.groupby('customer_id')['purchase_amount'].sum().reset_index()\n",
      "\n",
      "# Rank the customers based on total purchase amount\n",
      "customer_purchase_total = customer_purchase_total.sort_values(by='purchase_amount', ascending=False)\n",
      "\n",
      "# Select top 5 customers\n",
      "top_5_customers = customer_purchase_total.head(5)\n",
      "\n",
      "print(top_5_customers)\n",
      "```\n",
      "\n",
      "Make sure to replace `'customer_purchase_data.csv'` with the actual filename and path of your dataset. This code will give you the top 5 customers who have made the most purchases based on the total purchase amount."
     ]
    }
   ],
   "source": [
    "# Create an simple Aita Agent with GPT-3.5-turbo model\n",
    "aita_agent = AitaAgent(\"gpt-3.5-turbo\")\n",
    "aita_agent.chat(\"I want to get the top 5 customers which making the most purchases\")"
   ],
   "metadata": {
    "collapsed": false
   }
  },
  {
   "cell_type": "code",
   "execution_count": 12,
   "outputs": [
    {
     "name": "stdout",
     "output_type": "stream",
     "text": [
      "To get the top 5 customers who have made the most purchases, you would typically have a dataset with customer IDs and their respective purchase counts. Here is a general outline of how you can approach this using Python code:\n",
      "\n",
      "1. Assuming you have a dataset or database table with customer IDs and purchase counts, you can load this data into a Pandas DataFrame.\n",
      "2. You can then sort the DataFrame based on the purchase counts in descending order.\n",
      "3. Finally, you can extract the top 5 customers with the highest purchase counts.\n",
      "\n",
      "Here is some sample Python code that demonstrates this process:\n",
      "\n",
      "```python\n",
      "import pandas as pd\n",
      "\n",
      "# Assuming 'data' is a dictionary or list containing customer IDs and purchase counts\n",
      "data = {\n",
      "    'Customer_ID': [1, 2, 3, 4, 5],\n",
      "    'Purchase_Count': [20, 15, 30, 25, 18]\n",
      "}\n",
      "\n",
      "# Create a DataFrame from the data\n",
      "df = pd.DataFrame(data)\n",
      "\n",
      "# Sort the DataFrame by 'Purchase_Count' in descending order\n",
      "df = df.sort_values(by='Purchase_Count', ascending=False)\n",
      "\n",
      "# Get the top 5 customers with the highest purchase counts\n",
      "top_5_customers = df.head(5)\n",
      "\n",
      "print(top_5_customers)\n",
      "```\n",
      "\n",
      "In this code snippet, we first create a Pandas DataFrame from the sample data. We then sort the DataFrame based on the 'Purchase_Count' column in descending order. Finally, we extract the top 5 customers using the `head()` method.\n",
      "\n",
      "You can adapt this code to your specific dataset or database table structure to get the top 5 customers with the most purchases."
     ]
    }
   ],
   "source": [
    "# Example of using a customized prompt template\n",
    "aita_agent = AitaAgent(\"gpt-3.5-turbo\") \\\n",
    "    .set_prompt_template(\"Data Schema: snowflake_sample_data.tpch_sf1\")\n",
    "aita_agent.chat(\"I want to get the top 5 customers which making the most purchases\")"
   ],
   "metadata": {
    "collapsed": false
   }
  },
  {
   "cell_type": "markdown",
   "source": [
    "## SqlAgent example"
   ],
   "metadata": {
    "collapsed": false
   }
  },
  {
   "cell_type": "code",
   "execution_count": 13,
   "outputs": [],
   "source": [
    "# Set up the Snowflake and PostgreSQL data sources\n",
    "SNOWFLAKE_USER = os.environ.get(\"SNOWFLAKE_USER\")\n",
    "SNOWFLAKE_PASSWORD = os.environ.get(\"SNOWFLAKE_PASSWORD\")\n",
    "SNOWFLAKE_ACCOUNT = os.environ.get(\"SNOWFLAKE_ACCOUNT\")\n",
    "SNOWFLAKE_WAREHOUSE = os.environ.get(\"SNOWFLAKE_WAREHOUSE\")\n",
    "SNOWFLAKE_DATABASE = os.environ.get(\"SNOWFLAKE_DATABASE\")\n",
    "SNOWFLAKE_SCHEMA = os.environ.get(\"SNOWFLAKE_SCHEMA\")\n",
    "SNOWFLAKE_ROLE = os.environ.get(\"SNOWFLAKE_ROLE\")"
   ],
   "metadata": {
    "collapsed": false
   }
  },
  {
   "cell_type": "code",
   "execution_count": 14,
   "outputs": [],
   "source": [
    "sf_datasource = SnowflakeDataSource(\n",
    "    user=SNOWFLAKE_USER,\n",
    "    password=SNOWFLAKE_PASSWORD,\n",
    "    account=SNOWFLAKE_ACCOUNT,\n",
    "    warehouse=SNOWFLAKE_WAREHOUSE,\n",
    "    database=SNOWFLAKE_DATABASE,\n",
    "    schema=SNOWFLAKE_SCHEMA,\n",
    "    role=SNOWFLAKE_ROLE,\n",
    ")"
   ],
   "metadata": {
    "collapsed": false
   }
  },
  {
   "cell_type": "code",
   "execution_count": 15,
   "outputs": [],
   "source": [
    "pg_datasource = PostgreSqlDataSource(\n",
    "    connection_url=\"postgresql://@localhost:5432/aita\"\n",
    ")"
   ],
   "metadata": {
    "collapsed": false
   }
  },
  {
   "cell_type": "code",
   "execution_count": 16,
   "outputs": [
    {
     "name": "stdout",
     "output_type": "stream",
     "text": [
      "To get the top 5 customers who have made the most purchases from the `snowflake_sample_data.tpch_sf1` dataset, you can use a SQL query. Here is an example query that you can use:\n",
      "\n",
      "```sql\n",
      "SELECT c_custkey, c_name, COUNT(o_orderkey) AS total_purchases\n",
      "FROM snowflake_sample_data.tpch_sf1.customer\n",
      "JOIN snowflake_sample_data.tpch_sf1.orders\n",
      "ON c_custkey = o_custkey\n",
      "GROUP BY c_custkey, c_name\n",
      "ORDER BY total_purchases DESC\n",
      "LIMIT 5;\n",
      "```\n",
      "\n",
      "In this query:\n",
      "- We are selecting the `c_custkey` (customer key), `c_name` (customer name), and counting the number of `o_orderkey` (orders) for each customer.\n",
      "- We are joining the `customer` and `orders` tables on the `c_custkey` and `o_custkey` fields.\n",
      "- We are grouping the results by `c_custkey` and `c_name`.\n",
      "- We are ordering the results in descending order based on the total number of purchases.\n",
      "- We are limiting the results to the top 5 customers with the most purchases.\n",
      "\n",
      "You can run this query in your Snowflake environment to retrieve the top 5 customers who have made the most purchases."
     ]
    }
   ],
   "source": [
    "# Example of using the AitaAgent with a Snowflake data source, This means no data catalog is provided to the agent.\n",
    "aita_agent = AitaAgent(\"gpt-3.5-turbo\") \\\n",
    "    .set_prompt_template(\"Data Schema: snowflake_sample_data.tpch_sf1\") \\\n",
    "    .add_datasource(sf_datasource)\n",
    "aita_agent.chat(\"I want to get the top 5 customers which making the most purchases\")"
   ],
   "metadata": {
    "collapsed": false
   }
  },
  {
   "cell_type": "code",
   "execution_count": 17,
   "outputs": [],
   "source": [
    "# Basic example of using the SQL agent, The data catalog is provided to the agent.\n",
    "from aita.prompt.base import BasicDataSourcePromptTemplate\n",
    "\n",
    "sql_agent = SqlAgent(\"gpt-3.5-turbo\") \\\n",
    "    .set_prompt_template(BasicDataSourcePromptTemplate) \\\n",
    "    .add_datasource(sf_datasource)"
   ],
   "metadata": {
    "collapsed": false
   }
  },
  {
   "cell_type": "code",
   "execution_count": 18,
   "outputs": [
    {
     "name": "stdout",
     "output_type": "stream",
     "text": [
      "================================\u001B[1m Human Message \u001B[0m=================================\n",
      "\n",
      "I want to get the top 5 customers which making the most purchases\n",
      "==================================\u001B[1m Ai Message \u001B[0m==================================\n",
      "\n",
      "To get the top 5 customers who made the most purchases, we will need to query the `CUSTOMER` and `ORDERS` tables to calculate the total purchases made by each customer. Then we can rank the customers based on their total purchases.\n",
      "\n",
      "Here is the SQL query to achieve this:\n",
      "\n",
      "```sql\n",
      "SELECT\n",
      "    C.C_CUSTKEY AS CustomerID,\n",
      "    C.C_NAME AS CustomerName,\n",
      "    SUM(O.O_TOTALPRICE) AS TotalPurchases\n",
      "FROM\n",
      "    TPCH_SF1.CUSTOMER C\n",
      "JOIN\n",
      "    TPCH_SF1.ORDERS O ON C.C_CUSTKEY = O.O_CUSTKEY\n",
      "GROUP BY\n",
      "    C.C_CUSTKEY, C.C_NAME\n",
      "ORDER BY\n",
      "    TotalPurchases DESC\n",
      "LIMIT 5;\n",
      "```\n",
      "\n",
      "This query will join the `CUSTOMER` and `ORDERS` tables on the `C_CUSTKEY` and `O_CUSTKEY` columns, calculate the total purchases made by each customer, group the results by customer, order them by total purchases in descending order, and limit the output to the top 5 customers.\n",
      "\n",
      "Let me run this query against the database to get the top 5 customers for you.\n",
      "Tool Calls:\n",
      "  sql_database_query (call_ThNyJB6IVu80TU3UCDGANtgg)\n",
      " Call ID: call_ThNyJB6IVu80TU3UCDGANtgg\n",
      "  Args:\n",
      "    query: SELECT C.C_CUSTKEY AS CustomerID, C.C_NAME AS CustomerName, SUM(O.O_TOTALPRICE) AS TotalPurchases FROM TPCH_SF1.CUSTOMER C JOIN TPCH_SF1.ORDERS O ON C.C_CUSTKEY = O.O_CUSTKEY GROUP BY C.C_CUSTKEY, C.C_NAME ORDER BY TotalPurchases DESC LIMIT 5;\n"
     ]
    },
    {
     "data": {
      "text/plain": "<generator object Pregel.stream at 0x176445ca0>"
     },
     "execution_count": 18,
     "metadata": {},
     "output_type": "execute_result"
    }
   ],
   "source": [
    "sql_agent.chat(\"I want to get the top 5 customers which making the most purchases\")"
   ],
   "metadata": {
    "collapsed": false
   }
  },
  {
   "cell_type": "code",
   "execution_count": 8,
   "outputs": [
    {
     "name": "stdout",
     "output_type": "stream",
     "text": [
      "=================================\u001B[1m Tool Message \u001B[0m=================================\n",
      "Name: sql_database_query\n",
      "\n",
      "[('Customer#000143500', Decimal('7154828.98')), ('Customer#000095257', Decimal('6645071.02')), ('Customer#000087115', Decimal('6528332.52')), ('Customer#000134380', Decimal('6405556.97')), ('Customer#000103834', Decimal('6397480.12'))]\n",
      "==================================\u001B[1m Ai Message \u001B[0m==================================\n",
      "\n",
      "The top 5 customers who have made the most purchases are as follows:\n",
      "\n",
      "1. Customer#000143500 - Total Purchases: $7,154,828.98\n",
      "2. Customer#000095257 - Total Purchases: $6,645,071.02\n",
      "3. Customer#000087115 - Total Purchases: $6,528,332.52\n",
      "4. Customer#000134380 - Total Purchases: $6,405,556.97\n",
      "5. Customer#000103834 - Total Purchases: $6,397,480.12\n",
      "\n",
      "These customers have made the highest total purchases.\n"
     ]
    },
    {
     "data": {
      "text/plain": "<generator object Pregel.stream at 0x118521ce0>"
     },
     "execution_count": 8,
     "metadata": {},
     "output_type": "execute_result"
    }
   ],
   "source": [
    "sql_agent.chat(allow_run_tool=True)"
   ],
   "metadata": {
    "collapsed": false
   }
  },
  {
   "cell_type": "code",
   "execution_count": 9,
   "outputs": [
    {
     "name": "stdout",
     "output_type": "stream",
     "text": [
      "================================\u001B[1m Human Message \u001B[0m=================================\n",
      "\n",
      "\n",
      "SELECT c_custkey, c_name, SUM(o_totalprice) AS total_purchase\n",
      "FROM snowflake_sample_data.tpch_sf1.customer\n",
      "JOIN snowflake_sample_data.tpch_sf1.orders\n",
      "ON c_custkey = o_custkey\n",
      "GROUP BY c_custkey, c_name\n",
      "ORDER BY total_purchase\n",
      "DESC LIMIT 10\n",
      "\n",
      "==================================\u001B[1m Ai Message \u001B[0m==================================\n",
      "\n",
      "The query you provided aims to retrieve the top 10 customers based on the total purchase amount. It calculates the sum of the `O_TOTALPRICE` from the `ORDERS` table for each customer and then ranks the customers in descending order of total purchase amount.\n",
      "\n",
      "I will execute the provided query to get the top 10 customers based on their total purchase amount.\n",
      "Tool Calls:\n",
      "  sql_database_query (call_0XzB9V8OOyOvTu9qsGM4f7uD)\n",
      " Call ID: call_0XzB9V8OOyOvTu9qsGM4f7uD\n",
      "  Args:\n",
      "    query: SELECT C_CUSTKEY, C_NAME, SUM(O_TOTALPRICE) AS TOTAL_PURCHASE FROM SNOWFLAKE_SAMPLE_DATA.TPCH_SF1.CUSTOMER JOIN SNOWFLAKE_SAMPLE_DATA.TPCH_SF1.ORDERS ON C_CUSTKEY = O_CUSTKEY GROUP BY C_CUSTKEY, C_NAME ORDER BY TOTAL_PURCHASE DESC LIMIT 10;\n",
      "<generator object Pregel.stream at 0x153665660>\n"
     ]
    }
   ],
   "source": [
    "# Example of using the SQL agent to run a SQL query directly.\n",
    "sample_sql_query = \"\"\"\n",
    "SELECT c_custkey, c_name, SUM(o_totalprice) AS total_purchase\n",
    "FROM snowflake_sample_data.tpch_sf1.customer\n",
    "JOIN snowflake_sample_data.tpch_sf1.orders\n",
    "ON c_custkey = o_custkey\n",
    "GROUP BY c_custkey, c_name\n",
    "ORDER BY total_purchase\n",
    "DESC LIMIT 10\n",
    "\"\"\"\n",
    "\n",
    "sql_agent.chat(sample_sql_query)"
   ],
   "metadata": {
    "collapsed": false
   }
  },
  {
   "cell_type": "code",
   "execution_count": 10,
   "outputs": [
    {
     "data": {
      "text/plain": "[(Decimal('143500'), 'Customer#000143500', Decimal('7012696.48')),\n (Decimal('95257'), 'Customer#000095257', Decimal('6563511.23')),\n (Decimal('87115'), 'Customer#000087115', Decimal('6457526.26')),\n (Decimal('131113'), 'Customer#000131113', Decimal('6311428.86')),\n (Decimal('103834'), 'Customer#000103834', Decimal('6306524.23')),\n (Decimal('134380'), 'Customer#000134380', Decimal('6291610.15')),\n (Decimal('69682'), 'Customer#000069682', Decimal('6287149.42')),\n (Decimal('102022'), 'Customer#000102022', Decimal('6273788.41')),\n (Decimal('98587'), 'Customer#000098587', Decimal('6265089.35')),\n (Decimal('85102'), 'Customer#000085102', Decimal('6135483.63'))]"
     },
     "execution_count": 10,
     "metadata": {},
     "output_type": "execute_result"
    }
   ],
   "source": [
    "sql_agent.call_tool(\"sql_database_query\", tool_id=\"call_0XzB9V8OOyOvTu9qsGM4f7uD\")"
   ],
   "metadata": {
    "collapsed": false
   }
  },
  {
   "cell_type": "code",
   "execution_count": null,
   "outputs": [],
   "source": [],
   "metadata": {
    "collapsed": false
   }
  }
 ],
 "metadata": {
  "kernelspec": {
   "display_name": "Python 3",
   "language": "python",
   "name": "python3"
  },
  "language_info": {
   "codemirror_mode": {
    "name": "ipython",
    "version": 2
   },
   "file_extension": ".py",
   "mimetype": "text/x-python",
   "name": "python",
   "nbconvert_exporter": "python",
   "pygments_lexer": "ipython2",
   "version": "2.7.6"
  }
 },
 "nbformat": 4,
 "nbformat_minor": 0
}
