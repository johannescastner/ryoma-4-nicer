{
 "cells": [
  {
   "cell_type": "code",
   "execution_count": 1,
   "metadata": {
    "collapsed": true
   },
   "outputs": [],
   "source": [
    "import os\n",
    "\n",
    "from aita.datasource.snowflake import SnowflakeDataSource\n",
    "from aita.datasource.postgresql import PostgreSqlDataSource\n",
    "from aita.agent.base import AitaAgent\n",
    "from aita.agent.sql import SqlAgent"
   ]
  },
  {
   "cell_type": "code",
   "execution_count": 2,
   "outputs": [],
   "source": [
    "# Ensure the OpenAI API key is set in the environment"
   ],
   "metadata": {
    "collapsed": false
   }
  },
  {
   "cell_type": "code",
   "execution_count": 3,
   "outputs": [
    {
     "name": "stdout",
     "output_type": "stream",
     "text": [
      "To find the top 5 customers who have made the most purchases, you would typically analyze your sales data. The process may vary depending on the format and structure of your data, but here is a general approach using SQL as an example:\n",
      "\n",
      "Assuming you have a table named `orders` that contains information about customer orders, including the customer ID and the total amount of each purchase, you can write a SQL query to group the data by customer ID, sum the total purchase amounts for each customer, and then rank the customers based on their total purchase amounts. Here is an example query that could be used:\n",
      "\n",
      "```sql\n",
      "SELECT customer_id, SUM(total_amount) AS total_purchase_amount\n",
      "FROM orders\n",
      "GROUP BY customer_id\n",
      "ORDER BY total_purchase_amount DESC\n",
      "LIMIT 5;\n",
      "```\n",
      "\n",
      "In this query:\n",
      "- `customer_id` is the customer identifier.\n",
      "- `total_amount` is the total amount of each purchase.\n",
      "- We are grouping the data by `customer_id` and calculating the total purchase amount for each customer using the `SUM` function.\n",
      "- We then order the results in descending order based on the total purchase amount.\n",
      "- Finally, we limit the results to the top 5 customers by using `LIMIT 5`.\n",
      "\n",
      "You can run this query on your database to retrieve the top 5 customers who have made the most purchases. Just make sure to adjust the table and column names according to your database schema."
     ]
    }
   ],
   "source": [
    "# Create an simple Aita Agent with GPT-3.5-turbo model\n",
    "aita_agent = AitaAgent(\"gpt-3.5-turbo\")\n",
    "aita_agent.chat(\"I want to get the top 5 customers which making the most purchases\")"
   ],
   "metadata": {
    "collapsed": false
   }
  },
  {
   "cell_type": "code",
   "execution_count": 4,
   "outputs": [
    {
     "name": "stdout",
     "output_type": "stream",
     "text": [
      "To identify the top 5 customers making the most purchases, you would typically need access to a dataset that includes information about customer transactions. The dataset would include details such as customer ID, purchase amount, purchase date, etc.\n",
      "\n",
      "Here is a general approach to finding the top 5 customers making the most purchases:\n",
      "\n",
      "1. **Data Preparation**: Load the dataset into a data analysis tool such as Python (using libraries like Pandas) or SQL (using queries).\n",
      "\n",
      "2. **Grouping and Aggregation**: Group the data by customer ID and aggregate the total purchase amounts for each customer.\n",
      "\n",
      "3. **Sorting**: Sort the aggregated data in descending order of the total purchase amounts to identify the customers making the most purchases.\n",
      "\n",
      "4. **Select Top 5 Customers**: Select the top 5 customers based on the total purchase amounts.\n",
      "\n",
      "Here is an example code snippet in Python using Pandas to achieve this:\n",
      "\n",
      "```python\n",
      "import pandas as pd\n",
      "\n",
      "# Load dataset into a DataFrame (assuming 'df' is the DataFrame)\n",
      "# Assuming the dataset has columns like 'customer_id' and 'purchase_amount'\n",
      "# Replace 'df' with the actual DataFrame object and columns with the ones in your dataset\n",
      "top_customers = df.groupby('customer_id')['purchase_amount'].sum().reset_index()\n",
      "top_customers = top_customers.sort_values(by='purchase_amount', ascending=False).head(5)\n",
      "\n",
      "print(top_customers)\n",
      "```\n",
      "\n",
      "In SQL, you can achieve this using a query similar to the following:\n",
      "\n",
      "```sql\n",
      "SELECT customer_id, SUM(purchase_amount) AS total_purchase_amount\n",
      "FROM transactions\n",
      "GROUP BY customer_id\n",
      "ORDER BY total_purchase_amount DESC\n",
      "LIMIT 5;\n",
      "```\n",
      "\n",
      "Replace `transactions` with the actual table name and columns as per your dataset.\n",
      "\n",
      "By following these steps and using the appropriate tools, you should be able to identify the top 5 customers making the most purchases in your dataset."
     ]
    }
   ],
   "source": [
    "# Example of using a customized prompt template\n",
    "aita_agent = AitaAgent(\"gpt-3.5-turbo\") \\\n",
    "    .set_prompt_template(\"Data Schema: snowflake_sample_data.tpch_sf1\")\n",
    "aita_agent.chat(\"I want to get the top 5 customers which making the most purchases\")"
   ],
   "metadata": {
    "collapsed": false
   }
  },
  {
   "cell_type": "markdown",
   "source": [
    "## SqlAgent example"
   ],
   "metadata": {
    "collapsed": false
   }
  },
  {
   "cell_type": "code",
   "execution_count": 2,
   "outputs": [],
   "source": [
    "# Set up the Snowflake and PostgreSQL data sources\n",
    "SNOWFLAKE_USER = os.environ.get(\"SNOWFLAKE_USER\")\n",
    "SNOWFLAKE_PASSWORD = os.environ.get(\"SNOWFLAKE_PASSWORD\")\n",
    "SNOWFLAKE_ACCOUNT = os.environ.get(\"SNOWFLAKE_ACCOUNT\")\n",
    "SNOWFLAKE_WAREHOUSE = os.environ.get(\"SNOWFLAKE_WAREHOUSE\")\n",
    "SNOWFLAKE_DATABASE = os.environ.get(\"SNOWFLAKE_DATABASE\")\n",
    "SNOWFLAKE_SCHEMA = os.environ.get(\"SNOWFLAKE_SCHEMA\")\n",
    "SNOWFLAKE_ROLE = os.environ.get(\"SNOWFLAKE_ROLE\")"
   ],
   "metadata": {
    "collapsed": false
   }
  },
  {
   "cell_type": "code",
   "execution_count": 3,
   "outputs": [],
   "source": [
    "sf_datasource = SnowflakeDataSource(\n",
    "    user=SNOWFLAKE_USER,\n",
    "    password=SNOWFLAKE_PASSWORD,\n",
    "    account=SNOWFLAKE_ACCOUNT,\n",
    "    warehouse=SNOWFLAKE_WAREHOUSE,\n",
    "    database=SNOWFLAKE_DATABASE,\n",
    "    schema=SNOWFLAKE_SCHEMA,\n",
    "    role=SNOWFLAKE_ROLE,\n",
    ")"
   ],
   "metadata": {
    "collapsed": false
   }
  },
  {
   "cell_type": "code",
   "execution_count": 4,
   "outputs": [],
   "source": [
    "pg_datasource = PostgreSqlDataSource(\n",
    "    connection_url=\"postgresql://@localhost:5432/aita\"\n",
    ")"
   ],
   "metadata": {
    "collapsed": false
   }
  },
  {
   "cell_type": "code",
   "execution_count": 5,
   "outputs": [
    {
     "name": "stdout",
     "output_type": "stream",
     "text": [
      "To get the top 5 customers who have made the most purchases from the provided Snowflake sample data schema `snowflake_sample_data.tpch_sf1`, you can use the following SQL query:\n",
      "\n",
      "```sql\n",
      "SELECT c.custkey, c.name, COUNT(o.orderkey) AS total_purchases\n",
      "FROM snowflake_sample_data.tpch_sf1.customer c\n",
      "JOIN snowflake_sample_data.tpch_sf1.orders o ON c.custkey = o.custkey\n",
      "GROUP BY c.custkey, c.name\n",
      "ORDER BY total_purchases DESC\n",
      "LIMIT 5;\n",
      "```\n",
      "\n",
      "In this query:\n",
      "- We are selecting the customer key `c.custkey`, customer name `c.name`, and counting the total number of orders made by each customer.\n",
      "- We are joining the `customer` table with the `orders` table on the `custkey` to get the necessary information.\n",
      "- We are grouping the results by customer key and name.\n",
      "- We are ordering the results by the total number of purchases in descending order.\n",
      "- Finally, we are limiting the output to the top 5 customers with the most purchases.\n",
      "\n",
      "You can run this query in your Snowflake environment to get the top 5 customers who have made the most purchases."
     ]
    }
   ],
   "source": [
    "# Example of using the AitaAgent with a Snowflake data source, This means no data catalog is provided to the agent.\n",
    "aita_agent = AitaAgent(\"gpt-3.5-turbo\") \\\n",
    "    .set_prompt_template(\"Data Schema: snowflake_sample_data.tpch_sf1\") \\\n",
    "    .add_datasource(sf_datasource)\n",
    "aita_agent.chat(\"I want to get the top 5 customers which making the most purchases\")"
   ],
   "metadata": {
    "collapsed": false
   }
  },
  {
   "cell_type": "code",
   "execution_count": 5,
   "outputs": [],
   "source": [
    "# Basic example of using the SQL agent, The data catalog is provided to the agent.\n",
    "from aita.prompt.base import BasicDataSourcePromptTemplate\n",
    "\n",
    "sql_agent = SqlAgent(\"gpt-3.5-turbo\") \\\n",
    "    .set_prompt_template(BasicDataSourcePromptTemplate) \\\n",
    "    .add_datasource(sf_datasource)"
   ],
   "metadata": {
    "collapsed": false
   }
  },
  {
   "cell_type": "code",
   "execution_count": 6,
   "outputs": [
    {
     "name": "stdout",
     "output_type": "stream",
     "text": [
      "================================\u001B[1m Human Message \u001B[0m=================================\n",
      "\n",
      "I want to get the top 5 customers which making the most purchases\n",
      "==================================\u001B[1m Ai Message \u001B[0m==================================\n",
      "Tool Calls:\n",
      "  convert_to_pandas (call_0KopTnhCStfAIHok3d4yyv2X)\n",
      " Call ID: call_0KopTnhCStfAIHok3d4yyv2X\n",
      "  Args:\n",
      "    query: SELECT C.C_NAME, SUM(L.L_EXTENDEDPRICE) AS TOTAL_PURCHASES FROM CUSTOMER C JOIN ORDERS O ON C.C_CUSTKEY = O.O_CUSTKEY JOIN LINEITEM L ON O.O_ORDERKEY = L.L_ORDERKEY GROUP BY C.C_NAME ORDER BY TOTAL_PURCHASES DESC LIMIT 5\n"
     ]
    },
    {
     "data": {
      "text/plain": "<generator object Pregel.stream at 0x13ffe9d90>"
     },
     "execution_count": 6,
     "metadata": {},
     "output_type": "execute_result"
    }
   ],
   "source": [
    "sql_agent.chat(\"I want to get the top 5 customers which making the most purchases\")"
   ],
   "metadata": {
    "collapsed": false
   }
  },
  {
   "cell_type": "code",
   "execution_count": 8,
   "outputs": [
    {
     "name": "stdout",
     "output_type": "stream",
     "text": [
      "=================================\u001B[1m Tool Message \u001B[0m=================================\n",
      "Name: sql_database_query\n",
      "\n",
      "[('Customer#000143500', Decimal('7154828.98')), ('Customer#000095257', Decimal('6645071.02')), ('Customer#000087115', Decimal('6528332.52')), ('Customer#000134380', Decimal('6405556.97')), ('Customer#000103834', Decimal('6397480.12'))]\n",
      "==================================\u001B[1m Ai Message \u001B[0m==================================\n",
      "\n",
      "The top 5 customers who have made the most purchases are as follows:\n",
      "\n",
      "1. Customer#000143500 - Total Purchases: $7,154,828.98\n",
      "2. Customer#000095257 - Total Purchases: $6,645,071.02\n",
      "3. Customer#000087115 - Total Purchases: $6,528,332.52\n",
      "4. Customer#000134380 - Total Purchases: $6,405,556.97\n",
      "5. Customer#000103834 - Total Purchases: $6,397,480.12\n",
      "\n",
      "These customers have made the highest total purchases.\n"
     ]
    },
    {
     "data": {
      "text/plain": "<generator object Pregel.stream at 0x118521ce0>"
     },
     "execution_count": 8,
     "metadata": {},
     "output_type": "execute_result"
    }
   ],
   "source": [
    "sql_agent.chat(allow_run_tool=True)"
   ],
   "metadata": {
    "collapsed": false
   }
  },
  {
   "cell_type": "code",
   "execution_count": 9,
   "outputs": [
    {
     "name": "stdout",
     "output_type": "stream",
     "text": [
      "================================\u001B[1m Human Message \u001B[0m=================================\n",
      "\n",
      "\n",
      "SELECT c_custkey, c_name, SUM(o_totalprice) AS total_purchase\n",
      "FROM snowflake_sample_data.tpch_sf1.customer\n",
      "JOIN snowflake_sample_data.tpch_sf1.orders\n",
      "ON c_custkey = o_custkey\n",
      "GROUP BY c_custkey, c_name\n",
      "ORDER BY total_purchase\n",
      "DESC LIMIT 10\n",
      "\n",
      "==================================\u001B[1m Ai Message \u001B[0m==================================\n",
      "\n",
      "The query you provided aims to retrieve the top 10 customers based on the total purchase amount. It calculates the sum of the `O_TOTALPRICE` from the `ORDERS` table for each customer and then ranks the customers in descending order of total purchase amount.\n",
      "\n",
      "I will execute the provided query to get the top 10 customers based on their total purchase amount.\n",
      "Tool Calls:\n",
      "  sql_database_query (call_0XzB9V8OOyOvTu9qsGM4f7uD)\n",
      " Call ID: call_0XzB9V8OOyOvTu9qsGM4f7uD\n",
      "  Args:\n",
      "    query: SELECT C_CUSTKEY, C_NAME, SUM(O_TOTALPRICE) AS TOTAL_PURCHASE FROM SNOWFLAKE_SAMPLE_DATA.TPCH_SF1.CUSTOMER JOIN SNOWFLAKE_SAMPLE_DATA.TPCH_SF1.ORDERS ON C_CUSTKEY = O_CUSTKEY GROUP BY C_CUSTKEY, C_NAME ORDER BY TOTAL_PURCHASE DESC LIMIT 10;\n",
      "<generator object Pregel.stream at 0x153665660>\n"
     ]
    }
   ],
   "source": [
    "# Example of using the SQL agent to run a SQL query directly.\n",
    "sample_sql_query = \"\"\"\n",
    "SELECT c_custkey, c_name, SUM(o_totalprice) AS total_purchase\n",
    "FROM snowflake_sample_data.tpch_sf1.customer\n",
    "JOIN snowflake_sample_data.tpch_sf1.orders\n",
    "ON c_custkey = o_custkey\n",
    "GROUP BY c_custkey, c_name\n",
    "ORDER BY total_purchase\n",
    "DESC LIMIT 10\n",
    "\"\"\"\n",
    "\n",
    "sql_agent.chat(sample_sql_query)"
   ],
   "metadata": {
    "collapsed": false
   }
  },
  {
   "cell_type": "code",
   "execution_count": 10,
   "outputs": [
    {
     "data": {
      "text/plain": "[(Decimal('143500'), 'Customer#000143500', Decimal('7012696.48')),\n (Decimal('95257'), 'Customer#000095257', Decimal('6563511.23')),\n (Decimal('87115'), 'Customer#000087115', Decimal('6457526.26')),\n (Decimal('131113'), 'Customer#000131113', Decimal('6311428.86')),\n (Decimal('103834'), 'Customer#000103834', Decimal('6306524.23')),\n (Decimal('134380'), 'Customer#000134380', Decimal('6291610.15')),\n (Decimal('69682'), 'Customer#000069682', Decimal('6287149.42')),\n (Decimal('102022'), 'Customer#000102022', Decimal('6273788.41')),\n (Decimal('98587'), 'Customer#000098587', Decimal('6265089.35')),\n (Decimal('85102'), 'Customer#000085102', Decimal('6135483.63'))]"
     },
     "execution_count": 10,
     "metadata": {},
     "output_type": "execute_result"
    }
   ],
   "source": [
    "sql_agent.call_tool(\"sql_database_query\", tool_id=\"call_0XzB9V8OOyOvTu9qsGM4f7uD\")"
   ],
   "metadata": {
    "collapsed": false
   }
  },
  {
   "cell_type": "code",
   "execution_count": null,
   "outputs": [],
   "source": [],
   "metadata": {
    "collapsed": false
   }
  }
 ],
 "metadata": {
  "kernelspec": {
   "display_name": "Python 3",
   "language": "python",
   "name": "python3"
  },
  "language_info": {
   "codemirror_mode": {
    "name": "ipython",
    "version": 2
   },
   "file_extension": ".py",
   "mimetype": "text/x-python",
   "name": "python",
   "nbconvert_exporter": "python",
   "pygments_lexer": "ipython2",
   "version": "2.7.6"
  }
 },
 "nbformat": 4,
 "nbformat_minor": 0
}
